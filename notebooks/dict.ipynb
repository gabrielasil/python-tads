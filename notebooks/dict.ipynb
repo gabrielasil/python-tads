{
 "cells": [
  {
   "cell_type": "markdown",
   "metadata": {
    "colab_type": "text",
    "id": "IucX_uN0BNAa"
   },
   "source": [
    "# Dicionários\n",
    "\n",
    "---\n",
    "\n",
    "Autores (link do github):\n",
    "\n",
    "* [João Marcos](https://github.com/marcospb19) \n",
    "\n",
    "* [Marlon Secundo](https://github.com/marlonsecundo) \n",
    "\n",
    "* [João Vítor Fonseca](https://github.com/vitor177) \n",
    "\n",
    "* [Marcelo Moura](https://github.com/marcelomoura1511)"
   ]
  },
  {
   "cell_type": "markdown",
   "metadata": {
    "colab_type": "text",
    "id": "6UDLvcpmF7sA"
   },
   "source": [
    "# Introdução"
   ]
  },
  {
   "cell_type": "markdown",
   "metadata": {
    "colab_type": "text",
    "id": "r20Np1WI4CUM"
   },
   "source": [
    "## O que é um dicionário?"
   ]
  },
  {
   "cell_type": "markdown",
   "metadata": {
    "colab_type": "text",
    "id": "5ZMP7iEyKCT1"
   },
   "source": [
    "Dicionário é uma estrutura de dados abstrata que pode guardar informações, essas informações precisam ser acessadas através de chaves únicas.\n",
    "\n",
    "Dicionários são variáveis no python, podem ser deletadas, atribuídas, enfim...\n",
    "\n",
    "Diferentemente de listas e tuplas, dicionários não necessariamente usam o conceito de sequência (0, 1, 2...)."
   ]
  },
  {
   "cell_type": "code",
   "execution_count": null,
   "metadata": {
    "colab": {
     "base_uri": "https://localhost:8080/",
     "height": 35
    },
    "colab_type": "code",
    "id": "11LuljRbRrun",
    "outputId": "00416fa3-80cf-4de2-fbbb-aec2b045fbd4"
   },
   "outputs": [],
   "source": [
    "import sys\n",
    "print(sys.version[:5])"
   ]
  },
  {
   "cell_type": "markdown",
   "metadata": {
    "colab_type": "text",
    "id": "J9xUFZPISPgj"
   },
   "source": [
    "Estamos usando a versão 3.6, alguns métodos de dicionários mudam de nome ou comportamento entre diferentes versões (lembre-se disso quando for usar em outras versões).\n",
    "\n",
    "\n",
    "Antes de começar: algumas partes do código precisam da anterior, então tente reproduzir linearmente.\n"
   ]
  },
  {
   "cell_type": "markdown",
   "metadata": {
    "colab_type": "text",
    "id": "3d6L9R4CN-d2"
   },
   "source": [
    "## Básico"
   ]
  },
  {
   "cell_type": "markdown",
   "metadata": {
    "colab_type": "text",
    "id": "4qVEzt55paKY"
   },
   "source": [
    "Vamos começar inicializando dois dicionários vazios, então vamos imprimir ambos e verificar o seus tipos:"
   ]
  },
  {
   "cell_type": "code",
   "execution_count": 1,
   "metadata": {
    "colab": {
     "base_uri": "https://localhost:8080/",
     "height": 85
    },
    "colab_type": "code",
    "id": "SCpOnbbKRg5E",
    "outputId": "d3e8c25f-9292-4112-cc0b-b4146ece7d02"
   },
   "outputs": [
    {
     "name": "stdout",
     "output_type": "stream",
     "text": [
      "{}\n",
      "{}\n",
      "A variável 'var1'       é do tipo:  <class 'dict'>\n",
      "A variável 'dicionario' é do tipo:  <class 'dict'>\n"
     ]
    }
   ],
   "source": [
    "var1       = {}\n",
    "dicionario = {}\n",
    "\n",
    "print(var1)\n",
    "print(dicionario)\n",
    "\n",
    "print(\"A variável 'var1'       é do tipo: \" , type(var1))\n",
    "print(\"A variável 'dicionario' é do tipo: \" , type(dicionario))"
   ]
  },
  {
   "cell_type": "markdown",
   "metadata": {
    "colab_type": "text",
    "id": "JmBtV91MTB1q"
   },
   "source": [
    "Vamos apagar (assim como qualquer variável) os dicionários 'var1' e 'dicionario', e criar 'd'"
   ]
  },
  {
   "cell_type": "code",
   "execution_count": 2,
   "metadata": {
    "colab": {
     "base_uri": "https://localhost:8080/",
     "height": 34
    },
    "colab_type": "code",
    "id": "Tm53WH6suour",
    "outputId": "9ed4f917-a5b6-4076-a21c-22438c434a1a"
   },
   "outputs": [
    {
     "name": "stdout",
     "output_type": "stream",
     "text": [
      "{} <class 'dict'>\n"
     ]
    }
   ],
   "source": [
    "del var1\n",
    "del dicionario\n",
    "\n",
    "d = {}\n",
    "print(d , type(d))"
   ]
  },
  {
   "cell_type": "markdown",
   "metadata": {
    "colab_type": "text",
    "id": "erxNWRnnu8DG"
   },
   "source": [
    "Agora vamos adicionar chaves e valores à **`d`**"
   ]
  },
  {
   "cell_type": "code",
   "execution_count": 3,
   "metadata": {
    "colab": {
     "base_uri": "https://localhost:8080/",
     "height": 68
    },
    "colab_type": "code",
    "id": "E1B8ZkVDTXkx",
    "outputId": "ffb52efd-1390-452f-abf5-f8465885b4c2"
   },
   "outputs": [
    {
     "name": "stdout",
     "output_type": "stream",
     "text": [
      "100\n",
      "10\n",
      "0\n"
     ]
    }
   ],
   "source": [
    "d[3] = 100\n",
    "d[1] = 10\n",
    "d[10] = 0\n",
    "\n",
    "print(d[3])\n",
    "print(d[1])\n",
    "print(d[10])"
   ]
  },
  {
   "cell_type": "markdown",
   "metadata": {
    "colab_type": "text",
    "id": "AANBeHPhv9yU"
   },
   "source": [
    "Adicionamos 3 chaves, 3, 1 e 10. Perceba que não há sequência ou relação entre esses números\n",
    "\n",
    "\n",
    "Ao escrever: \n",
    "\n",
    "`d[3] = 100`\n",
    "\n",
    "estamos dizendo que a chave `3` possui valor `100`.\n",
    "\n",
    "Chaves são únicas e simplesmente apontam para seu conteúdo, sem mistério.\n",
    "\n",
    "Vamos imprimir `d`:"
   ]
  },
  {
   "cell_type": "code",
   "execution_count": 4,
   "metadata": {
    "colab": {
     "base_uri": "https://localhost:8080/",
     "height": 34
    },
    "colab_type": "code",
    "id": "Wlk1wx6xw8rj",
    "outputId": "2cd9b4b5-ccf6-4360-890b-09ad35690a8b"
   },
   "outputs": [
    {
     "name": "stdout",
     "output_type": "stream",
     "text": [
      "d = {3: 100, 1: 10, 10: 0}\n"
     ]
    }
   ],
   "source": [
    "print(\"d =\" , d)"
   ]
  },
  {
   "cell_type": "markdown",
   "metadata": {},
   "source": [
    "Vou separar em linhas para que possamos entender melhor:"
   ]
  },
  {
   "cell_type": "code",
   "execution_count": 5,
   "metadata": {},
   "outputs": [],
   "source": [
    "d = { \n",
    " 3: 100,\n",
    " 1: 10,\n",
    " 10: 0\n",
    "}"
   ]
  },
  {
   "cell_type": "markdown",
   "metadata": {
    "colab_type": "text",
    "id": "JdORNEPaxCe8"
   },
   "source": [
    "Podemos ver claramente, cada chave na esquerda com seu valor correspondente na direita, e cada entrada separada por vírgula."
   ]
  },
  {
   "cell_type": "markdown",
   "metadata": {
    "colab_type": "text",
    "id": "bzUAUrqsyA5w"
   },
   "source": [
    "Ao invés de criarmos um dicionário vazio e ir adicionando valores individualmente, podemos criar um dicionário com todos esses valores.\n",
    "\n",
    "Só vamos precisar mudar um pouco o texto escrito (vejam os comentários abaixo)."
   ]
  },
  {
   "cell_type": "code",
   "execution_count": 6,
   "metadata": {
    "colab": {
     "base_uri": "https://localhost:8080/",
     "height": 51
    },
    "colab_type": "code",
    "id": "QpRiqqjx1WI1",
    "outputId": "6cc954c5-73d1-4e03-83d3-93f1f5ffba11"
   },
   "outputs": [
    {
     "name": "stdout",
     "output_type": "stream",
     "text": [
      "100 10 0\n",
      "100 10 0\n"
     ]
    }
   ],
   "source": [
    "# Criando um dicionário vazio e adicionando os valores/chaves\n",
    "d = {}\n",
    "d[3] = 100\n",
    "d[1] = 10\n",
    "d[10] = 0\n",
    "\n",
    "# Mostrando os valores\n",
    "print(d[3] , d[1] , d[10])\n",
    "\n",
    "\n",
    "# Criando um dicionário com valores/chaves\n",
    "d = {\n",
    "\t3: 100,\n",
    "\t1: 10,\n",
    "\t10: 0\n",
    "}\n",
    "\n",
    "# Mostrando novamente os valores\n",
    "print(d[3] , d[1] , d[10])"
   ]
  },
  {
   "cell_type": "markdown",
   "metadata": {
    "colab_type": "text",
    "id": "sPlM5IexOL7o"
   },
   "source": [
    "O operador `del` também é utilizado para remover entradas"
   ]
  },
  {
   "cell_type": "code",
   "execution_count": 7,
   "metadata": {
    "colab": {
     "base_uri": "https://localhost:8080/",
     "height": 34
    },
    "colab_type": "code",
    "id": "H-tYULf9Oa6q",
    "outputId": "5441af76-47bf-4ea1-e521-36e470223a0a"
   },
   "outputs": [
    {
     "name": "stdout",
     "output_type": "stream",
     "text": [
      "{10: 0}\n"
     ]
    }
   ],
   "source": [
    "del d[3]\n",
    "del d[1]\n",
    "print(d)"
   ]
  },
  {
   "cell_type": "markdown",
   "metadata": {
    "colab_type": "text",
    "id": "iSZ6Lcxk5o3C"
   },
   "source": [
    "### Exercício 1 "
   ]
  },
  {
   "cell_type": "markdown",
   "metadata": {
    "colab_type": "text",
    "id": "zBnDZOenQFMM"
   },
   "source": [
    "\n",
    "#### Parte 1\n",
    "\n",
    "Modifique a declaração do dicionário e faça as correções solicitadas.\n",
    "\n",
    "- Remova a chave 2019\n",
    "\n",
    "- Mude o valor da chave version para \"3.6.7\"\n",
    "\n",
    "- Adicione a chave \"language\" com o valor \"python\""
   ]
  },
  {
   "cell_type": "code",
   "execution_count": 9,
   "metadata": {
    "colab": {},
    "colab_type": "code",
    "id": "xUVwyq3IPSGL"
   },
   "outputs": [
    {
     "name": "stdout",
     "output_type": "stream",
     "text": [
      "{'version': '3.6.7', 'language': 'python'}\n"
     ]
    }
   ],
   "source": [
    "dicionario = {\n",
    "\t\"version\": \"3.6.2\",\n",
    "\t2019: 0\n",
    "}\n",
    "\n",
    "dicionario = {\n",
    "\t\"version\": \"3.6.7\",\n",
    "\t\"language\": \"python\"\n",
    "}\n",
    "\n",
    "print(dicionario)\n"
   ]
  },
  {
   "cell_type": "markdown",
   "metadata": {
    "colab_type": "text",
    "id": "TMHgGMCa4sKk"
   },
   "source": [
    "#### Parte 2\n",
    "\n",
    "Refaça as alterações da parte 1, porém dessa vez você não poderá mudar a declaração do dicionário, só pode adicionar e remover em nas outras linhas.\n",
    "\n",
    "\n"
   ]
  },
  {
   "cell_type": "code",
   "execution_count": 10,
   "metadata": {
    "colab": {},
    "colab_type": "code",
    "id": "mqlaJauDh4Ti"
   },
   "outputs": [
    {
     "name": "stdout",
     "output_type": "stream",
     "text": [
      "{'version': '3.6.7', 'language': 'python'}\n"
     ]
    }
   ],
   "source": [
    "dicionario = {\n",
    "\t\"version\": \"3.6.2\",\n",
    "\t2019: 0\n",
    "}\n",
    "\n",
    "# Faça as alterações aqui embaixo!\n",
    "del dicionario[2019]\n",
    "dicionario[\"version\"] = \"3.6.7\"\n",
    "dicionario[\"language\"] = \"python\"\n",
    "\n",
    "print(dicionario)\n",
    "\n"
   ]
  },
  {
   "cell_type": "markdown",
   "metadata": {
    "colab_type": "text",
    "id": "URV-o1k0N5Yl"
   },
   "source": [
    "## Avançado"
   ]
  },
  {
   "cell_type": "markdown",
   "metadata": {
    "colab_type": "text",
    "id": "5V1rxbTr0hwt"
   },
   "source": [
    "Nos 3 exemplos que vimos, tanto chaves quanto valores eram inteiros, porém também podemos usar outros tipos:\n",
    "\n",
    "* para chaves, podemos usar `int`, `float`, e strings\n",
    "* para valores, podemos usar quase qualquer coisa.\n",
    "\n",
    "Veja esse exemplo:"
   ]
  },
  {
   "cell_type": "code",
   "execution_count": 11,
   "metadata": {
    "colab": {
     "base_uri": "https://localhost:8080/",
     "height": 238
    },
    "colab_type": "code",
    "id": "cZosf8EGWUrF",
    "outputId": "d3cdd40f-b575-41cd-97d9-a8a8841e9959"
   },
   "outputs": [
    {
     "name": "stdout",
     "output_type": "stream",
     "text": [
      "Dados:\n",
      "10.5\n",
      "meu peso\n",
      "[1, 2, 3]\n",
      "{10: 'dez'}\n",
      "dez\n",
      "\n",
      "Tipos:\n",
      "<class 'float'>\n",
      "<class 'str'>\n",
      "<class 'list'>\n",
      "<class 'dict'>\n",
      "<class 'str'>\n"
     ]
    }
   ],
   "source": [
    "d = {\n",
    "\t-5 : 10.5,\n",
    "\t64.5 : \"meu peso\",\n",
    "\n",
    "\t\"lista\" : [1 , 2 , 3],\n",
    "\n",
    "\t\"dicionario\" : {\n",
    "\t\t10 : \"dez\",\n",
    "\t}\n",
    "}\n",
    "\n",
    "print(\"Dados:\")\n",
    "print(d[-5])\n",
    "print(d[64.5])\n",
    "print(d[\"lista\"])\n",
    "print(d[\"dicionario\"])\n",
    "print(d[\"dicionario\"][10])\n",
    "\n",
    "print(\"\\nTipos:\")\n",
    "print(type(d[-5]))\n",
    "print(type(d[64.5]))\n",
    "print(type(d[\"lista\"]))\n",
    "print(type(d[\"dicionario\"]))\n",
    "print(type(d[\"dicionario\"][10]))"
   ]
  },
  {
   "cell_type": "markdown",
   "metadata": {
    "colab_type": "text",
    "id": "aktkq6KYW0Ue"
   },
   "source": [
    "A chave `\"Dicionário\"` possui um dicionário!\n",
    "\n",
    "Veja outro exemplo desse empacotamento:"
   ]
  },
  {
   "cell_type": "code",
   "execution_count": 12,
   "metadata": {
    "colab": {},
    "colab_type": "code",
    "id": "XvbzSH4YXMDo"
   },
   "outputs": [],
   "source": [
    "tabelaPeriodica = {\n",
    "\n",
    "\t\"Na\" : {\n",
    "\t\t\"Massa\" : 22.990,\n",
    "\t\t\"Número atômico\" : 11,\n",
    "\t\t\"Nome\" : \"Sódio\"\n",
    "\t},\n",
    "\n",
    "\t\"Cl\" : [\"Cloro\" , 35.453 , 17]\n",
    "}"
   ]
  },
  {
   "cell_type": "markdown",
   "metadata": {
    "colab_type": "text",
    "id": "JF-AZ9Z_ZdOU"
   },
   "source": [
    "O dicionário chamado tabelaPeriodica possui duas chaves: `\"Cl\"` e `\"Na\"`\n",
    "\n",
    "* `\"Cl\"` é um dicionário que possui 3 chaves\n",
    "* `\"Na\"` é uma lista com 3 elementos\n",
    "\n",
    "Veja como é feito o acesso em vários níveis dentro de um dicionário:"
   ]
  },
  {
   "cell_type": "code",
   "execution_count": 13,
   "metadata": {
    "colab": {
     "base_uri": "https://localhost:8080/",
     "height": 136
    },
    "colab_type": "code",
    "id": "Cu54c5X6ac30",
    "outputId": "65284e41-2e02-4d2e-9a12-b0a68fcd98f2"
   },
   "outputs": [
    {
     "ename": "TypeError",
     "evalue": "list indices must be integers or slices, not str",
     "output_type": "error",
     "traceback": [
      "\u001b[0;31m---------------------------------------------------------------------------\u001b[0m",
      "\u001b[0;31mTypeError\u001b[0m                                 Traceback (most recent call last)",
      "\u001b[0;32m/tmp/ipykernel_82239/1304168158.py\u001b[0m in \u001b[0;36m<module>\u001b[0;34m\u001b[0m\n\u001b[0;32m----> 1\u001b[0;31m \u001b[0mprint\u001b[0m\u001b[0;34m(\u001b[0m\u001b[0mtabelaPeriodica\u001b[0m\u001b[0;34m[\u001b[0m\u001b[0;34m\"Cl\"\u001b[0m\u001b[0;34m]\u001b[0m\u001b[0;34m[\u001b[0m\u001b[0;34m\"Nome\"\u001b[0m\u001b[0;34m]\u001b[0m\u001b[0;34m)\u001b[0m\u001b[0;34m\u001b[0m\u001b[0;34m\u001b[0m\u001b[0m\n\u001b[0m\u001b[1;32m      2\u001b[0m \u001b[0mprint\u001b[0m\u001b[0;34m(\u001b[0m\u001b[0;34m\"Massa:\"\u001b[0m \u001b[0;34m,\u001b[0m \u001b[0mtabelaPeriodica\u001b[0m\u001b[0;34m[\u001b[0m\u001b[0;34m\"Cl\"\u001b[0m\u001b[0;34m]\u001b[0m\u001b[0;34m[\u001b[0m\u001b[0;34m\"Massa\"\u001b[0m\u001b[0;34m]\u001b[0m\u001b[0;34m)\u001b[0m\u001b[0;34m\u001b[0m\u001b[0;34m\u001b[0m\u001b[0m\n\u001b[1;32m      3\u001b[0m \u001b[0mprint\u001b[0m\u001b[0;34m(\u001b[0m\u001b[0;34m\"Número atômico:\"\u001b[0m \u001b[0;34m,\u001b[0m \u001b[0mtabelaPeriodica\u001b[0m\u001b[0;34m[\u001b[0m\u001b[0;34m\"Cl\"\u001b[0m\u001b[0;34m]\u001b[0m\u001b[0;34m[\u001b[0m\u001b[0;34m\"Número atômico\"\u001b[0m\u001b[0;34m]\u001b[0m\u001b[0;34m)\u001b[0m\u001b[0;34m\u001b[0m\u001b[0;34m\u001b[0m\u001b[0m\n\u001b[1;32m      4\u001b[0m \u001b[0;34m\u001b[0m\u001b[0m\n\u001b[1;32m      5\u001b[0m \u001b[0mprint\u001b[0m\u001b[0;34m(\u001b[0m\u001b[0;34m)\u001b[0m \u001b[0;31m# Pula uma linha\u001b[0m\u001b[0;34m\u001b[0m\u001b[0;34m\u001b[0m\u001b[0m\n",
      "\u001b[0;31mTypeError\u001b[0m: list indices must be integers or slices, not str"
     ]
    }
   ],
   "source": [
    "print(tabelaPeriodica[\"Cl\"][\"Nome\"])\n",
    "print(\"Massa:\" , tabelaPeriodica[\"Cl\"][\"Massa\"])\n",
    "print(\"Número atômico:\" , tabelaPeriodica[\"Cl\"][\"Número atômico\"])\n",
    "\n",
    "print() # Pula uma linha\n",
    "\n",
    "print(tabelaPeriodica[\"Na\"][0])\n",
    "print(\"Massa:\" , tabelaPeriodica[\"Na\"][1])\n",
    "print(\"Número atômico:\" , tabelaPeriodica[\"Na\"][2])"
   ]
  },
  {
   "cell_type": "markdown",
   "metadata": {
    "colab_type": "text",
    "id": "6u91ly7PbWT-"
   },
   "source": [
    "Acessamos o elemento do elemento, ou seja:\n",
    "\n",
    "* com dois níveis: `nome_dict[chave_x][chave_y]`\n",
    "* com três niveis: `nome_dict[chave_x][chave_y][chave_z]`"
   ]
  },
  {
   "cell_type": "markdown",
   "metadata": {
    "colab_type": "text",
    "id": "WXQfvsLjogYr"
   },
   "source": [
    "### Exercício 2"
   ]
  },
  {
   "cell_type": "markdown",
   "metadata": {
    "colab_type": "text",
    "id": "bRCe_AUYomC8"
   },
   "source": [
    "Crie um dicionário qualquer e adicione uma entrada nele, onde o valor dessa entrada seja outro dicionário. Em seguida, adicione uma entrada no dicionário interno e imprima na tela seu valor designado."
   ]
  },
  {
   "cell_type": "code",
   "execution_count": 14,
   "metadata": {
    "colab": {},
    "colab_type": "code",
    "id": "sx-zPBy9pG5c"
   },
   "outputs": [
    {
     "name": "stdout",
     "output_type": "stream",
     "text": [
      "2\n"
     ]
    }
   ],
   "source": [
    "pao = {\n",
    "    \n",
    "    \"hamburguer\" : {\n",
    "        \"sal\": 1,\n",
    "        \"tempero\": 2\n",
    "    }\n",
    "}\n",
    "\n",
    "print(pao[\"hamburguer\"][\"tempero\"])"
   ]
  },
  {
   "cell_type": "markdown",
   "metadata": {
    "colab_type": "text",
    "id": "gjvbtwpZjOu8"
   },
   "source": [
    "---\n",
    "\n",
    "Todas as vezes que mostramos o tipo dos dicionários vimos o seguinte:\n",
    "\n",
    "`<class 'dict'>`\n",
    "\n",
    "Vamos utilizar o construtor da classe `dict` diretamente agora para criar um dicionário\n"
   ]
  },
  {
   "cell_type": "code",
   "execution_count": 15,
   "metadata": {
    "colab": {
     "base_uri": "https://localhost:8080/",
     "height": 68
    },
    "colab_type": "code",
    "id": "pTJe8N2ojmjD",
    "outputId": "e552ee7e-ccd4-4469-de78-143d3875bf12"
   },
   "outputs": [
    {
     "name": "stdout",
     "output_type": "stream",
     "text": [
      "{}\n",
      "<class 'dict'>\n"
     ]
    }
   ],
   "source": [
    "dicionario = dict()\n",
    "print(dicionario)\n",
    "print(type(dicionario))"
   ]
  },
  {
   "cell_type": "markdown",
   "metadata": {
    "colab_type": "text",
    "id": "L1fN3AuMkBBd"
   },
   "source": [
    "A classe também pode receber argumentos para já criar um dicionário preenchido.\n",
    "\n",
    "Para isso vamos ter que passar uma lista na criação do dicionário. Cada elemento dessa lista deve conter um par de dados: a chave e o valor.\n",
    "\n",
    "Ou seja, cada elemento da lista é uma entrada no dicionário, e cada entrada no dicionário, como já vimos, é sempre formada por dois dados.\n",
    "\n",
    "Na prática:"
   ]
  },
  {
   "cell_type": "code",
   "execution_count": 16,
   "metadata": {
    "colab": {
     "base_uri": "https://localhost:8080/",
     "height": 34
    },
    "colab_type": "code",
    "id": "33FMhoY1k391",
    "outputId": "4f090db8-7464-4f29-a2d7-d84a26c78cc8"
   },
   "outputs": [
    {
     "name": "stdout",
     "output_type": "stream",
     "text": [
      "{1: 'um', 2: 'dois'}\n"
     ]
    }
   ],
   "source": [
    "dicionario = dict([ (1,\"um\") , (2,\"dois\") ])\n",
    "print(dicionario)"
   ]
  },
  {
   "cell_type": "markdown",
   "metadata": {
    "colab_type": "text",
    "id": "2QwZsz5clHdG"
   },
   "source": [
    "Veja, para a criação da classe dict passamos uma lista [ ], e dentro dessa lista passamos dois elementos, dois pares de dados.\n",
    "\n",
    "<!---\n",
    "Esse exemplo pode ser reescrito de diversas formas diferentes:\n",
    "--->"
   ]
  },
  {
   "cell_type": "markdown",
   "metadata": {
    "colab_type": "text",
    "id": "UWiZIdGSLPms"
   },
   "source": [
    "### Exercício 3"
   ]
  },
  {
   "cell_type": "markdown",
   "metadata": {
    "colab_type": "text",
    "id": "HSkankBhiWEY"
   },
   "source": [
    "Crie um dicionário diretamente atribuindo a classe `dict()` para que ele seja igual ao dicionario d abaixo"
   ]
  },
  {
   "cell_type": "code",
   "execution_count": 19,
   "metadata": {
    "colab": {},
    "colab_type": "code",
    "id": "8ptQ54nKnisz"
   },
   "outputs": [
    {
     "name": "stdout",
     "output_type": "stream",
     "text": [
      "Tudo certo!\n"
     ]
    }
   ],
   "source": [
    "d = {\n",
    "\t1 : 2,\n",
    "\t2 : 4\n",
    "}\n",
    "\n",
    "\n",
    "dicionario = dict([(1, 2), (2, 4)])\n",
    "\n",
    "if d == dicionario:\n",
    "    print(\"Tudo certo!\")"
   ]
  },
  {
   "cell_type": "markdown",
   "metadata": {
    "colab_type": "text",
    "id": "z-lHBTWXpdso"
   },
   "source": [
    "# Métodos\n",
    "\n",
    "Vamos aprender alguns métodos para facilitar o uso dos dicionários."
   ]
  },
  {
   "cell_type": "markdown",
   "metadata": {
    "colab_type": "text",
    "id": "UAJx2JSizLZD"
   },
   "source": [
    "## Função dir\n",
    "\n",
    "Antes de começar com os métodos, lembre da função `dir`!\n",
    "\n",
    "Quando for usar os métodos de um dicionário, lista, conjunto ou qualquer outro tipo de dado abstrato, use a função `di`` para relembrar todos os métodos!\n",
    "\n",
    "(os métodos mais importantes são os que não possuem a estrutura `__nome__`. Veja os que estão no final, que são mais interessantes)"
   ]
  },
  {
   "cell_type": "code",
   "execution_count": 20,
   "metadata": {
    "colab": {
     "base_uri": "https://localhost:8080/",
     "height": 54
    },
    "colab_type": "code",
    "id": "yLk5dN7Rz2al",
    "outputId": "f400ae8e-3952-4a71-b2a1-064f6f0b142e"
   },
   "outputs": [
    {
     "name": "stdout",
     "output_type": "stream",
     "text": [
      "['__class__', '__class_getitem__', '__contains__', '__delattr__', '__delitem__', '__dir__', '__doc__', '__eq__', '__format__', '__ge__', '__getattribute__', '__getitem__', '__gt__', '__hash__', '__init__', '__init_subclass__', '__ior__', '__iter__', '__le__', '__len__', '__lt__', '__ne__', '__new__', '__or__', '__reduce__', '__reduce_ex__', '__repr__', '__reversed__', '__ror__', '__setattr__', '__setitem__', '__sizeof__', '__str__', '__subclasshook__', 'clear', 'copy', 'fromkeys', 'get', 'items', 'keys', 'pop', 'popitem', 'setdefault', 'update', 'values']\n"
     ]
    }
   ],
   "source": [
    "exemplo = {}\n",
    "print(dir(exemplo))\n",
    "\n",
    "# Python sabe que 'exemplo' é um dicionário, então vai nos mostrar todos os métodos do dicionário exemplo\n",
    "\n",
    "# Essa dica também vale para outros tipos de dados, e bibliotecas!!!\n",
    "# import math\n",
    "# print(dir(math))\n",
    "# lista = []\n",
    "# print(dir(lista))"
   ]
  },
  {
   "cell_type": "markdown",
   "metadata": {
    "colab_type": "text",
    "id": "v6c1YOlO0Z8w"
   },
   "source": [
    "No final do dir vemos:\n",
    "`'clear', 'copy', 'fromkeys', 'get', 'items', 'keys', 'pop', 'popitem', 'setdefault', 'update', 'values'`\n",
    "\n",
    "Vamos agora falar sobre todos esses métodos."
   ]
  },
  {
   "cell_type": "markdown",
   "metadata": {
    "colab_type": "text",
    "id": "_eQ_QnYfBrP1"
   },
   "source": [
    "## Clear\n",
    "\n",
    "O método clear vai nos servir para remover todas as entradas de um dicionário."
   ]
  },
  {
   "cell_type": "code",
   "execution_count": 21,
   "metadata": {
    "colab": {
     "base_uri": "https://localhost:8080/",
     "height": 35
    },
    "colab_type": "code",
    "id": "-DQoE0k-ByLA",
    "outputId": "72c983d7-9324-490d-9f38-7fad2216f631"
   },
   "outputs": [
    {
     "name": "stdout",
     "output_type": "stream",
     "text": [
      "{}\n"
     ]
    }
   ],
   "source": [
    "dicionario = {\n",
    "\t\"Maçã\":\"1\",\n",
    "\t\"Banana\":\"2\",\n",
    "\t\"Uva\":\"3\"\n",
    "}\n",
    "\n",
    "dicionario.clear()\n",
    "print(dicionario)"
   ]
  },
  {
   "cell_type": "markdown",
   "metadata": {
    "colab_type": "text",
    "id": "xhDkveA2B7Io"
   },
   "source": [
    "## Copy\n",
    "\n",
    "O método copy vai nos retornar um outro dicionário, que contém o mesmo conteúdo. \n",
    "\n",
    "Veja um exemplo em que é usado apenas associação, sem o uso do método proposto.\n"
   ]
  },
  {
   "cell_type": "code",
   "execution_count": 22,
   "metadata": {
    "colab": {
     "base_uri": "https://localhost:8080/",
     "height": 35
    },
    "colab_type": "code",
    "id": "n5HtKB39B96C",
    "outputId": "49bb9c83-7915-4bf9-f817-e6771b99a38f"
   },
   "outputs": [
    {
     "name": "stdout",
     "output_type": "stream",
     "text": [
      "{}\n"
     ]
    }
   ],
   "source": [
    "dicionario = {\"Maçã\":\"1\", \"Banana\":\"2\", \"Uva\":\"3\"}\n",
    "dicionariocopia = dicionario\n",
    "dicionario.clear()\n",
    "print(dicionariocopia)"
   ]
  },
  {
   "cell_type": "markdown",
   "metadata": {
    "colab_type": "text",
    "id": "F6eGDHeJCBdF"
   },
   "source": [
    "Note que mesmo associando o dicionário ao dicionario cópia, não conseguimos copiar o conteúdo do dicionário somente com a associação.\n",
    "\n",
    "Numa eventual alteração eu perderia alguns dados, pois o Python somente copia a referência do `dict`. Para copiar devidamente usamos o método `copy`.\n"
   ]
  },
  {
   "cell_type": "code",
   "execution_count": 23,
   "metadata": {
    "colab": {
     "base_uri": "https://localhost:8080/",
     "height": 35
    },
    "colab_type": "code",
    "id": "Hn8qYEPZCK5E",
    "outputId": "8c55b60a-a766-4a66-fb2c-e0e4073757e9"
   },
   "outputs": [
    {
     "name": "stdout",
     "output_type": "stream",
     "text": [
      "{'Maçã': '1', 'Banana': '2', 'Uva': '3'}\n"
     ]
    }
   ],
   "source": [
    "dicionario = {\"Maçã\":\"1\", \"Banana\":\"2\", \"Uva\":\"3\"}\n",
    "dicionariocopia = dicionario.copy()\n",
    "dicionario.clear()\n",
    "print(dicionariocopia)"
   ]
  },
  {
   "cell_type": "markdown",
   "metadata": {
    "colab_type": "text",
    "id": "Qfl8X88-CLi9"
   },
   "source": [
    "### Exercício 4\n",
    "\n",
    "- Dado o dicionário abaixo, atribua as informações à um dicionário reserva de cópia chamado dicionario_reserva.\n",
    "\n",
    "- Remova todo o conteúdo do dicionário principal usando o método `clear`, então veja como ficou a saída do dicionário reserva. \n"
   ]
  },
  {
   "cell_type": "code",
   "execution_count": 24,
   "metadata": {
    "colab": {},
    "colab_type": "code",
    "id": "uk-XdfsSCPbn"
   },
   "outputs": [
    {
     "name": "stdout",
     "output_type": "stream",
     "text": [
      "{'EDB': '15', 'LP1': '25', 'FMC2': '41', 'ITP': '78'}\n"
     ]
    }
   ],
   "source": [
    "dicionario = {\"EDB\":\"15\", \"LP1\":\"25\", \"FMC2\":\"41\", \"ITP\":\"78\"}\n",
    "dicionario_reserva = dicionario.copy()\n",
    "dicionario.clear()\n",
    "print(dicionario_reserva)"
   ]
  },
  {
   "cell_type": "markdown",
   "metadata": {
    "colab_type": "text",
    "id": "dVtFVI8CCQ6Y"
   },
   "source": [
    "## Fromkeys\n",
    "\n",
    "O método fromkeys vai nos servir para retornar um novo dicionário com a sequência dos argumentos fornecida como as chaves do dicionário. \n",
    "\n",
    "Ele tem dois parámetros:\n",
    "\n",
    "1.   `sequence`: sequência de chaves.\n",
    "\n",
    "2.   `value` (opcional): valor definido todos os elementos do dicionário.\n",
    "\n",
    "Obs: Caso o valor não seja especificado (segundo parâmetro), é usado `None` por padrão.\n",
    "\n",
    "Neste primeiro exemplo, o ***dicionario*** está recebendo um novo dicionário, onde a sequência dos elementos são dados pela lista ***chaves***"
   ]
  },
  {
   "cell_type": "code",
   "execution_count": 25,
   "metadata": {
    "colab": {
     "base_uri": "https://localhost:8080/",
     "height": 34
    },
    "colab_type": "code",
    "id": "QU87nRbrCT8S",
    "outputId": "dbecdd73-f269-4403-bbeb-c7dc2b6df44f"
   },
   "outputs": [
    {
     "name": "stdout",
     "output_type": "stream",
     "text": [
      "{'Pedro': None, 'Lucas': None, 'João': None, 'Ana': None, 'Maria': None}\n"
     ]
    }
   ],
   "source": [
    "chaves = {\"João\", \"Pedro\", \"Maria\", \"Lucas\",\"Ana\"}\n",
    "dicionario = dict.fromkeys(chaves)\n",
    "print(dicionario)"
   ]
  },
  {
   "cell_type": "markdown",
   "metadata": {
    "colab_type": "text",
    "id": "BMTKcA5RCXOS"
   },
   "source": [
    "No segundo exemplo, usamos o segundo parâmetro do método ***fromkeys***. "
   ]
  },
  {
   "cell_type": "code",
   "execution_count": 26,
   "metadata": {
    "colab": {
     "base_uri": "https://localhost:8080/",
     "height": 34
    },
    "colab_type": "code",
    "id": "JUmBhzRPCja2",
    "outputId": "8b7a13a3-09e9-4549-a122-5112c0e372a6"
   },
   "outputs": [
    {
     "name": "stdout",
     "output_type": "stream",
     "text": [
      "{'João': 'Estudante', 'Pedro': 'Estudante', 'Maria': 'Estudante'}\n"
     ]
    }
   ],
   "source": [
    "chaves = {\"João\", \"Pedro\", \"Maria\"}\n",
    "valores = \"Estudante\"\n",
    "dicionario = dict.fromkeys(chaves, valores)\n",
    "print(dicionario)"
   ]
  },
  {
   "cell_type": "markdown",
   "metadata": {
    "colab_type": "text",
    "id": "r8GfdHN8Cpi0"
   },
   "source": [
    "### Exercício 5\n",
    "\n",
    "Crie um novo dicionário a partir da lista dada, em seguida atribua o valor \"profissões\" e mostre na tela a saída."
   ]
  },
  {
   "cell_type": "code",
   "execution_count": 29,
   "metadata": {
    "colab": {},
    "colab_type": "code",
    "id": "T2DCU7UGCqcD"
   },
   "outputs": [
    {
     "name": "stdout",
     "output_type": "stream",
     "text": [
      "{'professor': 'profissões', 'engenheiro': 'profissões', 'arquiteto': 'profissões', 'motorista': 'profissões'}\n"
     ]
    }
   ],
   "source": [
    "trabalho = {\"professor\", \"arquiteto\", \"engenheiro\", \"motorista\"}\n",
    "dicionario = dict.fromkeys(trabalho, \"profissões\")\n",
    "print(dicionario)\n"
   ]
  },
  {
   "cell_type": "markdown",
   "metadata": {
    "colab_type": "text",
    "id": "oaOOvMfuCuBB"
   },
   "source": [
    "## Get\n",
    "\n",
    "`.get(chave, valorPadrao)`\n",
    "\n",
    "Esse método tem a função de acessar um valor de uma chave do dicionário. Semelhante ao acesso padrão, porém o *get* aceita um valor padrão no segundo argumento caso a chave não seja encontrada.\n",
    "\n",
    "O segundo argumento é opcional, caso não seja dado segundo argumento, o valor padrão é \"None\".\n"
   ]
  },
  {
   "cell_type": "code",
   "execution_count": 30,
   "metadata": {
    "colab": {
     "base_uri": "https://localhost:8080/",
     "height": 69
    },
    "colab_type": "code",
    "id": "szfU2N17C2FO",
    "outputId": "207ba682-261e-4dd2-981e-df781ce62cae"
   },
   "outputs": [
    {
     "name": "stdout",
     "output_type": "stream",
     "text": [
      "Dracarys!\n",
      "The winter is coming\n",
      "Ops!\n"
     ]
    }
   ],
   "source": [
    "got = {\"daenerys\":\"Dracarys!\", \"john\":\"The winter is coming\"} \n",
    "\n",
    "print(got.get(\"daenerys\")) \n",
    "\n",
    "print(got.get(\"john\")) \n",
    "\n",
    "print(got.get(\"pickle_rick\",\"Ops!\")) "
   ]
  },
  {
   "cell_type": "markdown",
   "metadata": {
    "colab_type": "text",
    "id": "lM2CwH6AC5Hk"
   },
   "source": [
    "## Keys\n",
    "\n",
    "`.keys()`\n",
    "\n",
    "Esse método tem a função de retornar uma lista contendo todas as *chaves* de um dicionário."
   ]
  },
  {
   "cell_type": "code",
   "execution_count": 31,
   "metadata": {
    "colab": {
     "base_uri": "https://localhost:8080/",
     "height": 34
    },
    "colab_type": "code",
    "id": "HSF3UlhFC7p5",
    "outputId": "0e6e35c2-c9c1-46ac-a3fe-f6918a5cc026"
   },
   "outputs": [
    {
     "name": "stdout",
     "output_type": "stream",
     "text": [
      "dict_keys(['sheldon', 'penny', 'leonard', 'howard'])\n"
     ]
    }
   ],
   "source": [
    "tbbt = { \"sheldon\": \"bazingaaa!\", \"penny\": \"shut up!\", \"leonard\": \"what's going on?\", \"howard\": \"there we go again...\"  }\n",
    "\n",
    "chaves = tbbt.keys();\n",
    "\n",
    "print(chaves);"
   ]
  },
  {
   "cell_type": "markdown",
   "metadata": {
    "colab_type": "text",
    "id": "iYiPooi9u_oH"
   },
   "source": [
    "Esse método é muito importante pois permite a iteração das chaves do dicionário:"
   ]
  },
  {
   "cell_type": "code",
   "execution_count": 32,
   "metadata": {
    "colab": {
     "base_uri": "https://localhost:8080/",
     "height": 102
    },
    "colab_type": "code",
    "id": "2QwSVbXrvHxA",
    "outputId": "d16fc205-9c34-4be8-c12a-fd2179c641df"
   },
   "outputs": [
    {
     "name": "stdout",
     "output_type": "stream",
     "text": [
      "As chaves são:\n",
      "sheldon\n",
      "penny\n",
      "leonard\n",
      "howard\n"
     ]
    }
   ],
   "source": [
    "print(\"As chaves são:\")\n",
    "for i in tbbt.keys():\n",
    "    print(i)"
   ]
  },
  {
   "cell_type": "markdown",
   "metadata": {},
   "source": [
    "No entanto, pra iterar sobre um dicionário, também é possível usar diretamente o nome do dicionário, e o interpretador considerará as chaves:"
   ]
  },
  {
   "cell_type": "code",
   "execution_count": 33,
   "metadata": {},
   "outputs": [
    {
     "name": "stdout",
     "output_type": "stream",
     "text": [
      "As chaves são:\n",
      "sheldon\n",
      "penny\n",
      "leonard\n",
      "howard\n"
     ]
    }
   ],
   "source": [
    "print(\"As chaves são:\")\n",
    "for i in tbbt:\n",
    "    print(i)"
   ]
  },
  {
   "cell_type": "markdown",
   "metadata": {
    "colab_type": "text",
    "id": "tTTfCFeVDCPD"
   },
   "source": [
    "## Values\n",
    "\n",
    "`.values()`\n",
    "\n",
    "Esse método retorna uma lista contendo todos os *valores* de um dicionário."
   ]
  },
  {
   "cell_type": "code",
   "execution_count": 34,
   "metadata": {
    "colab": {
     "base_uri": "https://localhost:8080/",
     "height": 34
    },
    "colab_type": "code",
    "id": "ByYsM3-RDILq",
    "outputId": "31dbfee7-1bce-49c2-d4fb-533ce59cdb64"
   },
   "outputs": [
    {
     "name": "stdout",
     "output_type": "stream",
     "text": [
      "dict_values(['bazingaaa!', 'shut up!', \"what's going on?\", 'there we go again...'])\n"
     ]
    }
   ],
   "source": [
    "tbbt = { \"sheldon\": \"bazingaaa!\", \"penny\": \"shut up!\", \"leonard\": \"what's going on?\", \"howard\": \"there we go again...\"  }\n",
    "\n",
    "valores = tbbt.values();\n",
    "\n",
    "print(valores);"
   ]
  },
  {
   "cell_type": "markdown",
   "metadata": {
    "colab_type": "text",
    "id": "3GpdvvpjvlnU"
   },
   "source": [
    "Esse método é muito importante pois permite a iteração dos valores de um dicionário:"
   ]
  },
  {
   "cell_type": "code",
   "execution_count": 35,
   "metadata": {
    "colab": {
     "base_uri": "https://localhost:8080/",
     "height": 102
    },
    "colab_type": "code",
    "id": "UrZ28KZ3vvGC",
    "outputId": "cbe9a40f-5696-4dcd-9f37-167dabadeed2"
   },
   "outputs": [
    {
     "name": "stdout",
     "output_type": "stream",
     "text": [
      "Os valores são:\n",
      "bazingaaa!\n",
      "shut up!\n",
      "what's going on?\n",
      "there we go again...\n"
     ]
    }
   ],
   "source": [
    "print(\"Os valores são:\")\n",
    "for i in tbbt.values():\n",
    "    print(i)"
   ]
  },
  {
   "cell_type": "markdown",
   "metadata": {
    "colab_type": "text",
    "id": "e95m2U9fDNFs"
   },
   "source": [
    "## Items\n",
    "\n",
    "`.items()`\n",
    "\n",
    "Esse método tem a função de retornar uma lista contendo todos os pares de *chave* e *valor* do dicionário."
   ]
  },
  {
   "cell_type": "code",
   "execution_count": 36,
   "metadata": {
    "colab": {
     "base_uri": "https://localhost:8080/",
     "height": 34
    },
    "colab_type": "code",
    "id": "V8LmSCfnDTj9",
    "outputId": "8f156790-12a9-41b1-d05d-8d128184a6ca"
   },
   "outputs": [
    {
     "name": "stdout",
     "output_type": "stream",
     "text": [
      "dict_items([('rick', 47), ('carl', 19), ('daryl', 50), ('zombie', 32)])\n"
     ]
    }
   ],
   "source": [
    "twd = { \"rick\": 47, \"carl\": 19, \"daryl\": 50, \"zombie\": 32}\n",
    "\n",
    "items = twd.items()\n",
    "\n",
    "print(items)"
   ]
  },
  {
   "cell_type": "markdown",
   "metadata": {
    "colab_type": "text",
    "id": "af7dvTGPuGFZ"
   },
   "source": [
    "Esse método é a junção de *.chaves()* com *.values()*, e retorna as duplas."
   ]
  },
  {
   "cell_type": "code",
   "execution_count": 37,
   "metadata": {
    "colab": {
     "base_uri": "https://localhost:8080/",
     "height": 85
    },
    "colab_type": "code",
    "id": "WO3H0y1LwKbh",
    "outputId": "7d9dd45a-a03f-4228-d6ca-707fe85a5cd4"
   },
   "outputs": [
    {
     "name": "stdout",
     "output_type": "stream",
     "text": [
      "('rick', 47)\n",
      "('carl', 19)\n",
      "('daryl', 50)\n",
      "('zombie', 32)\n"
     ]
    }
   ],
   "source": [
    "for i in twd.items():\n",
    "    print(i)"
   ]
  },
  {
   "cell_type": "markdown",
   "metadata": {
    "colab_type": "text",
    "id": "9VYYrHHewQ0O"
   },
   "source": [
    "Vamos usar mais uma variável para melhorar"
   ]
  },
  {
   "cell_type": "code",
   "execution_count": 38,
   "metadata": {
    "colab": {
     "base_uri": "https://localhost:8080/",
     "height": 85
    },
    "colab_type": "code",
    "id": "5VWuLZxBwVQd",
    "outputId": "ad8bf9f9-c39b-4059-95df-169c5db97358"
   },
   "outputs": [
    {
     "name": "stdout",
     "output_type": "stream",
     "text": [
      "rick tem 47 Anos\n",
      "carl tem 19 Anos\n",
      "daryl tem 50 Anos\n",
      "zombie tem 32 Anos\n"
     ]
    }
   ],
   "source": [
    "for personagem , idade in twd.items():\n",
    "    print(personagem , \"tem\" , idade , \"Anos\")"
   ]
  },
  {
   "cell_type": "markdown",
   "metadata": {
    "colab_type": "text",
    "id": "DBpPzkJXwiUW"
   },
   "source": [
    "Extra: esse comportamento de junção pode ser simulado em diversos casos utilizando a função zip."
   ]
  },
  {
   "cell_type": "code",
   "execution_count": 39,
   "metadata": {
    "colab": {
     "base_uri": "https://localhost:8080/",
     "height": 85
    },
    "colab_type": "code",
    "id": "7c3jSTfOwqzU",
    "outputId": "5cb2c33c-358f-4dc2-b786-40f1b9ad19ab"
   },
   "outputs": [
    {
     "name": "stdout",
     "output_type": "stream",
     "text": [
      "rick tem 47 Anos\n",
      "carl tem 19 Anos\n",
      "daryl tem 50 Anos\n",
      "zombie tem 32 Anos\n"
     ]
    }
   ],
   "source": [
    "for personagem, idade in zip(twd.keys(), twd.values()):\n",
    "    print(personagem , \"tem\" , idade , \"Anos\")"
   ]
  },
  {
   "cell_type": "markdown",
   "metadata": {
    "colab_type": "text",
    "id": "I56BBggFDUm7"
   },
   "source": [
    "### Exercício 6\n",
    "\n",
    "Abaixo temos *nomes*, um dicionário com um nome para cada letra do alfabeto"
   ]
  },
  {
   "cell_type": "code",
   "execution_count": 40,
   "metadata": {
    "colab": {},
    "colab_type": "code",
    "id": "xPfmU4icDrFa"
   },
   "outputs": [],
   "source": [
    "nomes = { \"Adeline\": 1, \"Brielle\": 2, \"Crystal\": 3, \"Delilah\": 4, \"Emma\": 5, \"Fiona\": 6, \"Georgia\":7 , \"Hendrix\": 8, \"Isabella\": 9, \"Juliana\": 10, \"Kimber\": 11, \"Lily\": 12, \"Merida\": 13, \"Nora\": 14, \"Orion\": 15, \"Phoenix\": 16, \"Quinn\": 17, \"Randalynn\": 18, \"Staci\": 19, \"Tianna\": 20, \"Ursula\": 21, \"Vivi\": 22, \"Winona\": 23, \"Xenia\": 24, \"Yoli\": 25, \"Zora \": 26 }"
   ]
  },
  {
   "cell_type": "markdown",
   "metadata": {
    "colab_type": "text",
    "id": "KA2zMyiMz2uU"
   },
   "source": [
    "#### Parte 1\n",
    "\n",
    "Utilizando len, mostre o tamanho de nomes"
   ]
  },
  {
   "cell_type": "code",
   "execution_count": 41,
   "metadata": {
    "colab": {},
    "colab_type": "code",
    "id": "hK0Mp9aB0I_B"
   },
   "outputs": [
    {
     "name": "stdout",
     "output_type": "stream",
     "text": [
      "26\n"
     ]
    }
   ],
   "source": [
    "print(len(nomes))"
   ]
  },
  {
   "cell_type": "markdown",
   "metadata": {
    "colab_type": "text",
    "id": "98oxL0Hr0LxS"
   },
   "source": [
    "#### Parte 2\n",
    "\n",
    "Itere sobre o dicionário e imprima somente os nomes que possuam a letra \"Y\"\n",
    "\n",
    "Obs: não esqueça que Y pode ser minúsculo ou maiúsculo."
   ]
  },
  {
   "cell_type": "code",
   "execution_count": 43,
   "metadata": {
    "colab": {},
    "colab_type": "code",
    "id": "D1JBNUKC08D6"
   },
   "outputs": [
    {
     "name": "stdout",
     "output_type": "stream",
     "text": [
      "Crystal\n",
      "Lily\n",
      "Randalynn\n",
      "Yoli\n"
     ]
    }
   ],
   "source": [
    "for i in nomes:\n",
    "    if (\"Y\" in i) or (\"y\" in i) :\n",
    "        print(i)"
   ]
  },
  {
   "cell_type": "markdown",
   "metadata": {
    "colab_type": "text",
    "id": "AAqg749Z1AZk"
   },
   "source": [
    "#### Parte 3\n",
    "\n",
    "Itere sobre o dicionário e imprima somente os nomes que possuem números múltiplos de 5"
   ]
  },
  {
   "cell_type": "code",
   "execution_count": 48,
   "metadata": {
    "colab": {},
    "colab_type": "code",
    "id": "4rRPMcPd1KVX"
   },
   "outputs": [
    {
     "name": "stdout",
     "output_type": "stream",
     "text": [
      "Emma\n",
      "Juliana\n",
      "Orion\n",
      "Tianna\n",
      "Yoli\n"
     ]
    }
   ],
   "source": [
    "for nome, valor in zip(nomes.keys(), nomes.values()):\n",
    "    if valor % 5 == 0:\n",
    "        print(nome)"
   ]
  },
  {
   "cell_type": "markdown",
   "metadata": {
    "colab_type": "text",
    "id": "Kp4ThUaREoFR"
   },
   "source": [
    "## Popitem\n",
    "O método `popitem()` retorna e remove a chave e o valor do último item adicionado no dicionário.\n"
   ]
  },
  {
   "cell_type": "code",
   "execution_count": 49,
   "metadata": {
    "colab": {
     "base_uri": "https://localhost:8080/",
     "height": 68
    },
    "colab_type": "code",
    "id": "8wo9O7VJEr5_",
    "outputId": "88307b09-2c07-4cc1-aea3-91736f09321e"
   },
   "outputs": [
    {
     "name": "stdout",
     "output_type": "stream",
     "text": [
      "Antes do popitem:  {'nome': 'João', 'Cidade': 'Natal', 'idade': 20, 'Bairro': 'Lagoa Nova'}\n",
      "Depois do popitem:  {'nome': 'João', 'Cidade': 'Natal', 'idade': 20}\n",
      "Item removido: ('Bairro', 'Lagoa Nova')\n"
     ]
    }
   ],
   "source": [
    "pessoa = {\n",
    "    'nome':'João',\n",
    "    'Cidade':'Natal',\n",
    "    'idade':20 \n",
    "}\n",
    "\n",
    "pessoa['Bairro'] = 'Lagoa Nova'\n",
    "print(\"Antes do popitem: \", pessoa)\n",
    "resultado = pessoa.popitem()\n",
    "print(\"Depois do popitem: \", pessoa)\n",
    "print(\"Item removido:\", resultado)"
   ]
  },
  {
   "cell_type": "markdown",
   "metadata": {
    "colab_type": "text",
    "id": "LRa8cI0bEvL3"
   },
   "source": [
    "## Update\n",
    "O método `.update()` atualiza e insere itens no dicionário. O item especificado por paramêtro pode ser um dicionário ou objetivo iterável. "
   ]
  },
  {
   "cell_type": "code",
   "execution_count": 50,
   "metadata": {
    "colab": {
     "base_uri": "https://localhost:8080/",
     "height": 106
    },
    "colab_type": "code",
    "id": "EthmNMe8E0AL",
    "outputId": "8e3b7f60-9280-4483-85e2-b0eee05a91ec"
   },
   "outputs": [
    {
     "name": "stdout",
     "output_type": "stream",
     "text": [
      "Os dados inicais da disciplina: {'nome': 'EDB1', 'horario': '35M34', 'professor': 'Leo'}\n",
      "Após atualizar o nome: {'nome': 'ESTRUTURA DE DADOS BÁSICAS I', 'horario': '35M34', 'professor': 'Leo'}\n",
      "Após inserir o local: {'nome': 'ESTRUTURA DE DADOS BÁSICAS I', 'horario': '35M34', 'professor': 'Leo', 'local': 'A307'}\n",
      "{'nome': 'ESTRUTURA DE DADOS BÁSICAS I', 'horario': '35M34', 'professor': 'Leo', 'local': 'A307', 'assunto1': 'Introdução a python', 'assunto2': 'Tipos abstratos de dados'}\n"
     ]
    }
   ],
   "source": [
    "disciplina = {\n",
    "    'nome':'EDB1',\n",
    "    'horario':'35M34',\n",
    "    'professor':'Leo'\n",
    "}\n",
    "print(\"Os dados inicais da disciplina:\", disciplina)\n",
    "disciplina.update(nome='ESTRUTURA DE DADOS BÁSICAS I')\n",
    "print(\"Após atualizar o nome:\", disciplina)\n",
    "disciplina.update(local='A307')\n",
    "print(\"Após inserir o local:\", disciplina)\n",
    "dadosAdicionais = {\n",
    "    'assunto1':'Introdução a python',\n",
    "    'assunto2':'Tipos abstratos de dados'\n",
    "}\n",
    "disciplina.update(dadosAdicionais)\n",
    "print(disciplina)\n"
   ]
  },
  {
   "cell_type": "markdown",
   "metadata": {
    "colab_type": "text",
    "id": "a_w5dsV9E40h"
   },
   "source": [
    "## Exercício de fixação\n",
    "\n",
    "1. Crie dois dicionários, adicione o segundo no primeiro dicionário, altere algum item e imrpima na tela qual foi o último item adicionado no primeiro dicionário. Por fim, imprima ambos os dicionários. "
   ]
  },
  {
   "cell_type": "code",
   "execution_count": 52,
   "metadata": {
    "colab": {},
    "colab_type": "code",
    "id": "8DXJBIxFE69H"
   },
   "outputs": [
    {
     "name": "stdout",
     "output_type": "stream",
     "text": [
      "(6, 6)\n",
      "{1: 1, 2: 2, 3: 3, 4: 4, 5: 7}\n",
      "{4: 4, 5: 5, 6: 6}\n"
     ]
    }
   ],
   "source": [
    "dicionario1 = {1: 1, 2: 2, 3: 3}\n",
    "dicionario2 = {4: 4, 5: 5, 6: 6}\n",
    "\n",
    "dicionario1.update(dicionario2)\n",
    "dicionario1[5] = 7\n",
    "\n",
    "print(dicionario1.popitem())\n",
    "\n",
    "print(dicionario1)\n",
    "print(dicionario2)\n"
   ]
  },
  {
   "cell_type": "markdown",
   "metadata": {},
   "source": [
    "2. Crie dois dicionários, adicione o segundo no primeiro dicionário, altere algum item e imprima na tela qual foi o último item adicionado no primeiro dicionário. Por fim, imprima ambos os dicionários. "
   ]
  },
  {
   "cell_type": "markdown",
   "metadata": {
    "colab_type": "text",
    "id": "IjVojH7jM2bS"
   },
   "source": [
    "## Questões Extra\n",
    "\n",
    "1 - Crie um programa que compare dois dicionários e verifique se suas chaves possuem o mesmo valor, e crie dois dicionários novos, um com os valores iguais e outro dicionário os com valores diferentes.\n",
    "\n",
    "Ex:\n",
    "\n",
    "`dic1 = { \"key1\": 50, \"key2\": 100, \"key3\": 35, \"key4\": 15}`\n",
    "\n",
    "`dic2 = { \"key1\": 100, \"key2\": 15, \"key3\":25 , \"key4\": 32}`\n",
    "\n",
    "Resultado:\n",
    "\n",
    "`dicIguais = { \"key1\": 100, \"key2\": 15 }`\n",
    "\n",
    "`dicDiferentes = { \"key1\": 50, \"key2\":25, \"key3\":15, \"key4\":35, \"key5\": \"32\" }`"
   ]
  },
  {
   "cell_type": "code",
   "execution_count": null,
   "metadata": {
    "colab": {},
    "colab_type": "code",
    "id": "GYQpgVsuM312"
   },
   "outputs": [],
   "source": []
  },
  {
   "cell_type": "markdown",
   "metadata": {},
   "source": [
    "2 - O professor Leonardo está elaborando uma prova, e marcando a quantidade de vezes que cada alternativa foi escolhida nas questões como certa.\n",
    "\n",
    "A entrada é dada como uma string, contendo letras de `a` até `e`.\n",
    "\n",
    "Faça um programa que use um dicionário para guardar o número de ocorrências de cada alternativa escolhida.\n",
    "\n",
    "A saída deve ser a quantidade de vezes que cada alternativa foi escolhida, no seguinte formato:\n",
    "\n",
    "\"`A alternativa x foi escolhida n vezes`\"\n",
    "\n",
    "Dica: use `in` para verificar se a chave está no dicionário."
   ]
  },
  {
   "cell_type": "code",
   "execution_count": null,
   "metadata": {},
   "outputs": [],
   "source": []
  },
  {
   "cell_type": "markdown",
   "metadata": {},
   "source": [
    "3 - O professor André aplicou a prova da Olimpíada Brasileira de Informática e colocou as notas de cada aluno em um dicionário.\n",
    "\n",
    "Agora André quer organizar outro dicionário para ter uma melhor noção dos resultados.\n",
    "\n",
    "Crie o \"`novoDicionario`\", com as seguintes 5 chaves:\n",
    "\n",
    "- 10:\n",
    "- 9:\n",
    "- 8:\n",
    "- 7:\n",
    "- \"menor que 7\": \n",
    "\n",
    "Para cada chave, o valor associado será uma lista contendo os nomes dos alunos com aquela nota (da chave). \n",
    "\n",
    "Exemplo: Digamos que somente dois alunos, Leonardo e Isaac, tiraram 10, então espera-se que exista a entrada:\n",
    "\n",
    "`10: [\"Leonardo\" , \"Isaac\"]`\n",
    "\n",
    "Também digamos que nenhum aluno teve nota 7, então espera-se a entrada:\n",
    "\n",
    "`7: []`"
   ]
  },
  {
   "cell_type": "code",
   "execution_count": null,
   "metadata": {},
   "outputs": [],
   "source": [
    "nomes = { \"Adeline\": 10, \"Emma\": 1, \"Zora \": 10, \"Lily\": 10, \"Yoli\": 10, \"Brielle\": 10, \"Fiona\": 2, \"Ursula\": 3, \"Randalynn\": 4, \"Quinn\": 6, \"Juliana\": 7, \"Vivi\": 7, \"Nora\": 7, \"Kimber\": 7, \"Xenia\": 7, \"Winona\": 7, \"Crystal\": 8, \"Tianna\": 8, \"Merida\": 8, \"Delilah\": 8, \"Hendrix\": 8, \"Staci\": 8, \"Isabella\": 9, \"Phoenix\": 9, \"Georgia\":9, \"Orion\": 9}\n",
    "\n"
   ]
  },
  {
   "cell_type": "markdown",
   "metadata": {},
   "source": [
    "4 - Continuando com o exemplo do Exercício 3, consider que as chaves serão as mesmas, mas vamos mudar os valores. Ao invés de listas vamos usar outros dicionários.\n",
    "\n",
    "Para cada chave, 10, 9, 8, 7 e \"menor que 7\", teremos outro dicionário, com as chaves \"quantidade\" e \"nomes\"\n",
    "\n",
    "Quantidade será o valor inteiro, e nomes será uma lista novamente.\n",
    "\n",
    "Exemplo:\n",
    "\n",
    "Para uma dada entrada, somente dois alunos, Leonardo e Isaac, tiraram 10 e nenhum aluno tirou 7: "
   ]
  },
  {
   "cell_type": "code",
   "execution_count": 2,
   "metadata": {},
   "outputs": [],
   "source": [
    "notas = {\n",
    "        10: { \n",
    "            \"quantidade\": 2, \n",
    "            \"nomes\": [\"Leonardo\" , \"Isaac\"]\n",
    "            },\n",
    "    \n",
    "        7: { \n",
    "            \"quantidade\": 0, \n",
    "            \"nomes\": []\n",
    "            }\n",
    "        }"
   ]
  },
  {
   "cell_type": "markdown",
   "metadata": {},
   "source": []
  }
 ],
 "metadata": {
  "colab": {
   "collapsed_sections": [],
   "name": "Notebook Dicionarios.ipynb",
   "provenance": [],
   "toc_visible": true,
   "version": "0.3.2"
  },
  "interpreter": {
   "hash": "e7370f93d1d0cde622a1f8e1c04877d8463912d04d973331ad4851f04de6915a"
  },
  "kernelspec": {
   "display_name": "Python 3.9.7 64-bit",
   "name": "python3"
  },
  "language_info": {
   "codemirror_mode": {
    "name": "ipython",
    "version": 3
   },
   "file_extension": ".py",
   "mimetype": "text/x-python",
   "name": "python",
   "nbconvert_exporter": "python",
   "pygments_lexer": "ipython3",
   "version": "3.9.7"
  }
 },
 "nbformat": 4,
 "nbformat_minor": 1
}
