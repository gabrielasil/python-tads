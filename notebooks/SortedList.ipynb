{
 "cells": [
  {
   "cell_type": "markdown",
   "metadata": {
    "colab_type": "text",
    "id": "teNuTfzY4fvh"
   },
   "source": [
    "# Listas ordenadas automaticamente\n",
    "\n",
    "## Entendendo o que é\n",
    "A lista ordenada automaticamente é extremamente útil quando queremos resolver problemas onde a ordem dos nossos elementos da lista importa. Ela nos garante que os elementos estarão ordenados, mesmo após feitas quaisquer operações em nossa lista. \n",
    "\n",
    "A resolução de problemas que envolvem esse tipo de questão, se torna mais eficiente quando utilizamos listas ordenadas, diminuindo o tempo de implementação do código e facilitando a leitura do mesmo. Afinal, você já deve ter tido a experiência de ordenar uma lista de forma manual; quantos loops e condicionais foram criados não é mesmo? **Em suma, quando sua lista precisar de uma ordenação, use uma lista ordenada automaticamente, pois a ordem dos elementos nunca será alterada!!**\n",
    "\n",
    "Para utilizar listas ordenadas em Python, incluimos uma biblioteca chamada \"sortedcontainers\". Ela nos fornecerá a classe `SortedList`, que criará nossas listas ordenadas. Em Python, a lista ordenada também mantém os dados em ordem crescente como padrão. Além disso, ela aceita elementos duplicados e fornece fácil acesso e indexação dos mesmos.\n"
   ]
  },
  {
   "cell_type": "markdown",
   "metadata": {
    "colab_type": "text",
    "id": "ghJ3uYx35Odp"
   },
   "source": [
    "## Primeiros passos\n"
   ]
  },
  {
   "cell_type": "markdown",
   "metadata": {
    "colab_type": "text",
    "id": "56gw2f7tB9n8"
   },
   "source": [
    "O primeiro passo é instalar a biblioteca que contém a classe `SortedList`:\n",
    "\n",
    "> O símbolo de exclamação no começo de uma célula de código diz para o Jupyter executar o código no terminal 👍🏻"
   ]
  },
  {
   "cell_type": "code",
   "execution_count": 1,
   "metadata": {
    "colab": {
     "base_uri": "https://localhost:8080/",
     "height": 34
    },
    "colab_type": "code",
    "id": "PRObXPzbAFXm",
    "outputId": "908e70a4-8362-4910-99bd-efba5901e3bb"
   },
   "outputs": [
    {
     "name": "stdout",
     "output_type": "stream",
     "text": [
      "Defaulting to user installation because normal site-packages is not writeable\n",
      "Collecting sortedcontainers\n",
      "  Downloading sortedcontainers-2.4.0-py2.py3-none-any.whl (29 kB)\n",
      "Installing collected packages: sortedcontainers\n",
      "Successfully installed sortedcontainers-2.4.0\n"
     ]
    }
   ],
   "source": [
    "!python3 -m pip install sortedcontainers"
   ]
  },
  {
   "cell_type": "markdown",
   "metadata": {
    "colab_type": "text",
    "id": "dLBtvey1RCxu"
   },
   "source": [
    "Ótimo! Agora já podemos criar nossa Lista Ordenada:\n"
   ]
  },
  {
   "cell_type": "code",
   "execution_count": 2,
   "metadata": {
    "colab": {
     "base_uri": "https://localhost:8080/",
     "height": 34
    },
    "colab_type": "code",
    "id": "BK8BAh0nRVs0",
    "outputId": "a02ef043-d0b0-4f90-80f6-9e178a6159ff"
   },
   "outputs": [
    {
     "name": "stdout",
     "output_type": "stream",
     "text": [
      "SortedList([])\n"
     ]
    }
   ],
   "source": [
    "from sortedcontainers import SortedList\n",
    "sl = SortedList()\n",
    "\n",
    "print(sl)"
   ]
  },
  {
   "cell_type": "markdown",
   "metadata": {
    "colab_type": "text",
    "id": "sESsFtumU4oy"
   },
   "source": [
    "Parabéns, você acabou de criar sua primeira lista! \n",
    "\n",
    "Mas caso você queira iniciar a SortedList já com valores, também é possivel: "
   ]
  },
  {
   "cell_type": "code",
   "execution_count": 3,
   "metadata": {
    "colab": {
     "base_uri": "https://localhost:8080/",
     "height": 34
    },
    "colab_type": "code",
    "id": "Z7ElHbg8AIIk",
    "outputId": "e4138af4-e7f0-44b9-e2f9-4cf5ffde48c4"
   },
   "outputs": [
    {
     "name": "stdout",
     "output_type": "stream",
     "text": [
      "SortedList([1, 1, 1, 2, 2, 3, 4, 5])\n"
     ]
    }
   ],
   "source": [
    "sl_1 = SortedList([3, 1, 1, 1, 2, 2, 5, 4])\n",
    "print(sl_1)"
   ]
  },
  {
   "cell_type": "markdown",
   "metadata": {
    "colab_type": "text",
    "id": "Pk2EybaIyolN"
   },
   "source": [
    "Perceba que uma está vazia e outra preenchida , no próximo tópico iremos aprender como manipular nossa lista."
   ]
  },
  {
   "cell_type": "markdown",
   "metadata": {
    "colab_type": "text",
    "id": "ixIQOx0R6BKr"
   },
   "source": [
    "# Manipulando uma lista ordenada automaticamente"
   ]
  },
  {
   "cell_type": "markdown",
   "metadata": {
    "colab_type": "text",
    "id": "PGyWkY2Yszh2"
   },
   "source": [
    "### Pertinência"
   ]
  },
  {
   "cell_type": "markdown",
   "metadata": {
    "colab_type": "text",
    "id": "VL86IDzJtG4m"
   },
   "source": [
    "De forma semelhante ao `set`, na `SortedList` também podemos ver se um elemento pertence a ela: "
   ]
  },
  {
   "cell_type": "code",
   "execution_count": 4,
   "metadata": {
    "colab": {
     "base_uri": "https://localhost:8080/",
     "height": 34
    },
    "colab_type": "code",
    "id": "SWt2uQaKs_D3",
    "outputId": "a44cd083-5163-46c6-ac3a-e7ef8ea71630"
   },
   "outputs": [
    {
     "data": {
      "text/plain": [
       "True"
      ]
     },
     "execution_count": 4,
     "metadata": {},
     "output_type": "execute_result"
    }
   ],
   "source": [
    "3 in sl_1 "
   ]
  },
  {
   "cell_type": "code",
   "execution_count": 5,
   "metadata": {
    "colab": {
     "base_uri": "https://localhost:8080/",
     "height": 34
    },
    "colab_type": "code",
    "id": "FZEB7T4iubJi",
    "outputId": "7165fdf1-3f64-427d-93cf-ce792c44d637"
   },
   "outputs": [
    {
     "data": {
      "text/plain": [
       "False"
      ]
     },
     "execution_count": 5,
     "metadata": {},
     "output_type": "execute_result"
    }
   ],
   "source": [
    "10 in sl_1"
   ]
  },
  {
   "cell_type": "markdown",
   "metadata": {},
   "source": [
    "> Buscar em uma lista ordenada automaticamente é mais eficiente que buscar em uma lista ordenada manualmente, mas ainda é menos eficiente que buscar em um conjunto 👍🏻"
   ]
  },
  {
   "cell_type": "markdown",
   "metadata": {
    "colab_type": "text",
    "id": "ItjXcr07_K4N"
   },
   "source": [
    "## Adicionando elementos"
   ]
  },
  {
   "cell_type": "markdown",
   "metadata": {
    "colab_type": "text",
    "id": "zbWDv2_BdGvs"
   },
   "source": [
    "Podemos adicionar elementos de duas maneiras.\n",
    "\n",
    "#### `add()`\n",
    "\n",
    "A primeira é o método `add()`, que recebe como parâmetro somente um argumento.\n",
    "\n",
    "Ou seja, você somente pode colocar um valor para ser adicionado a lista ordenada:"
   ]
  },
  {
   "cell_type": "code",
   "execution_count": 6,
   "metadata": {
    "colab": {
     "base_uri": "https://localhost:8080/",
     "height": 34
    },
    "colab_type": "code",
    "id": "s2jX_HVX_NjX",
    "outputId": "91380b2e-54e9-49e7-d6c0-09b18d46cf90"
   },
   "outputs": [
    {
     "name": "stdout",
     "output_type": "stream",
     "text": [
      "SortedList([1])\n"
     ]
    }
   ],
   "source": [
    "sl.add(1)\n",
    "print(sl)"
   ]
  },
  {
   "cell_type": "markdown",
   "metadata": {
    "colab_type": "text",
    "id": "ekcsYf8fekTO"
   },
   "source": [
    "#### `update()`\n",
    "\n",
    "Também podemos adicionar com o método `update()`, com a qual que podemos colocar varios valores:"
   ]
  },
  {
   "cell_type": "code",
   "execution_count": 7,
   "metadata": {
    "colab": {
     "base_uri": "https://localhost:8080/",
     "height": 34
    },
    "colab_type": "code",
    "id": "2FO9yDCYeiD7",
    "outputId": "83b6d597-111f-420c-9e19-46630355696e"
   },
   "outputs": [
    {
     "name": "stdout",
     "output_type": "stream",
     "text": [
      "SortedList([1, 2, 3, 4, 5, 6])\n"
     ]
    }
   ],
   "source": [
    "sl.update([2,3,4,5,6])\n",
    "print(sl)"
   ]
  },
  {
   "cell_type": "markdown",
   "metadata": {
    "colab_type": "text",
    "id": "vmO2RXNrP2vx"
   },
   "source": [
    "E se adicionarmos um elemento já existente na lista, o que acontece?"
   ]
  },
  {
   "cell_type": "code",
   "execution_count": 8,
   "metadata": {
    "colab": {
     "base_uri": "https://localhost:8080/",
     "height": 34
    },
    "colab_type": "code",
    "id": "sqcd-7R4PmkH",
    "outputId": "abab1c3f-22cb-4e5c-d944-e2b6db629047"
   },
   "outputs": [
    {
     "name": "stdout",
     "output_type": "stream",
     "text": [
      "SortedList([1, 2, 2, 3, 4, 5, 6])\n"
     ]
    }
   ],
   "source": [
    "sl.add(2)\n",
    "print(sl)"
   ]
  },
  {
   "cell_type": "markdown",
   "metadata": {
    "colab_type": "text",
    "id": "iggh71GNQCKw"
   },
   "source": [
    "Note que agora temos dois '2'. Diferente do `set()`, a `SortedList` permite a repetição de elementos."
   ]
  },
  {
   "cell_type": "markdown",
   "metadata": {
    "colab_type": "text",
    "id": "7ZhkxMoD_Qqs"
   },
   "source": [
    "## Removendo elementos"
   ]
  },
  {
   "cell_type": "markdown",
   "metadata": {
    "colab_type": "text",
    "id": "R9mZN5zTY5t8"
   },
   "source": [
    "Existem várias maneiras de remover elementos:\n",
    "\n",
    "#### `discard()` \n",
    "\n",
    "Passamos apenas um parâmetro. Se não existir esse valor que você tentou apagar, ele não reporta nada."
   ]
  },
  {
   "cell_type": "code",
   "execution_count": 9,
   "metadata": {
    "colab": {
     "base_uri": "https://localhost:8080/",
     "height": 34
    },
    "colab_type": "code",
    "id": "QQoqTa8m_UzG",
    "outputId": "7db21909-d700-4298-bb14-ca2b98c8e67f"
   },
   "outputs": [
    {
     "name": "stdout",
     "output_type": "stream",
     "text": [
      "SortedList([1, 2, 3, 4, 5, 6])\n"
     ]
    }
   ],
   "source": [
    "sl.discard(2)\n",
    "print(sl)"
   ]
  },
  {
   "cell_type": "markdown",
   "metadata": {
    "colab_type": "text",
    "id": "XnoKXfeqnMEp"
   },
   "source": [
    "#### `remove()` \n",
    "\n",
    "Passamos apenas um parâmetro. Se não existir esse valor que você tentou apagar, ele reporta um `ValueError`."
   ]
  },
  {
   "cell_type": "code",
   "execution_count": 10,
   "metadata": {
    "colab": {
     "base_uri": "https://localhost:8080/",
     "height": 299
    },
    "colab_type": "code",
    "id": "oHwpHGmrnLw6",
    "outputId": "dacb7b9b-e35d-431d-f855-2a442affdd57"
   },
   "outputs": [
    {
     "ename": "ValueError",
     "evalue": "256 not in list",
     "output_type": "error",
     "traceback": [
      "\u001b[0;31m---------------------------------------------------------------------------\u001b[0m",
      "\u001b[0;31mValueError\u001b[0m                                Traceback (most recent call last)",
      "\u001b[0;32m/tmp/ipykernel_146264/156271415.py\u001b[0m in \u001b[0;36m<module>\u001b[0;34m\u001b[0m\n\u001b[0;32m----> 1\u001b[0;31m \u001b[0msl\u001b[0m\u001b[0;34m.\u001b[0m\u001b[0mremove\u001b[0m\u001b[0;34m(\u001b[0m\u001b[0;36m256\u001b[0m\u001b[0;34m)\u001b[0m\u001b[0;34m\u001b[0m\u001b[0;34m\u001b[0m\u001b[0m\n\u001b[0m\u001b[1;32m      2\u001b[0m \u001b[0mprint\u001b[0m\u001b[0;34m(\u001b[0m\u001b[0msl\u001b[0m\u001b[0;34m)\u001b[0m\u001b[0;34m\u001b[0m\u001b[0;34m\u001b[0m\u001b[0m\n",
      "\u001b[0;32m~/.local/lib/python3.9/site-packages/sortedcontainers/sortedlist.py\u001b[0m in \u001b[0;36mremove\u001b[0;34m(self, value)\u001b[0m\n\u001b[1;32m    452\u001b[0m \u001b[0;34m\u001b[0m\u001b[0m\n\u001b[1;32m    453\u001b[0m         \u001b[0;32mif\u001b[0m \u001b[0mpos\u001b[0m \u001b[0;34m==\u001b[0m \u001b[0mlen\u001b[0m\u001b[0;34m(\u001b[0m\u001b[0m_maxes\u001b[0m\u001b[0;34m)\u001b[0m\u001b[0;34m:\u001b[0m\u001b[0;34m\u001b[0m\u001b[0;34m\u001b[0m\u001b[0m\n\u001b[0;32m--> 454\u001b[0;31m             \u001b[0;32mraise\u001b[0m \u001b[0mValueError\u001b[0m\u001b[0;34m(\u001b[0m\u001b[0;34m'{0!r} not in list'\u001b[0m\u001b[0;34m.\u001b[0m\u001b[0mformat\u001b[0m\u001b[0;34m(\u001b[0m\u001b[0mvalue\u001b[0m\u001b[0;34m)\u001b[0m\u001b[0;34m)\u001b[0m\u001b[0;34m\u001b[0m\u001b[0;34m\u001b[0m\u001b[0m\n\u001b[0m\u001b[1;32m    455\u001b[0m \u001b[0;34m\u001b[0m\u001b[0m\n\u001b[1;32m    456\u001b[0m         \u001b[0m_lists\u001b[0m \u001b[0;34m=\u001b[0m \u001b[0mself\u001b[0m\u001b[0;34m.\u001b[0m\u001b[0m_lists\u001b[0m\u001b[0;34m\u001b[0m\u001b[0;34m\u001b[0m\u001b[0m\n",
      "\u001b[0;31mValueError\u001b[0m: 256 not in list"
     ]
    }
   ],
   "source": [
    "sl.remove(256)\n",
    "print(sl)"
   ]
  },
  {
   "cell_type": "markdown",
   "metadata": {
    "colab_type": "text",
    "id": "hurEGMIyCYn6"
   },
   "source": [
    "#### pop() \n",
    "\n",
    "É possivel remover elementos de acordo com o seu índice, mas a maneira de utilizar cada uma essas funções é um pouco diferente."
   ]
  },
  {
   "cell_type": "code",
   "execution_count": 11,
   "metadata": {
    "colab": {},
    "colab_type": "code",
    "id": "5QrNUni3DLPJ"
   },
   "outputs": [
    {
     "name": "stdout",
     "output_type": "stream",
     "text": [
      "Lista antes de remover o primeiro indice: SortedList([1, 1, 2, 2, 3, 3, 4, 4, 5, 5, 6])\n",
      "Lista depois de remover o primeiro indice: SortedList([1, 2, 2, 3, 3, 4, 4, 5, 5, 6])\n"
     ]
    }
   ],
   "source": [
    "sl.update([1,2,3,4,5])\n",
    "print(\"Lista antes de remover o primeiro indice: {}\".format(sl))\n",
    "sl.pop(0)\n",
    "print(\"Lista depois de remover o primeiro indice: {}\".format(sl))"
   ]
  },
  {
   "cell_type": "markdown",
   "metadata": {
    "colab_type": "text",
    "id": "mqRieOir8xR-"
   },
   "source": [
    "#### `clear()` \n",
    "\n",
    "Remove todos os valores da lista ordenada."
   ]
  },
  {
   "cell_type": "code",
   "execution_count": 12,
   "metadata": {
    "colab": {},
    "colab_type": "code",
    "id": "6g28iaDM8w8V"
   },
   "outputs": [
    {
     "name": "stdout",
     "output_type": "stream",
     "text": [
      "SortedList([])\n"
     ]
    }
   ],
   "source": [
    "sl.clear()\n",
    "print(sl)"
   ]
  },
  {
   "cell_type": "markdown",
   "metadata": {
    "colab_type": "text",
    "id": "LSPHl9Cw_Yg0"
   },
   "source": [
    "## Estudando os elementos"
   ]
  },
  {
   "cell_type": "markdown",
   "metadata": {
    "colab_type": "text",
    "id": "2LdHf5C6Ogpp"
   },
   "source": [
    "Agora que aprendemos a primeira parte da manipulação de uma `SortedList`, vamos dar continuidade ao aprendizado com algumas funções extremamente úteis.\n",
    "\n",
    "Suponha que ao fazer seus devidos `add`'s e `remove`'s, você queira ver quantas vezes tal elemento apareceu. Imagine fazendo isso com vários \"for\" e variáveis/vetores, uma confusão não é? Mas com o método `count()`,  é muito fácil!"
   ]
  },
  {
   "cell_type": "code",
   "execution_count": 13,
   "metadata": {
    "colab": {},
    "colab_type": "code",
    "id": "MAMkfi_w_cjd"
   },
   "outputs": [
    {
     "name": "stdout",
     "output_type": "stream",
     "text": [
      "SortedList([1, 1, 1, 2, 2, 3, 4, 5])\n",
      "3\n",
      "2\n"
     ]
    }
   ],
   "source": [
    "print(sl_1)\n",
    "print(sl_1.count(1))\n",
    "print(sl_1.count(2))"
   ]
  },
  {
   "cell_type": "markdown",
   "metadata": {
    "colab_type": "text",
    "id": "rzATwhiTXk9R"
   },
   "source": [
    "Beleza, nós já sabemos contar os elementos repetidos. Mas e se precisarmos saber onde o elemento está, ou melhor, seu índice? Em Python, esse problema pode ser resolvido  com o método `index()`. \n",
    "\n",
    "Essa função ainda pode receber os parâmetros para procurar do índice N ao índice M (por padrão o N é o começo da lista, e o M o final). A assinatura do método `index` é `index(valor, índice_início, índice_fim)`. \n",
    "\n",
    "Curiosidade, se o valor não está na lista é relatado uma mensagem de erro, e a função retorna o primeiro índice da ocorrência."
   ]
  },
  {
   "cell_type": "code",
   "execution_count": 14,
   "metadata": {
    "colab": {},
    "colab_type": "code",
    "id": "f-Zj2yR_ZO74"
   },
   "outputs": [
    {
     "name": "stdout",
     "output_type": "stream",
     "text": [
      "3\n"
     ]
    }
   ],
   "source": [
    "print(sl_1.index(2))"
   ]
  },
  {
   "cell_type": "code",
   "execution_count": 15,
   "metadata": {
    "colab": {},
    "colab_type": "code",
    "id": "z_zJ0H5rbVfz"
   },
   "outputs": [
    {
     "ename": "ValueError",
     "evalue": "2 is not in list",
     "output_type": "error",
     "traceback": [
      "\u001b[0;31m---------------------------------------------------------------------------\u001b[0m",
      "\u001b[0;31mValueError\u001b[0m                                Traceback (most recent call last)",
      "\u001b[0;32m/tmp/ipykernel_146264/1856274428.py\u001b[0m in \u001b[0;36m<module>\u001b[0;34m\u001b[0m\n\u001b[0;32m----> 1\u001b[0;31m \u001b[0mprint\u001b[0m\u001b[0;34m(\u001b[0m\u001b[0msl_1\u001b[0m\u001b[0;34m.\u001b[0m\u001b[0mindex\u001b[0m\u001b[0;34m(\u001b[0m\u001b[0;36m2\u001b[0m\u001b[0;34m,\u001b[0m \u001b[0;36m5\u001b[0m\u001b[0;34m)\u001b[0m\u001b[0;34m)\u001b[0m\u001b[0;34m\u001b[0m\u001b[0;34m\u001b[0m\u001b[0m\n\u001b[0m",
      "\u001b[0;32m~/.local/lib/python3.9/site-packages/sortedcontainers/sortedlist.py\u001b[0m in \u001b[0;36mindex\u001b[0;34m(self, value, start, stop)\u001b[0m\n\u001b[1;32m   1451\u001b[0m                 \u001b[0;32mreturn\u001b[0m \u001b[0mstart\u001b[0m\u001b[0;34m\u001b[0m\u001b[0;34m\u001b[0m\u001b[0m\n\u001b[1;32m   1452\u001b[0m \u001b[0;34m\u001b[0m\u001b[0m\n\u001b[0;32m-> 1453\u001b[0;31m         \u001b[0;32mraise\u001b[0m \u001b[0mValueError\u001b[0m\u001b[0;34m(\u001b[0m\u001b[0;34m'{0!r} is not in list'\u001b[0m\u001b[0;34m.\u001b[0m\u001b[0mformat\u001b[0m\u001b[0;34m(\u001b[0m\u001b[0mvalue\u001b[0m\u001b[0;34m)\u001b[0m\u001b[0;34m)\u001b[0m\u001b[0;34m\u001b[0m\u001b[0;34m\u001b[0m\u001b[0m\n\u001b[0m\u001b[1;32m   1454\u001b[0m \u001b[0;34m\u001b[0m\u001b[0m\n\u001b[1;32m   1455\u001b[0m \u001b[0;34m\u001b[0m\u001b[0m\n",
      "\u001b[0;31mValueError\u001b[0m: 2 is not in list"
     ]
    }
   ],
   "source": [
    "print(sl_1.index(2, 5))"
   ]
  },
  {
   "cell_type": "markdown",
   "metadata": {
    "colab_type": "text",
    "id": "_L5uZSeKc5Tp"
   },
   "source": [
    "Podemos também \"pegar\" o conteúdo da `SortedList` pelo índice, parecido como usamos em vetores:"
   ]
  },
  {
   "cell_type": "code",
   "execution_count": 16,
   "metadata": {
    "colab": {},
    "colab_type": "code",
    "id": "P4eJ7mkedJim"
   },
   "outputs": [
    {
     "name": "stdout",
     "output_type": "stream",
     "text": [
      "2\n"
     ]
    }
   ],
   "source": [
    "print(sl_1[3])"
   ]
  },
  {
   "cell_type": "markdown",
   "metadata": {
    "colab_type": "text",
    "id": "ImnSTJlmGvrm"
   },
   "source": [
    "#### Exercício de fixação"
   ]
  },
  {
   "cell_type": "markdown",
   "metadata": {
    "colab_type": "text",
    "id": "oqJKjx91G9LH"
   },
   "source": [
    "Exercícios desse topico\n"
   ]
  },
  {
   "cell_type": "markdown",
   "metadata": {
    "colab_type": "text",
    "id": "VLnCEYrTzjuK"
   },
   "source": [
    "## Iterando a `SortedList`"
   ]
  },
  {
   "cell_type": "markdown",
   "metadata": {
    "colab_type": "text",
    "id": "khEVSX10ES6j"
   },
   "source": [
    "Você pode iterar a `SortedList` com um `for`: "
   ]
  },
  {
   "cell_type": "code",
   "execution_count": 17,
   "metadata": {
    "colab": {},
    "colab_type": "code",
    "id": "ftrEfclVzztW"
   },
   "outputs": [
    {
     "name": "stdout",
     "output_type": "stream",
     "text": [
      "SortedList([])\n"
     ]
    }
   ],
   "source": [
    "for j in sl:\n",
    "  print(j)\n",
    "print(sl)"
   ]
  },
  {
   "cell_type": "markdown",
   "metadata": {
    "colab_type": "text",
    "id": "QJXMVdj8Jamn"
   },
   "source": [
    "Podemos também iterar somente por um intervalo:"
   ]
  },
  {
   "cell_type": "code",
   "execution_count": 18,
   "metadata": {
    "colab": {},
    "colab_type": "code",
    "id": "AFjCLYaIJgqQ"
   },
   "outputs": [],
   "source": [
    "for j in sl.irange(3,5):\n",
    "  print(j)"
   ]
  },
  {
   "cell_type": "markdown",
   "metadata": {
    "colab_type": "text",
    "id": "IUe1t7WoKGuz"
   },
   "source": [
    "Ou usando o `islice()`, que ao invés de iterar pelo intervalo dos dados, como o `irange()`, utiliza o intervalo dos índices passados como parâmetro: "
   ]
  },
  {
   "cell_type": "code",
   "execution_count": 19,
   "metadata": {
    "colab": {},
    "colab_type": "code",
    "id": "mH0LaJJ1L2nv"
   },
   "outputs": [
    {
     "name": "stdout",
     "output_type": "stream",
     "text": [
      "d\n",
      "r\n"
     ]
    }
   ],
   "source": [
    "a = SortedList(['b', '3', 't', 'r', 'd'])\n",
    "for k in a.islice(2,4):\n",
    "  print(k)"
   ]
  },
  {
   "cell_type": "markdown",
   "metadata": {
    "colab_type": "text",
    "id": "x5p48B80NdIM"
   },
   "source": [
    "Ou"
   ]
  },
  {
   "cell_type": "code",
   "execution_count": 20,
   "metadata": {
    "colab": {},
    "colab_type": "code",
    "id": "ieXi9IidNfzL"
   },
   "outputs": [
    {
     "name": "stdout",
     "output_type": "stream",
     "text": [
      "['d', 'r']\n"
     ]
    }
   ],
   "source": [
    "print(a[2:4])"
   ]
  },
  {
   "cell_type": "markdown",
   "metadata": {
    "colab_type": "text",
    "id": "5NeT_WPw_dm1"
   },
   "source": [
    "## Pesquisa binária"
   ]
  },
  {
   "cell_type": "markdown",
   "metadata": {
    "colab_type": "text",
    "id": "2C4wUuaHQFSo"
   },
   "source": [
    "Agora, depois de estudarmos itens básicos, vamos introduzir um conceito que casa perfeitamente com a função da `SortedList`. Pesquisa ou busca binária é um algoritmo de busca em vetores que realiza sucessivas divisões do espaço de busca comparando o elemento buscado (chave) com o elemento no meio do vetor. Para utilizarmos essa técnica, é necessário que o vetor esteja ordenada. Nada melhor que a `SortedList` para isso! \n",
    "\n",
    "Para os curiosos e entusiastas, a busca binária funciona da seguinte maneira: se o elemento do meio do vetor for a chave, a busca termina com sucesso. Caso contrário, se o elemento do meio for menor que o elemento buscado, então a busca continua na metade posterior do vetor. E finalmente, se o elemento do meio for maior do que a chave, a busca continua na metade anterior do vetor.\n",
    "\n",
    "A complexidade desse algoritmo é da ordem de log2 (n) é o tamanho do vetor de busca. Apresenta-se mais eficiente que a Busca linear cuja ordem é O(n)."
   ]
  },
  {
   "cell_type": "markdown",
   "metadata": {
    "colab_type": "text",
    "id": "dI_R_5jCYFVk"
   },
   "source": [
    "### Desafio"
   ]
  },
  {
   "cell_type": "markdown",
   "metadata": {
    "colab_type": "text",
    "id": "0WKhejnMYNOF"
   },
   "source": [
    "Para aqueles que se interessaram, propomos um desafio para vocês!\n",
    "Desenvolva uma função em python que faça uma busca binária em uma `SortedList` e que diga a posição em que um elemento `N` está na `SortedList`. Para isso, aplique os conceitos que vimos.\n",
    " \n",
    " \n",
    "Regras:\n",
    "\n",
    "*   O vetor deve ter 100 elementos gerados por uma função aleatória podendo assumir valores de 0 a 1000\n",
    "*   Não utilizar (obviamente) a busca linear\n",
    "*   A função deve informar caso o número informado não esteja na lista\n",
    "\n",
    "\n"
   ]
  },
  {
   "cell_type": "code",
   "execution_count": 31,
   "metadata": {
    "colab": {},
    "colab_type": "code",
    "id": "MrcP86zm_hv-"
   },
   "outputs": [
    {
     "name": "stdout",
     "output_type": "stream",
     "text": [
      "SortedList([8, 12, 16, 19, 23, 39, 59, 74, 95, 120, 137, 180, 194, 219, 242, 243, 244, 295, 298, 305, 306, 306, 326, 329, 329, 330, 340, 343, 345, 363, 373, 377, 378, 397, 403, 413, 421, 460, 463, 465, 468, 472, 495, 542, 554, 564, 565, 571, 587, 593, 596, 603, 603, 606, 630, 643, 644, 654, 663, 678, 687, 693, 696, 701, 707, 711, 711, 730, 738, 750, 751, 766, 791, 802, 803, 809, 811, 814, 820, 832, 841, 845, 847, 854, 884, 886, 922, 922, 925, 931, 937, 942, 945, 949, 949, 958, 972, 973, 988, 990])\n",
      "593\n",
      "O elemento está na lista na posição 49\n"
     ]
    }
   ],
   "source": [
    "from sortedcontainers import SortedList\n",
    "from random import randint\n",
    "\n",
    "sl = SortedList()\n",
    "\n",
    "for i in range (100):\n",
    "    sl.add(randint(0, 1000))\n",
    "print(sl)\n",
    "\n",
    "n = int(input())\n",
    "\n",
    "if n not in sl:\n",
    "    print(\"Não está na lista\")\n",
    "else:\n",
    "    if n >=sl[49]:\n",
    "        for i in range (49, 100):\n",
    "            if n == sl[i]:\n",
    "                print(\"O elemento está na lista na posição\", i)\n",
    "    else:\n",
    "        i = 48\n",
    "        while i >= 0:\n",
    "            if n == sl[i]:\n",
    "                print(\"O elemento está na lista na posição\", i)\n",
    "                break\n",
    "            i -= 1\n",
    "\n",
    "\n",
    "\n",
    "\n"
   ]
  },
  {
   "cell_type": "markdown",
   "metadata": {
    "colab_type": "text",
    "id": "hENZ66Ooa1T7"
   },
   "source": [
    "Você pode testar se realmente a busca binária é eficiente. Rode a função acima com o utilitário \"time\" no terminal do linux ou  %time aqui no colab, depois, faça um algoritmo de busca em e compare o runtime de cada um!\n",
    "\n",
    "> Caso queiram conhecer mais sobre o assunto, acessem https://pt.khanacademy.org/computing/computer-science/algorithms/binary-search/a/binary-search\n"
   ]
  },
  {
   "cell_type": "markdown",
   "metadata": {
    "colab_type": "text",
    "id": "ZHc0KKDo_l6w"
   },
   "source": [
    "## Operações com listas ordenadas"
   ]
  },
  {
   "cell_type": "markdown",
   "metadata": {
    "colab_type": "text",
    "id": "VMQgB2vscPRu"
   },
   "source": [
    "Também é possivel usar os operadores `+` e `*` com a `SortedList`:\n",
    "\n",
    "#### União com o operador `+`\n",
    "\n",
    "Realiza a união de duas listas ordenadas automaticamente. Diferentemente de conjuntos, esta união preserva elementos duplicados:  "
   ]
  },
  {
   "cell_type": "code",
   "execution_count": 32,
   "metadata": {
    "colab": {},
    "colab_type": "code",
    "id": "2ysdO0Br_p1n"
   },
   "outputs": [
    {
     "name": "stdout",
     "output_type": "stream",
     "text": [
      "lista1 -> SortedList([1, 2, 3, 4, 5])\n",
      "lista2 -> SortedList([5, 6, 7, 8, 9])\n",
      "Soma das duas listas -> SortedList([1, 2, 3, 4, 5, 5, 6, 7, 8, 9])\n"
     ]
    }
   ],
   "source": [
    "sl.clear()\n",
    "\n",
    "sl = SortedList([1,2,3,4,5])\n",
    "sl2 = SortedList([5,6,7,8,9])\n",
    "\n",
    "print(\"lista1 -> {}\".format(sl))\n",
    "print(\"lista2 -> {}\".format(sl2))\n",
    "\n",
    "print(\"Soma das duas listas -> {}\".format(sl + sl2))"
   ]
  },
  {
   "cell_type": "markdown",
   "metadata": {
    "colab_type": "text",
    "id": "gfCPVGcUe8Ns"
   },
   "source": [
    "#### Repetição de elementos com o operador `*` \n",
    "\n",
    "Repete os elementos da lista `n` vezes:"
   ]
  },
  {
   "cell_type": "code",
   "execution_count": 33,
   "metadata": {
    "colab": {},
    "colab_type": "code",
    "id": "Gh9DoGUue7TE"
   },
   "outputs": [
    {
     "name": "stdout",
     "output_type": "stream",
     "text": [
      "lista antes da multiplicação -> SortedList([1, 2, 3, 4, 5])\n",
      "lista depois da multiplicação -> SortedList([1, 1, 1, 2, 2, 2, 3, 3, 3, 4, 4, 4, 5, 5, 5])\n"
     ]
    }
   ],
   "source": [
    "print(\"lista antes da multiplicação -> {}\".format(sl))\n",
    "mult = sl * 3\n",
    "print(\"lista depois da multiplicação -> {}\".format(mult))"
   ]
  },
  {
   "cell_type": "markdown",
   "metadata": {
    "colab_type": "text",
    "id": "aZ2D9apN_sm9"
   },
   "source": [
    "# Exercícios\n",
    "\n",
    "Agora que você já está craque em listas ordenadas, chegou a hora de práticar!"
   ]
  },
  {
   "cell_type": "markdown",
   "metadata": {
    "colab_type": "text",
    "id": "12cvqUtBAh4X"
   },
   "source": [
    "\n",
    "1 - Crie um programa que faça uma lista de números e retorne a lista e o maior valor da mesma\n",
    "\n",
    "Exemplo:\n",
    "\n",
    "Entrada:([1,2,5,23,6,3,6,87])\n",
    "\n",
    "Saída: 87"
   ]
  },
  {
   "cell_type": "code",
   "execution_count": 36,
   "metadata": {
    "colab": {},
    "colab_type": "code",
    "id": "12VS_otgAkCF"
   },
   "outputs": [
    {
     "name": "stdout",
     "output_type": "stream",
     "text": [
      "SortedList([83, 189, 539, 616, 633, 668, 675, 780, 906])\n",
      "O maior valor é:  906\n"
     ]
    }
   ],
   "source": [
    "from sortedcontainers import SortedList\n",
    "from random import randint\n",
    "\n",
    "sl = SortedList()\n",
    "\n",
    "n = int(input(\"Insira o tamanho da lista\"))\n",
    "\n",
    "for i in range (n):\n",
    "    sl.add(randint(0, 1000))\n",
    "print(sl)\n",
    "\n",
    "print(\"O maior valor é: \", sl[n-1])"
   ]
  },
  {
   "cell_type": "markdown",
   "metadata": {
    "colab_type": "text",
    "id": "Mr02hxxgyJnQ"
   },
   "source": [
    " 2 - Crie uma função que recebe duas strings do usuário e que diga se são anagramas ou não. Utilize SortedList() para tal. Pense um pouquinho e verás que é extremamente trivial!\n",
    "\n",
    "Ex:\n",
    "\t\n",
    "    Entrada - \"roma\", \"amor\"\n",
    "    Saída - \"São anagramas\"\n",
    "\n",
    "\tEntrada - \"topa\", \"pato\"\n",
    "\tSaída - \"São anagramas\"\n",
    "\n",
    "\tEntrada - \"sol\", \"lua\"\n",
    "\tSaída - \"Não são anagramas\""
   ]
  },
  {
   "cell_type": "code",
   "execution_count": 45,
   "metadata": {
    "colab": {},
    "colab_type": "code",
    "id": "HFJWmkV7yV3B"
   },
   "outputs": [
    {
     "name": "stdout",
     "output_type": "stream",
     "text": [
      "Não são anagramas\n"
     ]
    }
   ],
   "source": [
    "from sortedcontainers import SortedList\n",
    "\n",
    "str1 = SortedList(input())\n",
    "str2 = SortedList(input())\n",
    "\n",
    "if str1 == str2:\n",
    "    print(\"São anagramas\")\n",
    "else:\n",
    "    print(\"Não são anagramas\")"
   ]
  },
  {
   "cell_type": "markdown",
   "metadata": {
    "colab_type": "text",
    "id": "LLLXcHPOMGQ-"
   },
   "source": [
    "3 - Dado a lista ordenada [5, 3, 7, 9, 17, 13, 15, 11, 19], faça um programa que peça ao usuário para digitar um valor que deve ser a soma entre 2 valores dessa lista (dois valores diferentes). O programa deve percorrer os valores da lista e caso exista a soma, o mesmo deve exibir a soma, caso não exista deve informar que não existe soma entre os valores da lista igual ao valor informado.\n",
    "Ex: \t\n",
    "\tEntrada 30\n",
    "\tSaída 11 + 19 = 30\n",
    "\n",
    "\tEntrada 20\n",
    "\tSaída 9 + 11 = 20\n",
    "\n",
    "\tEntrada -1\n",
    "\tSaída \"Não existe soma entre os valores da lista que seja igual a -1\"\n",
    "\n",
    "\tEntrada 40\n",
    "\tSaída \"Não existe soma entre os valores da lista que seja igual a 40\""
   ]
  },
  {
   "cell_type": "code",
   "execution_count": 53,
   "metadata": {
    "colab": {},
    "colab_type": "code",
    "id": "LuEfwVQjNnBI"
   },
   "outputs": [
    {
     "name": "stdout",
     "output_type": "stream",
     "text": [
      "Não existe soma entre os valores da lista que seja igual a 4\n"
     ]
    }
   ],
   "source": [
    "from sortedcontainers import SortedList\n",
    "\n",
    "sl = SortedList([5, 3, 7, 9, 17, 13, 15, 11, 19])\n",
    "\n",
    "valor = int(input())\n",
    "flag = 0\n",
    "\n",
    "for i in range (len(sl)):\n",
    "    if(sl[i] > valor or flag == 1):\n",
    "        break\n",
    "    for j in range (len(sl)):\n",
    "        if(sl[j] > valor):\n",
    "            break\n",
    "        if(i != j):\n",
    "            if sl[i] + sl[j] == valor:\n",
    "                print(sl[i], \"+\", sl[j], \"=\", valor)\n",
    "                flag = 1\n",
    "                break\n",
    "\n",
    "if flag == 0:\n",
    "    print(\"Não existe soma entre os valores da lista que seja igual a\", valor)\n",
    "        "
   ]
  },
  {
   "cell_type": "markdown",
   "metadata": {
    "colab_type": "text",
    "id": "-AaGXERUHGgd"
   },
   "source": [
    "4 - Desenvolva um programa que mostre quais as três palavras mais frequentes em um texto. A entrada deve ser um texto e o programa deverá exibir uma lista em ordem descrescente das palavras mais utilizadas no texto. "
   ]
  },
  {
   "cell_type": "code",
   "execution_count": 77,
   "metadata": {
    "colab": {},
    "colab_type": "code",
    "id": "LuEfwVQjNnBI"
   },
   "outputs": [
    {
     "name": "stdout",
     "output_type": "stream",
     "text": [
      "As 3 palavras mais utilizadas, em ordem decrescente, são: \n",
      "tomate\n",
      "cebola\n",
      "alface\n"
     ]
    }
   ],
   "source": [
    "from sortedcontainers import SortedList\n",
    "\n",
    "frase = input()\n",
    "\n",
    "frase = frase.split()\n",
    "frase = SortedList(frase)\n",
    "\n",
    "aparicoes = []\n",
    "top3 = []\n",
    "for i in frase:\n",
    "    aparicoes.append(frase.count(i))\n",
    "\n",
    "for i in range (3):\n",
    "    top3.append(frase[aparicoes.index(max(aparicoes))])\n",
    "    for i in range (max(aparicoes)):\n",
    "        aparicoes.remove(max(aparicoes))\n",
    "        frase.pop(aparicoes.index(max(aparicoes)))\n",
    "        \n",
    "top3 = SortedList(top3)\n",
    "\n",
    "i = 2\n",
    "print(\"As 3 palavras mais utilizadas, em ordem decrescente, são: \")\n",
    "while i >= 0:\n",
    "    print(top3[i])\n",
    "    i -= 1\n"
   ]
  }
 ],
 "metadata": {
  "colab": {
   "collapsed_sections": [],
   "name": "Notebook 4.ipynb",
   "provenance": [],
   "toc_visible": true,
   "version": "0.3.2"
  },
  "interpreter": {
   "hash": "e7370f93d1d0cde622a1f8e1c04877d8463912d04d973331ad4851f04de6915a"
  },
  "kernelspec": {
   "display_name": "Python 3.9.7 64-bit",
   "name": "python3"
  },
  "language_info": {
   "codemirror_mode": {
    "name": "ipython",
    "version": 3
   },
   "file_extension": ".py",
   "mimetype": "text/x-python",
   "name": "python",
   "nbconvert_exporter": "python",
   "pygments_lexer": "ipython3",
   "version": "3.9.7"
  }
 },
 "nbformat": 4,
 "nbformat_minor": 1
}
