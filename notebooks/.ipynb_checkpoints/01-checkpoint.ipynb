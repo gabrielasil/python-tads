{
 "cells": [
  {
   "cell_type": "markdown",
   "metadata": {
    "colab_type": "text",
    "id": "ilOE4mE2F1E1"
   },
   "source": [
    "# Conjuntos"
   ]
  },
  {
   "cell_type": "markdown",
   "metadata": {
    "colab_type": "text",
    "id": "xLuXhXixIRB7"
   },
   "source": [
    "Uma pesquisa foi realizada com os alunos de uma turma de Tecnologia da Informação, perguntando quais idiomas cada aluno falava, dentre inglês, espanhol, francês e alemão.\n",
    "\n",
    "Com os resultados coletados, deseja-se saber quantos alunos falam somente um idioma. Considerando que a turma tinha apenas 30 alunos, talvez fosse fácil alcançar tal objetivo.\n",
    "\n",
    "Agora, suponha que essa mesma pesquisa fosse aplicada para todos os alunos da UFRN? E se considerássemos todos os campi da UFRN?\n",
    "\n",
    "É aí que entram os conjuntos!\n",
    "\n",
    "Os conjuntos são tipos abstratos de dados (equivalente aos conjuntos matemáticos) que manipulam coleções de elementos únicos, não ordenados e imutáveis."
   ]
  },
  {
   "cell_type": "markdown",
   "metadata": {
    "colab_type": "text",
    "id": "oaRQcnnIF_ij"
   },
   "source": [
    "## Primeiros passos"
   ]
  },
  {
   "cell_type": "markdown",
   "metadata": {
    "colab_type": "text",
    "id": "ND1SNBnpIwLt"
   },
   "source": [
    "Em Python, um conjunto pode ser criado já com seus elementos declarados, dentro de chaves {} e separando-os por vírgulas.\n",
    "\n",
    "Também é possível criar um conjunto vazio, com a função construtora ```set()```:"
   ]
  },
  {
   "cell_type": "code",
   "execution_count": 1,
   "metadata": {
    "colab": {},
    "colab_type": "code",
    "id": "oi9nn22uIzjb"
   },
   "outputs": [
    {
     "name": "stdout",
     "output_type": "stream",
     "text": [
      "{1, 2, 3, 4, 5}\n",
      "set()\n"
     ]
    }
   ],
   "source": [
    "meu_conjunto = {1, 2, 3, 4, 5}\n",
    "conjunto_vazio = set()\n",
    "\n",
    "print(meu_conjunto)\n",
    "print(conjunto_vazio)"
   ]
  },
  {
   "cell_type": "markdown",
   "metadata": {
    "colab_type": "text",
    "id": "EhoNN5CHJp01"
   },
   "source": [
    "Um conjunto pode ter elementos de diferentes tipos:"
   ]
  },
  {
   "cell_type": "code",
   "execution_count": 2,
   "metadata": {
    "colab": {},
    "colab_type": "code",
    "id": "9pyi5-BDJtbW"
   },
   "outputs": [
    {
     "name": "stdout",
     "output_type": "stream",
     "text": [
      "{'a', 1, 3.3, 'palavra'}\n"
     ]
    }
   ],
   "source": [
    "meu_conjunto = {1, 3.3, 'a', 'palavra'}\n",
    "print(meu_conjunto)"
   ]
  },
  {
   "cell_type": "markdown",
   "metadata": {
    "colab_type": "text",
    "id": "LXrM-DDVKEhx"
   },
   "source": [
    "Além disso, um conjunto pode ser criado com a função construtora ```set()``` tendo como parâmetro um tipo iterável de dados (string, lista, dicionário, tuplas, etc...). \n",
    "\n",
    "Nesse caso, o conjunto formado possui os elementos únicos do tipo iterávels fornecido como parâmetro:"
   ]
  },
  {
   "cell_type": "code",
   "execution_count": 3,
   "metadata": {
    "colab": {},
    "colab_type": "code",
    "id": "kSvywhQAKQjz"
   },
   "outputs": [
    {
     "name": "stdout",
     "output_type": "stream",
     "text": [
      "{',', 'o', 'e', 'l', 'r', 'H', 'w', 'd'}\n"
     ]
    }
   ],
   "source": [
    "meu_conjunto = set('Hello,world')\n",
    "print(meu_conjunto)"
   ]
  },
  {
   "cell_type": "markdown",
   "metadata": {},
   "source": [
    "### Iterando sobre seus elementos"
   ]
  },
  {
   "cell_type": "markdown",
   "metadata": {},
   "source": [
    "Você pode iterar sobre os elementos de um conjunto usando um `for`:"
   ]
  },
  {
   "cell_type": "code",
   "execution_count": 4,
   "metadata": {},
   "outputs": [
    {
     "name": "stdout",
     "output_type": "stream",
     "text": [
      ",\n",
      "o\n",
      "e\n",
      "l\n",
      "r\n",
      "H\n",
      "w\n",
      "d\n"
     ]
    }
   ],
   "source": [
    "for x in meu_conjunto:\n",
    " print(x)"
   ]
  },
  {
   "cell_type": "markdown",
   "metadata": {},
   "source": [
    "Como não há preservação de ordem dos elementos de um `set`, você não pode acessar seus elementos por índices ou confiar em qual ordem eles estarão:"
   ]
  },
  {
   "cell_type": "code",
   "execution_count": 5,
   "metadata": {},
   "outputs": [
    {
     "ename": "TypeError",
     "evalue": "'set' object is not subscriptable",
     "output_type": "error",
     "traceback": [
      "\u001b[0;31m---------------------------------------------------------------------------\u001b[0m",
      "\u001b[0;31mTypeError\u001b[0m                                 Traceback (most recent call last)",
      "\u001b[0;32m/tmp/ipykernel_77002/3532422609.py\u001b[0m in \u001b[0;36m<module>\u001b[0;34m\u001b[0m\n\u001b[0;32m----> 1\u001b[0;31m \u001b[0mmeu_conjunto\u001b[0m\u001b[0;34m[\u001b[0m\u001b[0;36m0\u001b[0m\u001b[0;34m]\u001b[0m\u001b[0;34m\u001b[0m\u001b[0;34m\u001b[0m\u001b[0m\n\u001b[0m",
      "\u001b[0;31mTypeError\u001b[0m: 'set' object is not subscriptable"
     ]
    }
   ],
   "source": [
    "meu_conjunto[0]"
   ]
  },
  {
   "cell_type": "markdown",
   "metadata": {
    "colab_type": "text",
    "id": "sO4uG468TeYY"
   },
   "source": [
    "#### Exercícios w3r - [w3resource list](https://www.w3resource.com/python-exercises/python-functions-exercises.php)"
   ]
  },
  {
   "cell_type": "markdown",
   "metadata": {
    "colab_type": "text",
    "id": "1jkEksPIU02F"
   },
   "source": [
    "1 -  Escreva um procedimento que determine o maior número dentro de um conjunto de 7 números."
   ]
  },
  {
   "cell_type": "code",
   "execution_count": 8,
   "metadata": {
    "colab": {},
    "colab_type": "code",
    "id": "P5mpbHUnVQok"
   },
   "outputs": [
    {
     "name": "stdout",
     "output_type": "stream",
     "text": [
      "8\n"
     ]
    }
   ],
   "source": [
    "conjunto = {1, 8, 5, 3, 4, 6, 7}\n",
    "\n",
    "print(max(conjunto))"
   ]
  },
  {
   "cell_type": "markdown",
   "metadata": {
    "colab_type": "text",
    "id": "roGVGDLhVubL"
   },
   "source": [
    "2 - Escreva um procedimento que some todos os elementos de um conjunto."
   ]
  },
  {
   "cell_type": "code",
   "execution_count": 9,
   "metadata": {
    "colab": {},
    "colab_type": "code",
    "id": "h4V_VlBtV13T"
   },
   "outputs": [
    {
     "name": "stdout",
     "output_type": "stream",
     "text": [
      "34\n"
     ]
    }
   ],
   "source": [
    "print(sum(conjunto))"
   ]
  },
  {
   "cell_type": "markdown",
   "metadata": {
    "colab_type": "text",
    "id": "R7DdPaF8V2ny"
   },
   "source": [
    "3 - Escreva um procedimento que multiplique todos os elementos de um conjunto."
   ]
  },
  {
   "cell_type": "code",
   "execution_count": 10,
   "metadata": {},
   "outputs": [
    {
     "name": "stdout",
     "output_type": "stream",
     "text": [
      "20160\n"
     ]
    }
   ],
   "source": [
    "import math \n",
    "\n",
    "print(math.prod(conjunto))"
   ]
  },
  {
   "cell_type": "markdown",
   "metadata": {},
   "source": [
    "> Como os exercícios acima são bem comuns no dia-a-dia, Python tem procedimentos-padrão para resolvê-los. Pesquise sobre eles e veja como fica bem mais simples de resolver essas questões 👍🏻"
   ]
  },
  {
   "cell_type": "markdown",
   "metadata": {
    "colab_type": "text",
    "id": "y38humahGCyX"
   },
   "source": [
    "## Como usar o `set`"
   ]
  },
  {
   "cell_type": "markdown",
   "metadata": {
    "colab_type": "text",
    "id": "MPksi_HuLOKV"
   },
   "source": [
    "### Adição e remoção de elementos \n",
    "\n",
    "Depois de ser criado, um conjunto pode ser modificado, tendo elementos adicionados ou removidos dele.\n",
    "\n",
    "Para adicionar um elemento, utiliza-se o método ```add()```. \n",
    "\n",
    "> Confira na sessão de **Extras** os comandos `update` para adição de múltiplos elementos."
   ]
  },
  {
   "cell_type": "code",
   "execution_count": 11,
   "metadata": {
    "colab": {},
    "colab_type": "code",
    "id": "4rRjt12NLQjF"
   },
   "outputs": [
    {
     "name": "stdout",
     "output_type": "stream",
     "text": [
      "{1, 2, 3, 4}\n"
     ]
    }
   ],
   "source": [
    "meu_conjunto = {1, 2, 3}\n",
    "meu_conjunto.add(4)\n",
    "print(meu_conjunto)"
   ]
  },
  {
   "cell_type": "markdown",
   "metadata": {
    "colab_type": "text",
    "id": "AEfOVzgmLel7"
   },
   "source": [
    "Já para remover, tem-se o método ```remove()```, que elimina do conjunto o elemento passado como parâmetro:"
   ]
  },
  {
   "cell_type": "code",
   "execution_count": 12,
   "metadata": {
    "colab": {},
    "colab_type": "code",
    "id": "zuRXcU69LoLI"
   },
   "outputs": [
    {
     "name": "stdout",
     "output_type": "stream",
     "text": [
      "{1, 2}\n"
     ]
    }
   ],
   "source": [
    "meu_conjunto = {1, 2, 3}\n",
    "meu_conjunto.remove(3)\n",
    "print(meu_conjunto) "
   ]
  },
  {
   "cell_type": "markdown",
   "metadata": {
    "colab_type": "text",
    "id": "aQ69iaVnL8xR"
   },
   "source": [
    "E, se por algum motivo, o usuário tentar remover um elemento que não existe no conjunto?"
   ]
  },
  {
   "cell_type": "code",
   "execution_count": 13,
   "metadata": {
    "colab": {},
    "colab_type": "code",
    "id": "PqpKn982L9nt"
   },
   "outputs": [
    {
     "ename": "KeyError",
     "evalue": "4",
     "output_type": "error",
     "traceback": [
      "\u001b[0;31m---------------------------------------------------------------------------\u001b[0m",
      "\u001b[0;31mKeyError\u001b[0m                                  Traceback (most recent call last)",
      "\u001b[0;32m/tmp/ipykernel_77002/1966393711.py\u001b[0m in \u001b[0;36m<module>\u001b[0;34m\u001b[0m\n\u001b[1;32m      1\u001b[0m \u001b[0mmeu_conjunto\u001b[0m \u001b[0;34m=\u001b[0m \u001b[0;34m{\u001b[0m\u001b[0;36m1\u001b[0m\u001b[0;34m,\u001b[0m \u001b[0;36m2\u001b[0m\u001b[0;34m,\u001b[0m \u001b[0;36m3\u001b[0m\u001b[0;34m}\u001b[0m\u001b[0;34m\u001b[0m\u001b[0;34m\u001b[0m\u001b[0m\n\u001b[0;32m----> 2\u001b[0;31m \u001b[0mmeu_conjunto\u001b[0m\u001b[0;34m.\u001b[0m\u001b[0mremove\u001b[0m\u001b[0;34m(\u001b[0m\u001b[0;36m4\u001b[0m\u001b[0;34m)\u001b[0m\u001b[0;34m\u001b[0m\u001b[0;34m\u001b[0m\u001b[0m\n\u001b[0m\u001b[1;32m      3\u001b[0m \u001b[0mprint\u001b[0m\u001b[0;34m(\u001b[0m\u001b[0mmeu_conjunto\u001b[0m\u001b[0;34m)\u001b[0m\u001b[0;34m\u001b[0m\u001b[0;34m\u001b[0m\u001b[0m\n",
      "\u001b[0;31mKeyError\u001b[0m: 4"
     ]
    }
   ],
   "source": [
    "meu_conjunto = {1, 2, 3}\n",
    "meu_conjunto.remove(4)\n",
    "print(meu_conjunto) "
   ]
  },
  {
   "cell_type": "markdown",
   "metadata": {
    "colab_type": "text",
    "id": "kvUgGNk2MEn5"
   },
   "source": [
    "Você recebeu o erro `KeyError`, justamente porque o `remove()` só remove elementos que fazem parte do conjunto. \n",
    "\n",
    "Para essa situação, existe o método `discard()`, que tenta remover um elemento sem disparar erros caso ele não exista."
   ]
  },
  {
   "cell_type": "code",
   "execution_count": 14,
   "metadata": {
    "colab": {},
    "colab_type": "code",
    "id": "e5zb9PrhMbIz"
   },
   "outputs": [
    {
     "name": "stdout",
     "output_type": "stream",
     "text": [
      "{1, 3}\n",
      "{1, 3}\n"
     ]
    }
   ],
   "source": [
    "meu_conjunto = {1, 2, 3}\n",
    "meu_conjunto.discard(2)\n",
    "print(meu_conjunto) \n",
    "meu_conjunto.discard(4)\n",
    "print(meu_conjunto) "
   ]
  },
  {
   "cell_type": "markdown",
   "metadata": {
    "colab_type": "text",
    "id": "YM2I76jGMmgU"
   },
   "source": [
    "Também existe o método `clear()`, que remove todos os elementos do conjunto:"
   ]
  },
  {
   "cell_type": "code",
   "execution_count": 15,
   "metadata": {
    "colab": {},
    "colab_type": "code",
    "id": "GJN1pENNMoC9"
   },
   "outputs": [
    {
     "name": "stdout",
     "output_type": "stream",
     "text": [
      "{1, 2, 3}\n",
      "set()\n"
     ]
    }
   ],
   "source": [
    "meu_conjunto = {1, 2, 3}\n",
    "print(meu_conjunto)\n",
    "meu_conjunto.clear()\n",
    "print(meu_conjunto) "
   ]
  },
  {
   "cell_type": "markdown",
   "metadata": {
    "colab_type": "text",
    "id": "_rqm_nCuNHR7"
   },
   "source": [
    "### Cardinalidade \n",
    "\n",
    "O número de elementos de um conjunto pode ser calculado com o procedimento `len()`:"
   ]
  },
  {
   "cell_type": "code",
   "execution_count": 16,
   "metadata": {
    "colab": {},
    "colab_type": "code",
    "id": "dWl_Bzd6NJgW"
   },
   "outputs": [
    {
     "name": "stdout",
     "output_type": "stream",
     "text": [
      "3\n"
     ]
    }
   ],
   "source": [
    "meu_conjunto = {1, 2, 3}\n",
    "print (len(meu_conjunto))"
   ]
  },
  {
   "cell_type": "markdown",
   "metadata": {
    "colab_type": "text",
    "id": "5r_4F-SzHlWC"
   },
   "source": [
    "### União\n",
    "\n",
    "Assim como na matemática, a união de `sets` concatena os elementos dos conjuntos em questão em um só.\n",
    "\n",
    "Em Python, a operação é realizada através do método `union()` ou do operador `|`.\n",
    "\n",
    "> A união de conjuntos significa literalmente identificar os elementos presentes em um conjunto **ou** no outro. É por isso que podemos usar o operador lógico `|` 🙃 \n",
    "\n",
    "No exemplo abaixo, temos dois conjuntos distintos `a` e `b` que desejamos unir:"
   ]
  },
  {
   "cell_type": "code",
   "execution_count": 17,
   "metadata": {
    "colab": {},
    "colab_type": "code",
    "id": "SGT6bQNbHudf"
   },
   "outputs": [
    {
     "name": "stdout",
     "output_type": "stream",
     "text": [
      "{1, 2, 3, 4, 5, 6}\n",
      "{1, 2, 3, 4, 5, 6}\n"
     ]
    }
   ],
   "source": [
    "a = {1, 2, 3, 4}\n",
    "b = {3, 4, 5, 6}\n",
    "\n",
    "# operando com union()\n",
    "print(a.union(b))\n",
    "\n",
    "# operando com |\n",
    "print(a | b)"
   ]
  },
  {
   "cell_type": "markdown",
   "metadata": {
    "colab_type": "text",
    "id": "tJkYrP_QISog"
   },
   "source": [
    "### Intersecção\n",
    "\n",
    "Fazendo a interseção entre dois `sets`, obtemos o conjunto de elementos em comum entre eles.\n",
    "\n",
    "Podemos realizar essa operação através do método `intersection()` ou do operador `&`.\n",
    "\n",
    "> A intersecção de conjuntos significa literalmente identificar os elementos presentes em um conjunto **e** no outro. É por isso que podemos usar o operador lógico `&` 🙃 "
   ]
  },
  {
   "cell_type": "code",
   "execution_count": 18,
   "metadata": {
    "colab": {},
    "colab_type": "code",
    "id": "l68oYejMIe-7"
   },
   "outputs": [
    {
     "name": "stdout",
     "output_type": "stream",
     "text": [
      "{3, 4}\n",
      "{3, 4}\n"
     ]
    }
   ],
   "source": [
    "# operando com intersection()\n",
    "print(a.intersection(b))\n",
    "\n",
    "#operando com &\n",
    "print(a & b)"
   ]
  },
  {
   "cell_type": "markdown",
   "metadata": {
    "colab_type": "text",
    "id": "cE5JZpt1IlJv"
   },
   "source": [
    "### Diferença\n",
    "\n",
    "Com a diferença entre `a` e `b`, obtemos o conjunto de elementos que pertencem ao conjunto `a`, mas não pertencem ao conjunto `b`.\n",
    "\n",
    "Realizamos esta operação usando o método `difference()` ou o operador `-`. \n",
    "\n",
    "**Note que `a - b` não é necessariamente igual a `b - a`.**\n",
    "\n",
    "> A diferença de conjuntos significa literalmente identificar os elementos presentes em um conjunto, **menos** os que estejam no outro. É por isso que podemos usar o operador aritmético `-` 🙃 "
   ]
  },
  {
   "cell_type": "code",
   "execution_count": 19,
   "metadata": {
    "colab": {},
    "colab_type": "code",
    "id": "uFDjRpwsI1E2"
   },
   "outputs": [
    {
     "name": "stdout",
     "output_type": "stream",
     "text": [
      "{1, 2}\n",
      "{5, 6}\n",
      "{1, 2}\n",
      "{5, 6}\n"
     ]
    }
   ],
   "source": [
    "# operando com difference()\n",
    "print(a.difference(b))\n",
    "print(b.difference(a))\n",
    "\n",
    "# operando com -\n",
    "print(a - b)\n",
    "print(b - a)"
   ]
  },
  {
   "cell_type": "markdown",
   "metadata": {
    "colab_type": "text",
    "id": "XPfzCP-xI61N"
   },
   "source": [
    "### Diferença simétrica\n",
    "\n",
    "A diferença simétrica representa a união dos elementos de dois conjuntos, com exceção daqueles que estejam na intersecção entre estes dois conjuntos.\n",
    "\n",
    "É possível realizar esta operação através do método `symmetric_difference()` ou do operador `^`.\n",
    "\n",
    "> A diferença simétrica de conjuntos significa literalmente identificar os elementos presentes **ou** em um conjunto **ou** no outro. É por isso que podemos usar o operador lógico `^`, que representa o **ou exclusivo** 🙃 "
   ]
  },
  {
   "cell_type": "code",
   "execution_count": 20,
   "metadata": {
    "colab": {},
    "colab_type": "code",
    "id": "rVty_0EcJBug"
   },
   "outputs": [
    {
     "name": "stdout",
     "output_type": "stream",
     "text": [
      "{1, 2, 5, 6}\n",
      "{1, 2, 5, 6}\n"
     ]
    }
   ],
   "source": [
    "# operando com symmetric_difference()\n",
    "print(a.symmetric_difference(b))\n",
    "\n",
    "# operando com ^\n",
    "print(a ^ b)"
   ]
  },
  {
   "cell_type": "markdown",
   "metadata": {
    "colab_type": "text",
    "id": "VlxTDCtWJbyd"
   },
   "source": [
    "### Pertinência\n",
    "\n",
    "Utilizando o operador de pertinência `in`, podemos verificar se um elemento está ou não em um conjunto:"
   ]
  },
  {
   "cell_type": "code",
   "execution_count": 21,
   "metadata": {
    "colab": {},
    "colab_type": "code",
    "id": "s_szy9T1Jf0V"
   },
   "outputs": [
    {
     "data": {
      "text/plain": [
       "True"
      ]
     },
     "execution_count": 21,
     "metadata": {},
     "output_type": "execute_result"
    }
   ],
   "source": [
    "1 in a"
   ]
  },
  {
   "cell_type": "code",
   "execution_count": 22,
   "metadata": {
    "colab": {},
    "colab_type": "code",
    "id": "rVWrE64JJv8z"
   },
   "outputs": [
    {
     "data": {
      "text/plain": [
       "False"
      ]
     },
     "execution_count": 22,
     "metadata": {},
     "output_type": "execute_result"
    }
   ],
   "source": [
    "5 in a"
   ]
  },
  {
   "cell_type": "markdown",
   "metadata": {},
   "source": [
    "Também podemos combinar o operador `in` com o operador lógico `not`:"
   ]
  },
  {
   "cell_type": "code",
   "execution_count": 23,
   "metadata": {
    "colab": {},
    "colab_type": "code",
    "id": "NFFeJzOnQSoj"
   },
   "outputs": [
    {
     "data": {
      "text/plain": [
       "True"
      ]
     },
     "execution_count": 23,
     "metadata": {},
     "output_type": "execute_result"
    }
   ],
   "source": [
    "8 not in a"
   ]
  },
  {
   "cell_type": "markdown",
   "metadata": {},
   "source": [
    "### Continência e disjunção"
   ]
  },
  {
   "cell_type": "markdown",
   "metadata": {
    "colab_type": "text",
    "id": "utuzvdZyKk-L"
   },
   "source": [
    "Enquanto o operador `in` verifica se um elemento pertence a um conjunto, o `set` oferece três métodos para testar relações entre conjuntos: "
   ]
  },
  {
   "cell_type": "markdown",
   "metadata": {},
   "source": [
    "1. `issubset()` ou `<=`:  testa se um conjunto está contido em outro, ou seja, se um conjunto é um subconjunto do outro."
   ]
  },
  {
   "cell_type": "code",
   "execution_count": 24,
   "metadata": {
    "colab": {},
    "colab_type": "code",
    "id": "C7509kyLKpn-"
   },
   "outputs": [
    {
     "name": "stdout",
     "output_type": "stream",
     "text": [
      "C é subconjunto de A, pois C está contido em A.\n",
      "C é subconjunto de A, pois C está contido em A.\n"
     ]
    }
   ],
   "source": [
    "c = {1, 2}\n",
    "\n",
    "# operando com issubset()\n",
    "if c.issubset(a): \n",
    "  print(\"C é subconjunto de A, pois C está contido em A.\")\n",
    "else:\n",
    "  print(\"C não é subconjunto de A, pois C não está contido em A.\")\n",
    "\n",
    "# operando com <=\n",
    "if not c <= a: \n",
    "  print(\"C não é subconjunto de A, pois C não está contido em A.\")\n",
    "else:\n",
    "  print(\"C é subconjunto de A, pois C está contido em A.\")"
   ]
  },
  {
   "cell_type": "markdown",
   "metadata": {
    "colab_type": "text",
    "id": "NK1SRkIyK3sG"
   },
   "source": [
    "2. `issuperset()` ou `>=`:  testa se um conjunto contém o outro, ou seja, se um conjunto é um superconjunto do outro."
   ]
  },
  {
   "cell_type": "code",
   "execution_count": 25,
   "metadata": {
    "colab": {},
    "colab_type": "code",
    "id": "7eaiyrLfLCsF"
   },
   "outputs": [
    {
     "name": "stdout",
     "output_type": "stream",
     "text": [
      "A é superconjunto de C, pois A contém C.\n",
      "A é superconjunto de C, pois A contém C.\n"
     ]
    }
   ],
   "source": [
    "# operando com issuperset()\n",
    "if a.issuperset(c):\n",
    "  print(\"A é superconjunto de C, pois A contém C.\")\n",
    "else:\n",
    "  print(\"A não é superconjunto de C, pois A não contém C.\")\n",
    "  \n",
    "# operando com >=\n",
    "if not a >= c:\n",
    "  print(\"A não é superconjunto de C, pois A não contém C.\")\n",
    "else:\n",
    "  print(\"A é superconjunto de C, pois A contém C.\")"
   ]
  },
  {
   "cell_type": "markdown",
   "metadata": {},
   "source": [
    "> As relações `<=` e `>=` são simétricas, então `a >= b` equivale a `b <= a`."
   ]
  },
  {
   "cell_type": "markdown",
   "metadata": {
    "colab_type": "text",
    "id": "9QjPx2nZMOgj"
   },
   "source": [
    "3. `isdisjoint()`: testa se dois conjuntos são disjuntos, ou seja, se a interseção entre eles é vazia."
   ]
  },
  {
   "cell_type": "code",
   "execution_count": 26,
   "metadata": {
    "colab": {},
    "colab_type": "code",
    "id": "dcknyU00MUa2"
   },
   "outputs": [
    {
     "name": "stdout",
     "output_type": "stream",
     "text": [
      "C e A não são disjuntos, pois sua interseção não é vazia.\n",
      "C e B são disjuntos, pois sua interseção é vazia.\n"
     ]
    }
   ],
   "source": [
    "if c.isdisjoint(a):\n",
    "  print(\"C e A são disjuntos, pois sua interseção é vazia.\")\n",
    "else:\n",
    "  print(\"C e A não são disjuntos, pois sua interseção não é vazia.\")\n",
    "if c.isdisjoint(b):\n",
    "  print(\"C e B são disjuntos, pois sua interseção é vazia.\")\n",
    "else:\n",
    "  print(\"C e B não são disjuntos, pois sua interseção não é vazia.\")"
   ]
  },
  {
   "cell_type": "markdown",
   "metadata": {
    "colab_type": "text",
    "id": "va2_qr9VRCxm"
   },
   "source": [
    "# Exercícios"
   ]
  },
  {
   "cell_type": "markdown",
   "metadata": {
    "colab_type": "text",
    "id": "0ZrVKl2LRHPn"
   },
   "source": [
    "1 - Agora que já temos um bom conhecimentos sobre os conjuntos, voltemos ao exemplo da introdução. \n",
    "\n",
    "Os dados sobre conhecimento em diversos idiomas pelos estudantes da UFRN são guardados em um banco de dados. \n",
    "\n",
    "Após consulta a essa base de dados, a matrícula dos alunos foram salvas nos conjuntos relativos aos idiomas que cada um fala:"
   ]
  },
  {
   "cell_type": "code",
   "execution_count": 28,
   "metadata": {
    "colab": {},
    "colab_type": "code",
    "id": "YgOmzQPrRdHa"
   },
   "outputs": [],
   "source": [
    "ingles = {2017992691, 2014731077, 2016127320, 2017673650, 2017675600, 2016071490, 2015763941,2018124856, 2014240183, 2015069118, 2017397627, 2018257434, 2018146279,2018336479, 2016255160, 2016191681, 2017462010, 2015267990, 2018353177,2016316106, 2017534024, 2017435227, 2018485174, 2017511916, 2018252953, 2018230360, 2015896310, 2016403233, 2018036952, 2018223748, 2017106407, 2018928865, 2015808443, 2015490023, 2014680801, 2016797947, 2017169550, 2017741705, 2016449433, 2018701674, 2018681674, 2018822119, 2015629894, 2018552429, 2014160569, 2014812342, 2015241433, 2015633224, 2015938370, 2014994808, 2018682286, 2014920254, 2017952048, 2014899143, 2018459199, 2015659561, 2018886010, 2016111302, 2018528579, 2017559038, 2018248638, 2015560871, 2014569332, 2018652276, 2016701261, 2016308042, 2016310173, 2017705448, 2014399415, 2016268450, 2017608181, 2015981561, 2014964705, 2014655030, 2017687958, 2016162852, 2017223176, 2014759427, 2017290535, 2017031946, 2017042504, 2018916372, 2017757689, 2014922487, 2016080164, 2014792539, 2016110301, 2015200433, 2015667306, 2014891106, 2014748251, 2018911399, 2015008915, 2014976823, 2018870448}\n",
    "espanhol = {2017992691, 2014731077, 2016127320, 2017673650, 2017675600, 2016071490, 2015763941, 2015365994, 2014728861, 2014152867, 2018044073, 2015856913, 2018124856, 2014240183, 2017534024, 2017435227, 2018485174, 2017511916, 2018252953, 2018230360, 2015896310, 2016403233, 2018036952, 2018223748, 2017106407, 2018928865, 2015808443, 2015490023, 2014680801, 2016797947, 2017169550, 2017741705, 2016449433, 2018701674, 2018681674, 2018822119, 2015629894, 2018552429, 2014160569, 2014812342, 2015241433, 2015633224, 2015938370, 2014994808, 2018682286, 2014920254, 2017952048, 2014899143, 2018459199, 2015659561, 2018886010, 2016111302, 2018528579, 2017559038, 2018248638, 2015560871, 2014569332, 2018652276, 2016701261, 2016308042, 2016310173, 2017705448, 2014399415, 2016268450}\n",
    "frances = {2016268450, 2017608181, 2015981561, 2014964705, 2014655030, 2017687958, 2016162852, 2017223176, 2014759427, 2017290535, 2017031946, 2017042504, 2018916372, 2017757689, 2014922487, 2016080164, 2014792539, 2016110301, 2015200433, 2015667306, 2014891106, 2014748251, 2018911399, 2015008915, 2014976823, 2018870448, 2018230360, 2015896310, 2016403233, 2018036952, 2018223748, 2017106407, 2018928865, 2015808443, 2015490023, 2014680801, 2016797947, 2017169550, 2017741705, 2016449433, 2018701674, 2018681674, 2018822119, 2015629894, 2018552429,}\n",
    "alemao = {2015763941, 2015365994, 2014728861, 2014152867, 2018044073, 2015856913, 2018124856, 2014240183, 2015069118, 2017397627, 2018257434, 2018146279,2018336479, 2016255160, 2016191681, 2017462010, 2015267990, 2018353177,2016316106, 2017534024, 2017435227, 2018485174, 2017511916, 2018252953, 2018230360, 2015896310, 2016403233, 2018036952, 2018223748, 2017106407, 2018928865, 2015808443, 2015490023, 2014680801, 2016797947, 2017169550, 2017741705, 2016449433, 2018701674, 2018681674, 2018822119, 2015629894, 2018552429, 2014160569, 2014812342, 2015241433, 2015633224, 2015938370, 2014994808, 2018682286, 2014920254}"
   ]
  },
  {
   "cell_type": "markdown",
   "metadata": {
    "colab_type": "text",
    "id": "ZP7aLZTtRrBs"
   },
   "source": [
    "1.1 - Calcule quantos alunos falam apenas inglês e espanhol:"
   ]
  },
  {
   "cell_type": "code",
   "execution_count": 29,
   "metadata": {
    "colab": {},
    "colab_type": "code",
    "id": "cOpD-g4aRsQB"
   },
   "outputs": [
    {
     "name": "stdout",
     "output_type": "stream",
     "text": [
      "{2014759427, 2017223176, 2018916372, 2018353177, 2018257434, 2016162852, 2015659561, 2014655030, 2018124856, 2014920254, 2018459199, 2015629894, 2017534024, 2017042504, 2018230360, 2017435227, 2014748251, 2014891106, 2015667306, 2018552429, 2018652276, 2018223748, 2017169550, 2015008915, 2015267990, 2018252953, 2014728861, 2016268450, 2014152867, 2015560871, 2018911399, 2018044073, 2018870448, 2015200433, 2014812342, 2016255160, 2014160569, 2016191681, 2016111302, 2016316106, 2018036952, 2015241433, 2016110301, 2018336479, 2018928865, 2014680801, 2015896310, 2014922487, 2017462010, 2016797947, 2017031946, 2015856913, 2016403233, 2016080164, 2017290535, 2017952048, 2014976823, 2016071490, 2015938370, 2018528579, 2014731077, 2015633224, 2018681674, 2016308042, 2016701261, 2017675600, 2016127320, 2014792539, 2015981561, 2018701674, 2015365994, 2014569332, 2014994808, 2018886010, 2017397627, 2017741705, 2017687958, 2016449433, 2016310173, 2018682286, 2017673650, 2018485174, 2014240183, 2014399415, 2015808443, 2015069118, 2018248638, 2014899143, 2014964705, 2015763941, 2018146279, 2017106407, 2015490023, 2018822119, 2017705448, 2017511916, 2017992691, 2017608181, 2017757689, 2017559038}\n"
     ]
    }
   ],
   "source": [
    "print(ingles | espanhol)"
   ]
  },
  {
   "cell_type": "markdown",
   "metadata": {
    "colab_type": "text",
    "id": "EAbcOQ2DRv4A"
   },
   "source": [
    "1.2 - Calcule quantos alunos falam apenas um idioma:"
   ]
  },
  {
   "cell_type": "code",
   "execution_count": 32,
   "metadata": {
    "colab": {},
    "colab_type": "code",
    "id": "I0XlgJdrR0Ve"
   },
   "outputs": [
    {
     "name": "stdout",
     "output_type": "stream",
     "text": [
      "{2018252953, 2016268450, 2018682286, 2018485174, 2014240183, 2018124856, 2014160569, 2014812342, 2014920254, 2015938370, 2017534024, 2015633224, 2015241433, 2017435227, 2015763941, 2017511916, 2014994808}\n"
     ]
    }
   ],
   "source": [
    "print(ingles ^ espanhol ^ alemao ^ frances)"
   ]
  },
  {
   "cell_type": "markdown",
   "metadata": {
    "colab_type": "text",
    "id": "Z_HROn0QRs_W"
   },
   "source": [
    "1.3 - Calcule quantos alunos falam dois idiomas:"
   ]
  },
  {
   "cell_type": "code",
   "execution_count": 33,
   "metadata": {
    "colab": {},
    "colab_type": "code",
    "id": "TmNx8vBCRz1I"
   },
   "outputs": [
    {
     "name": "stdout",
     "output_type": "stream",
     "text": [
      "{2014759427, 2017223176, 2017031946, 2015856913, 2018916372, 2018353177, 2018257434, 2016162852, 2016080164, 2017290535, 2015659561, 2017952048, 2014655030, 2014976823, 2018124856, 2014920254, 2018459199, 2015938370, 2016071490, 2018528579, 2014731077, 2017534024, 2017042504, 2015633224, 2016308042, 2016701261, 2017675600, 2016127320, 2017435227, 2014748251, 2014792539, 2015981561, 2014891106, 2015667306, 2015365994, 2018652276, 2014569332, 2014994808, 2018886010, 2017397627, 2015008915, 2015267990, 2017687958, 2018252953, 2014728861, 2016310173, 2016268450, 2014152867, 2018911399, 2015560871, 2018044073, 2018682286, 2018870448, 2015200433, 2017673650, 2014812342, 2018485174, 2016255160, 2014160569, 2014240183, 2014399415, 2015069118, 2018248638, 2016191681, 2016111302, 2014899143, 2016316106, 2015241433, 2016110301, 2018336479, 2014964705, 2015763941, 2018146279, 2017705448, 2017511916, 2017992691, 2017608181, 2014922487, 2017757689, 2017462010, 2017559038}\n"
     ]
    }
   ],
   "source": [
    "print((ingles & espanhol) ^ (ingles & alemao) ^ (ingles & frances) ^ (espanhol & alemao) ^ (espanhol & frances) ^ (alemao & frances))"
   ]
  },
  {
   "cell_type": "markdown",
   "metadata": {
    "colab_type": "text",
    "id": "Bx2KGgZKSKKR"
   },
   "source": [
    "Já imaginou realizar esses cálculos sem o ```set()```? Com certeza, teríamos mais trabalho.\n",
    "\n",
    "Nesse exercício, vimos uma das utilidades dos conjuntos, que é realizar operações. Outra ocasião em que pode ser bastante útil é na remoção de elementos repetidos de uma sequência. Para entender melhor, faça o exercício 2:"
   ]
  },
  {
   "cell_type": "markdown",
   "metadata": {
    "colab_type": "text",
    "id": "GsztDDtzSLUQ"
   },
   "source": [
    "2 - **[OBI - 2012]** Certa vez, numa aula, a professora passou um filme para os alunos assistirem. Durante este filme, ela passou uma lista de presença em sua sala para verificar a presença dos alunos, onde cada aluno deveria inserir apenas seu número de registro. Alguns alunos contudo, como possuem amigos que fogem da aula, decidiram ser camaradas e inseriram os números de registro de seus amigos fujões. O problema é que muitos alunos são amigos de alunos que fogem da aula e alguns números de registro acabaram sendo repetidamente inseridos na lista de presença. Além de tudo, alguns dos alunos que se esperava que não estivessem na aula de fato estavam!\n",
    "\n",
    "A professora, ao notar que a lista de presença continha alguns números repetidos, ficou sem entender, mas decidiu dar um voto de confiança e dar presença a todos os alunos cujos números de registro estavam na lista. Como são muitos alunos na sala e muitos números com repetição, ela pediu a sua ajuda para determinar o total de alunos que receberam presença na aula."
   ]
  },
  {
   "cell_type": "markdown",
   "metadata": {
    "colab_type": "text",
    "id": "WpucsZKZS7Sn"
   },
   "source": [
    "**Entrada**\n",
    "\n",
    "A primeira linha da entrada contém um número inteiro N , que informa a quantidade de números de registro que apareceram na lista de presença. Cada uma das N linhas seguintes contém um número de registro Vi que foi inserido na lista de presença.\n",
    "\n",
    "**Saída**\n",
    "Seu programa deve imprimir uma única linha, contendo apenas um número inteiro, o número de alunos que receberam presença."
   ]
  },
  {
   "cell_type": "markdown",
   "metadata": {
    "colab_type": "text",
    "id": "ptPTsS7kTRyu"
   },
   "source": [
    "| Entrada            \t| Saída \t|\n",
    "|--------------------\t|-------\t|\n",
    "| 3<br> 2<br>3<br>1|   3   \t|"
   ]
  },
  {
   "cell_type": "code",
   "execution_count": 38,
   "metadata": {
    "colab": {},
    "colab_type": "code",
    "id": "q7GEc59NTeVk"
   },
   "outputs": [
    {
     "name": "stdout",
     "output_type": "stream",
     "text": [
      "3\n"
     ]
    }
   ],
   "source": [
    "n = int(input())\n",
    "\n",
    "alunos = set()\n",
    "for i in range (n):\n",
    "    alunos.add(int(input()))\n",
    "\n",
    "print(len(alunos))"
   ]
  },
  {
   "cell_type": "markdown",
   "metadata": {
    "colab_type": "text",
    "id": "hGQloYI5TfFe"
   },
   "source": [
    "3 - **[Continuação]** No dia seguinte, a professora deu um grande sermão para os seus alunos, que se comprometeram a não fugir mais das aulas.\n",
    "Passada uma semana, a professora passou mais um filme para os seus alunos assistirem e a mesma situação se repetiu. Chateada, ela decidiu que, dessa vez, daria falta nos alunos que tinham registro repetido na lista de presença. Mais uma vez, ela pediu a sua ajuda para determinar o total de alunos que receberam presença na aula."
   ]
  },
  {
   "cell_type": "markdown",
   "metadata": {
    "colab_type": "text",
    "id": "MxbSUPtcTpSQ"
   },
   "source": [
    "**Entrada**\n",
    "\n",
    "A primeira linha da entrada contém um número inteiro N , que informa a quantidade de números de registro que apareceram na lista de presença. Cada uma das N linhas seguintes contém um número de registro Vi que foi inserido na lista de presença.\n",
    "\n",
    "**Saída**\n",
    "\n",
    "Seu programa deve imprimir uma única linha, contendo apenas um número inteiro, o número de alunos que receberam presença.\n"
   ]
  },
  {
   "cell_type": "markdown",
   "metadata": {
    "colab_type": "text",
    "id": "R3BU7OJbTyJq"
   },
   "source": [
    "| Entrada            \t| Saída \t|\n",
    "|--------------------\t| -------\t|\n",
    "| 15<br>1<br>0<br>5<br>6<br>0<br>12<br>25<br>6<br>2<br>6<br>5<br>0<br>25<br>13<br>2 |    4   \t|"
   ]
  },
  {
   "cell_type": "code",
   "execution_count": 49,
   "metadata": {
    "colab": {},
    "colab_type": "code",
    "id": "3YeNjIU4LC3C"
   },
   "outputs": [
    {
     "name": "stdout",
     "output_type": "stream",
     "text": [
      "3\n"
     ]
    }
   ],
   "source": [
    "n = int(input())\n",
    "\n",
    "alunos = set()\n",
    "excluidos = set()\n",
    "for i in range (n):\n",
    "    aluno = int(input())\n",
    "    if aluno in alunos:\n",
    "        alunos.remove(aluno)\n",
    "        excluidos.add(aluno)\n",
    "    elif aluno in excluidos:\n",
    "        continue\n",
    "    else:\n",
    "        alunos.add(aluno)\n",
    "        \n",
    "print(len(alunos))"
   ]
  },
  {
   "cell_type": "markdown",
   "metadata": {
    "colab_type": "text",
    "id": "G21D68zTU3Vd"
   },
   "source": [
    "3 - João e Maria possuem um dado de 12 faces e gostam de jogar com ele da seguinte forma:\n",
    "- João lança o dado e o número da face virada para cima é eliminado;\n",
    "- depois, Maria repete o processo. Caso tire um número que já foi eliminado, nada acontece;\n",
    "- assim continuam até que não restem mais números para serem eliminados;\n",
    "- ganha quem conseguir eliminar o último número. <br>\n",
    "Faça um programa que simule esse jogo"
   ]
  },
  {
   "cell_type": "code",
   "execution_count": 55,
   "metadata": {
    "colab": {},
    "colab_type": "code",
    "id": "abFSN0BPWQcp"
   },
   "outputs": [
    {
     "name": "stdout",
     "output_type": "stream",
     "text": [
      "João descartou o número 8\n",
      "Números restantes:  {1, 2, 3, 4, 5, 6, 7, 9, 10, 11, 12}\n",
      "Maria descartou o número 7\n",
      "Números restantes:  {1, 2, 3, 4, 5, 6, 9, 10, 11, 12}\n",
      "João descartou o número 12\n",
      "Números restantes:  {1, 2, 3, 4, 5, 6, 9, 10, 11}\n",
      "Maria descartou o número 10\n",
      "Números restantes:  {1, 2, 3, 4, 5, 6, 9, 11}\n",
      "Número 12 já foi descartado\n",
      "Números restantes:  {1, 2, 3, 4, 5, 6, 9, 11}\n",
      "Número 8 já foi descartado\n",
      "Números restantes:  {1, 2, 3, 4, 5, 6, 9, 11}\n",
      "João descartou o número 11\n",
      "Números restantes:  {1, 2, 3, 4, 5, 6, 9}\n",
      "Número 10 já foi descartado\n",
      "Números restantes:  {1, 2, 3, 4, 5, 6, 9}\n",
      "João descartou o número 3\n",
      "Números restantes:  {1, 2, 4, 5, 6, 9}\n",
      "Maria descartou o número 9\n",
      "Números restantes:  {1, 2, 4, 5, 6}\n",
      "Número 10 já foi descartado\n",
      "Números restantes:  {1, 2, 4, 5, 6}\n",
      "Maria descartou o número 4\n",
      "Números restantes:  {1, 2, 5, 6}\n",
      "João descartou o número 2\n",
      "Números restantes:  {1, 5, 6}\n",
      "Número 2 já foi descartado\n",
      "Números restantes:  {1, 5, 6}\n",
      "Número 10 já foi descartado\n",
      "Números restantes:  {1, 5, 6}\n",
      "Número 3 já foi descartado\n",
      "Números restantes:  {1, 5, 6}\n",
      "João descartou o número 1\n",
      "Números restantes:  {5, 6}\n",
      "Maria descartou o número 6\n",
      "Números restantes:  {5}\n",
      "Número 4 já foi descartado\n",
      "Números restantes:  {5}\n",
      "Número 2 já foi descartado\n",
      "Números restantes:  {5}\n",
      "Número 11 já foi descartado\n",
      "Números restantes:  {5}\n",
      "Número 10 já foi descartado\n",
      "Números restantes:  {5}\n",
      "Número 12 já foi descartado\n",
      "Números restantes:  {5}\n",
      "Número 7 já foi descartado\n",
      "Números restantes:  {5}\n",
      "Número 10 já foi descartado\n",
      "Números restantes:  {5}\n",
      "Número 1 já foi descartado\n",
      "Números restantes:  {5}\n",
      "Número 10 já foi descartado\n",
      "Números restantes:  {5}\n",
      "Número 11 já foi descartado\n",
      "Números restantes:  {5}\n",
      "Número 11 já foi descartado\n",
      "Números restantes:  {5}\n",
      "Número 4 já foi descartado\n",
      "Números restantes:  {5}\n",
      "Número 10 já foi descartado\n",
      "Números restantes:  {5}\n",
      "Maria descartou o número 5\n",
      "Números restantes:  set()\n",
      "Maria venceu!\n"
     ]
    }
   ],
   "source": [
    "from random import randint\n",
    "\n",
    "dado = {1, 2, 3, 4, 5, 6, 7, 8, 9, 10, 11, 12}\n",
    "\n",
    "counter = 0\n",
    "\n",
    "while len(dado) > 0:\n",
    "    number = randint(1,12)\n",
    "    counter += 1\n",
    "    if number in dado:\n",
    "        dado.discard(number)\n",
    "        if(counter % 2 == 0):\n",
    "            print(\"Maria descartou o número\", number)\n",
    "        else:\n",
    "            print(\"João descartou o número\", number)\n",
    "    else:\n",
    "        print(\"Número\", number, \"já foi descartado\")\n",
    "    print(\"Números restantes: \", dado)\n",
    "\n",
    "if(counter % 2 == 0):\n",
    "    print(\"Maria venceu!\")\n",
    "else:\n",
    "    print(\"João venceu!\")"
   ]
  },
  {
   "cell_type": "markdown",
   "metadata": {
    "colab_type": "text",
    "id": "twjw_hF1N24I"
   },
   "source": [
    "# Extras"
   ]
  },
  {
   "cell_type": "markdown",
   "metadata": {
    "colab_type": "text",
    "id": "hBuv6GdgUXyX"
   },
   "source": [
    "**Update**: Modifica o conjunto A para possuir os elementos de A $\\cup$ B"
   ]
  },
  {
   "cell_type": "code",
   "execution_count": 56,
   "metadata": {
    "colab": {},
    "colab_type": "code",
    "id": "jGYVaBaTUkf3"
   },
   "outputs": [
    {
     "name": "stdout",
     "output_type": "stream",
     "text": [
      "{1, 2, 3, 4}\n",
      "{3, 4, 5, 6}\n",
      "{1, 2, 3, 4, 5, 6}\n",
      "{1, 2, 3, 4, 5, 6}\n",
      "{3, 4, 5, 6}\n"
     ]
    }
   ],
   "source": [
    "a = {1, 2, 3, 4}\n",
    "b = {3, 4, 5, 6}\n",
    "print(a)\n",
    "print(b)\n",
    "print(a.union(b))\n",
    "a.update(b)\n",
    "print(a)\n",
    "print(b)"
   ]
  },
  {
   "cell_type": "markdown",
   "metadata": {
    "colab_type": "text",
    "id": "UznGU1E6Uv4j"
   },
   "source": [
    "A função ```update()``` pode ser utilizada com outras funções, sendo escrita como sufixo. \n",
    "\n",
    "Nesse caso, ela sobrescreve o conjunto A para ser equivalente a operação desejada. \n",
    "\n",
    "Por exemplo:"
   ]
  },
  {
   "cell_type": "code",
   "execution_count": 57,
   "metadata": {
    "colab": {},
    "colab_type": "code",
    "id": "q0XJwlsPUyxF"
   },
   "outputs": [
    {
     "name": "stdout",
     "output_type": "stream",
     "text": [
      "{1, 2, 3, 4}\n",
      "{3, 4, 5, 6}\n",
      "{3, 4}\n",
      "{3, 4}\n",
      "{3, 4, 5, 6}\n"
     ]
    }
   ],
   "source": [
    "a = {1, 2, 3, 4}\n",
    "b = {3, 4, 5, 6}\n",
    "print(a)\n",
    "print(b)\n",
    "print(a.intersection(b))\n",
    "a.intersection_update(b)\n",
    "print(a)\n",
    "print(b)"
   ]
  },
  {
   "cell_type": "code",
   "execution_count": 58,
   "metadata": {
    "colab": {},
    "colab_type": "code",
    "id": "FzOkoEYSelGa"
   },
   "outputs": [
    {
     "name": "stdout",
     "output_type": "stream",
     "text": [
      "{1, 2, 3, 4}\n",
      "{3, 4, 5, 6}\n",
      "{1, 2}\n",
      "{1, 2}\n",
      "{3, 4, 5, 6}\n"
     ]
    }
   ],
   "source": [
    "a = {1, 2, 3, 4}\n",
    "b = {3, 4, 5, 6}\n",
    "print(a)\n",
    "print(b)\n",
    "print(a.difference(b))\n",
    "a.difference_update(b)\n",
    "print(a)\n",
    "print(b)"
   ]
  },
  {
   "cell_type": "code",
   "execution_count": 59,
   "metadata": {
    "colab": {},
    "colab_type": "code",
    "id": "TO7DCjp6elTr"
   },
   "outputs": [
    {
     "name": "stdout",
     "output_type": "stream",
     "text": [
      "{1, 2, 3, 4}\n",
      "{3, 4, 5, 6}\n",
      "{1, 2, 5, 6}\n",
      "{1, 2, 5, 6}\n",
      "{3, 4, 5, 6}\n"
     ]
    }
   ],
   "source": [
    "a = {1, 2, 3, 4}\n",
    "b = {3, 4, 5, 6}\n",
    "print(a)\n",
    "print(b)\n",
    "print(a.symmetric_difference(b))\n",
    "a.symmetric_difference_update(b)\n",
    "print(a)\n",
    "print(b)"
   ]
  },
  {
   "cell_type": "markdown",
   "metadata": {
    "colab_type": "text",
    "id": "ufNwjr4gSTmx"
   },
   "source": [
    "**Frozenset**: funciona, em linhas gerais, como um conjunto, mas com a diferença de que não pode ser alterado. <br>\n",
    "Leia mais em: [frozenset](https://www.programiz.com/python-programming/methods/built-in/frozenset)"
   ]
  }
 ],
 "metadata": {
  "colab": {
   "collapsed_sections": [],
   "name": "Conjuntos.ipynb",
   "provenance": [],
   "toc_visible": true,
   "version": "0.3.2"
  },
  "interpreter": {
   "hash": "e7370f93d1d0cde622a1f8e1c04877d8463912d04d973331ad4851f04de6915a"
  },
  "kernelspec": {
   "display_name": "Python 3.9.7 64-bit",
   "name": "python3"
  },
  "language_info": {
   "codemirror_mode": {
    "name": "ipython",
    "version": 3
   },
   "file_extension": ".py",
   "mimetype": "text/x-python",
   "name": "python",
   "nbconvert_exporter": "python",
   "pygments_lexer": "ipython3",
   "version": "3.9.7"
  }
 },
 "nbformat": 4,
 "nbformat_minor": 1
}
