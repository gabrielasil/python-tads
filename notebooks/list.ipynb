{
 "cells": [
  {
   "cell_type": "markdown",
   "metadata": {
    "colab_type": "text",
    "id": "Qf-GuuinMxNd"
   },
   "source": [
    "## O que são listas ordenadas manualmente?"
   ]
  },
  {
   "cell_type": "markdown",
   "metadata": {
    "colab_type": "text",
    "id": "YdsouzS_o3Vw"
   },
   "source": [
    "Uma lista em Python é um conjunto de elementos em ordem representado por um par de colchetes `[]`.\n",
    "\n",
    "Na impressão, o conteúdo de uma lista é apresentado entre colchetes `[]` e, dentro deles, separado por vírgulas.\n",
    "\n",
    "Listas podem ser de vários tipos como números inteiros, reais, strings, entre outros. É possível até, fazer lista de listas."
   ]
  },
  {
   "cell_type": "code",
   "execution_count": 1,
   "metadata": {
    "colab": {
     "base_uri": "https://localhost:8080/",
     "height": 102
    },
    "colab_type": "code",
    "id": "B1W6xB-6rm_y",
    "outputId": "c9f742c4-d186-425e-cf5c-5f368b77fb36"
   },
   "outputs": [
    {
     "name": "stdout",
     "output_type": "stream",
     "text": [
      "[]\n",
      "[36, 37, 38, 39, 40, 41, 42]\n",
      "[86.4, 53.4, 57.5, 89.5, 71.1]\n",
      "['acsa', 'anna', 'dani', 'gabs', 'malu', 'martins']\n",
      "[[36, 37, 38, 39, 40, 41, 42], [86.4, 53.4, 57.5, 89.5, 71.1], ['acsa', 'anna', 'dani', 'gabs', 'malu', 'martins']]\n"
     ]
    }
   ],
   "source": [
    "lista = []\n",
    "print(lista)\n",
    "\n",
    "sapatos = [36, 37, 38, 39, 40, 41, 42]\n",
    "print(sapatos)\n",
    "\n",
    "peso = [86.4, 53.4, 57.5, 89.5, 71.1]\n",
    "print(peso)\n",
    "\n",
    "nomes = [\"acsa\", \"anna\", \"dani\", \"gabs\", \"malu\", \"martins\"]\n",
    "print(nomes)\n",
    "\n",
    "listas = [sapatos, peso, nomes]\n",
    "print(listas)"
   ]
  },
  {
   "cell_type": "markdown",
   "metadata": {
    "colab_type": "text",
    "id": "zPCsWHawvGPs"
   },
   "source": [
    "No caso do Python, também podemos colocar strings e números em uma mesma lista!"
   ]
  },
  {
   "cell_type": "code",
   "execution_count": 2,
   "metadata": {
    "colab": {
     "base_uri": "https://localhost:8080/",
     "height": 34
    },
    "colab_type": "code",
    "id": "xSAIz-JvwC_O",
    "outputId": "99af97e3-6c3a-44e3-f411-2aed1778d99a"
   },
   "outputs": [
    {
     "name": "stdout",
     "output_type": "stream",
     "text": [
      "[1.67, 58, 'estuda no IMD']\n"
     ]
    }
   ],
   "source": [
    "pessoa = [1.67, 58, \"estuda no IMD\"]\n",
    "print(pessoa)"
   ]
  },
  {
   "cell_type": "markdown",
   "metadata": {},
   "source": [
    "Para ver quantos elementos uma lista possui, usamos o procedimento `len()`:"
   ]
  },
  {
   "cell_type": "code",
   "execution_count": 3,
   "metadata": {
    "colab": {
     "base_uri": "https://localhost:8080/",
     "height": 34
    },
    "colab_type": "code",
    "id": "3BeWC_z03-vh",
    "outputId": "e2af68ba-6bad-40e2-ad37-69f0e9a434ce"
   },
   "outputs": [
    {
     "name": "stdout",
     "output_type": "stream",
     "text": [
      "0\n"
     ]
    }
   ],
   "source": [
    "print(len(lista))"
   ]
  },
  {
   "cell_type": "markdown",
   "metadata": {
    "colab_type": "text",
    "id": "57wDcvNPucQa"
   },
   "source": [
    "Cada item da lista tem a ele um índice associado, começando por 0 e terminando no número total de elementos da lista subtraído de 1. Então se existir uma lista com 5 elementos, por exemplo, os índices de seus elementos vão ser de 0 a 4."
   ]
  },
  {
   "cell_type": "code",
   "execution_count": 4,
   "metadata": {
    "colab": {
     "base_uri": "https://localhost:8080/",
     "height": 102
    },
    "colab_type": "code",
    "id": "1Z1_-e9n353X",
    "outputId": "ac1ae919-724d-4581-a222-eeee2f578447"
   },
   "outputs": [
    {
     "name": "stdout",
     "output_type": "stream",
     "text": [
      "pizza\n",
      "chocolate\n",
      "coxinha\n",
      "pastel de frango\n",
      "hambúrguer\n"
     ]
    }
   ],
   "source": [
    "comidas = [\"pizza\", \"chocolate\", \"coxinha\", \"pastel de frango\", \"hambúrguer\"]\n",
    "print(comidas[0])\n",
    "print(comidas[1])\n",
    "print(comidas[2])\n",
    "print(comidas[3])\n",
    "print(comidas[4])"
   ]
  },
  {
   "cell_type": "markdown",
   "metadata": {},
   "source": [
    "Uma string é representada na maioria das linguagens como uma lista de caracteres. \n",
    "\n",
    "Assim, uma lista de strings é na verdade uma lista de listas:"
   ]
  },
  {
   "cell_type": "code",
   "execution_count": 5,
   "metadata": {},
   "outputs": [
    {
     "name": "stdout",
     "output_type": "stream",
     "text": [
      "l\n"
     ]
    }
   ],
   "source": [
    "print(comidas[1][5])"
   ]
  },
  {
   "cell_type": "markdown",
   "metadata": {
    "colab_type": "text",
    "id": "uXS2_l8CviGn"
   },
   "source": [
    "Em Python é possível acessar os elementos da lista por um index negativo, também. Sendo `-1` o último elemento da lista, `-2` o penúltimo e assim por diante."
   ]
  },
  {
   "cell_type": "code",
   "execution_count": 6,
   "metadata": {
    "colab": {
     "base_uri": "https://localhost:8080/",
     "height": 51
    },
    "colab_type": "code",
    "id": "qFZXuHMZwGGv",
    "outputId": "3dfb33a7-0cec-4499-98cd-6298cc3209a7"
   },
   "outputs": [
    {
     "name": "stdout",
     "output_type": "stream",
     "text": [
      "hambúrguer\n",
      "pastel de frango\n"
     ]
    }
   ],
   "source": [
    "print(comidas[-1])\n",
    "print(comidas[-2])"
   ]
  },
  {
   "cell_type": "markdown",
   "metadata": {
    "colab_type": "text",
    "id": "x3VkIjK9wXAn"
   },
   "source": [
    "Quando tentamos acessar um index fora da lista, ocorrerá a exceção `IndexError`."
   ]
  },
  {
   "cell_type": "code",
   "execution_count": 7,
   "metadata": {
    "colab": {
     "base_uri": "https://localhost:8080/",
     "height": 163
    },
    "colab_type": "code",
    "id": "wETyjuynxF5q",
    "outputId": "1fa2b28b-5a29-4645-f552-9b8e4e7e2740"
   },
   "outputs": [
    {
     "ename": "IndexError",
     "evalue": "list index out of range",
     "output_type": "error",
     "traceback": [
      "\u001b[0;31m---------------------------------------------------------------------------\u001b[0m",
      "\u001b[0;31mIndexError\u001b[0m                                Traceback (most recent call last)",
      "\u001b[0;32m/tmp/ipykernel_139147/500511049.py\u001b[0m in \u001b[0;36m<module>\u001b[0;34m\u001b[0m\n\u001b[0;32m----> 1\u001b[0;31m \u001b[0mprint\u001b[0m\u001b[0;34m(\u001b[0m\u001b[0mcomidas\u001b[0m\u001b[0;34m[\u001b[0m\u001b[0;36m6\u001b[0m\u001b[0;34m]\u001b[0m\u001b[0;34m)\u001b[0m\u001b[0;34m\u001b[0m\u001b[0;34m\u001b[0m\u001b[0m\n\u001b[0m",
      "\u001b[0;31mIndexError\u001b[0m: list index out of range"
     ]
    }
   ],
   "source": [
    "print(comidas[6])"
   ]
  },
  {
   "cell_type": "markdown",
   "metadata": {
    "colab_type": "text",
    "id": "Um6edxYJx0BF"
   },
   "source": [
    "É possível particionar as listas usando o operador `:` (dois pontos).\n",
    "\n",
    "**Observação:** Quando utilizamos o operador `:` o segundo índice não será incluso. Ou seja em `print(comidas[2:4])` os elementos que serão printados são os que estão nas posições 2 e 3, apenas."
   ]
  },
  {
   "cell_type": "code",
   "execution_count": 8,
   "metadata": {
    "colab": {
     "base_uri": "https://localhost:8080/",
     "height": 68
    },
    "colab_type": "code",
    "id": "XXegW0sYyQWV",
    "outputId": "b15c2095-71f2-494b-dae4-fb8fd151f7a1"
   },
   "outputs": [
    {
     "name": "stdout",
     "output_type": "stream",
     "text": [
      "['chocolate', 'coxinha']\n",
      "['pizza', 'chocolate', 'coxinha']\n",
      "['coxinha', 'pastel de frango', 'hambúrguer']\n"
     ]
    }
   ],
   "source": [
    "print(comidas[1:3])\n",
    "\n",
    "print(comidas[:3])\n",
    "\n",
    "print(comidas[2:])"
   ]
  },
  {
   "cell_type": "markdown",
   "metadata": {
    "colab_type": "text",
    "id": "2bLm7VRx0Lk_"
   },
   "source": [
    "Para concatenarmos duas listas utilizamos o operador `+`"
   ]
  },
  {
   "cell_type": "code",
   "execution_count": null,
   "metadata": {
    "colab": {
     "base_uri": "https://localhost:8080/",
     "height": 34
    },
    "colab_type": "code",
    "id": "70wYmmxi0JyQ",
    "outputId": "64e50104-9f85-44c9-b2e6-55b97c8c9751"
   },
   "outputs": [],
   "source": [
    "lista_1 = [1, 2, 3]\n",
    "lista_2 = [4, 5, 6]\n",
    "\n",
    "print(lista_1 + lista_2)"
   ]
  },
  {
   "cell_type": "markdown",
   "metadata": {},
   "source": [
    "### Exercícios de fixação"
   ]
  },
  {
   "cell_type": "markdown",
   "metadata": {
    "colab_type": "text",
    "id": "ISWeiKnUYzTU"
   },
   "source": [
    "1 - Processe a lista abaixo, substituindo todas as ocorrência de valores positivos por 1 e todos os valores negativos por 0."
   ]
  },
  {
   "cell_type": "code",
   "execution_count": 16,
   "metadata": {},
   "outputs": [
    {
     "name": "stdout",
     "output_type": "stream",
     "text": [
      "[1, 0, 1, 0, 0]\n"
     ]
    }
   ],
   "source": [
    "lista = [5, -3, 4, -1, -5]\n",
    "\n",
    "for i in range(0,len(lista)):\n",
    "    if lista[i] >= 0:\n",
    "        lista[i] = 1\n",
    "    else:\n",
    "        lista[i] = 0\n",
    "\n",
    "print(lista)"
   ]
  },
  {
   "cell_type": "markdown",
   "metadata": {
    "colab_type": "text",
    "id": "_8jpofAqM4x2"
   },
   "source": [
    "## Alguns métodos e procedimentos úteis"
   ]
  },
  {
   "cell_type": "markdown",
   "metadata": {
    "colab_type": "text",
    "id": "cuBBN8csHf09"
   },
   "source": [
    "As listas ordenadas manualmente possuem alguns métodos e procedimentos para facilitar a sua manipulação."
   ]
  },
  {
   "cell_type": "markdown",
   "metadata": {
    "colab_type": "text",
    "id": "dqudRZHb3KIK"
   },
   "source": [
    "### Criar uma lista de valores númericos sequenciais com `range()`"
   ]
  },
  {
   "cell_type": "code",
   "execution_count": 17,
   "metadata": {
    "colab": {
     "base_uri": "https://localhost:8080/",
     "height": 34
    },
    "colab_type": "code",
    "id": "qw291ZIA3NOf",
    "outputId": "a86d3450-0444-4c38-8745-de96225e23dd"
   },
   "outputs": [
    {
     "name": "stdout",
     "output_type": "stream",
     "text": [
      "[4, 5, 6, 7, 8, 9, 10]\n"
     ]
    }
   ],
   "source": [
    "valores = list(range(4,11))\n",
    "print(valores)"
   ]
  },
  {
   "cell_type": "markdown",
   "metadata": {
    "colab_type": "text",
    "id": "430tSgB6OB8T"
   },
   "source": [
    "### Ordenar temporariamente com `sort()`\n",
    "Esse método serve para ordenar uma lista em ordem crescente ou alfabética."
   ]
  },
  {
   "cell_type": "code",
   "execution_count": 18,
   "metadata": {
    "colab": {
     "base_uri": "https://localhost:8080/",
     "height": 34
    },
    "colab_type": "code",
    "id": "rR8DawWjOYPv",
    "outputId": "e3c60760-9141-447a-9be3-040d2bbeba88"
   },
   "outputs": [
    {
     "name": "stdout",
     "output_type": "stream",
     "text": [
      "['algodão', 'cenoura', 'papel', 'sal', 'água', 'óleo']\n"
     ]
    }
   ],
   "source": [
    "compras = [\"óleo\", \"sal\", \"água\", \"cenoura\", \"papel\", \"algodão\"]\n",
    "compras.sort()\n",
    "print(compras)"
   ]
  },
  {
   "cell_type": "code",
   "execution_count": 19,
   "metadata": {
    "colab": {
     "base_uri": "https://localhost:8080/",
     "height": 34
    },
    "colab_type": "code",
    "id": "u0_kE1XyO3qh",
    "outputId": "4f9f0634-c33f-45ab-d137-9b76fbcce8c9"
   },
   "outputs": [
    {
     "name": "stdout",
     "output_type": "stream",
     "text": [
      "[2, 2.1, 2.4, 5, 5.6, 5.7, 6, 7, 7.5, 8, 8.4, 9.8, 10.0, 10.0, 10.0]\n"
     ]
    }
   ],
   "source": [
    "notas = [5.6, 10.0, 5.7, 7, 10.0, 10.0, 7.5, 8, 8.4, 2.4, 9.8, 2.1, 2, 5, 6]\n",
    "notas.sort()\n",
    "print(notas)"
   ]
  },
  {
   "cell_type": "markdown",
   "metadata": {},
   "source": [
    "Entretanto, ele não pode organizar entre listas mistas (numéricos e strings)."
   ]
  },
  {
   "cell_type": "code",
   "execution_count": 20,
   "metadata": {
    "colab": {
     "base_uri": "https://localhost:8080/",
     "height": 197
    },
    "colab_type": "code",
    "id": "Uh6nFh9FlFR5",
    "outputId": "f5960646-c036-4db5-fdff-d91ade27b8a1"
   },
   "outputs": [
    {
     "ename": "TypeError",
     "evalue": "'<' not supported between instances of 'float' and 'str'",
     "output_type": "error",
     "traceback": [
      "\u001b[0;31m---------------------------------------------------------------------------\u001b[0m",
      "\u001b[0;31mTypeError\u001b[0m                                 Traceback (most recent call last)",
      "\u001b[0;32m/tmp/ipykernel_139147/987343391.py\u001b[0m in \u001b[0;36m<module>\u001b[0;34m\u001b[0m\n\u001b[1;32m      1\u001b[0m \u001b[0mmistureba\u001b[0m \u001b[0;34m=\u001b[0m \u001b[0;34m[\u001b[0m\u001b[0;34m\"juremilda\"\u001b[0m\u001b[0;34m,\u001b[0m \u001b[0;36m99.9\u001b[0m\u001b[0;34m,\u001b[0m \u001b[0;34m\"godofredo\"\u001b[0m\u001b[0;34m,\u001b[0m \u001b[0;36m101\u001b[0m\u001b[0;34m,\u001b[0m \u001b[0;36m3\u001b[0m\u001b[0;34m]\u001b[0m\u001b[0;34m\u001b[0m\u001b[0;34m\u001b[0m\u001b[0m\n\u001b[0;32m----> 2\u001b[0;31m \u001b[0mmistureba\u001b[0m\u001b[0;34m.\u001b[0m\u001b[0msort\u001b[0m\u001b[0;34m(\u001b[0m\u001b[0;34m)\u001b[0m\u001b[0;34m\u001b[0m\u001b[0;34m\u001b[0m\u001b[0m\n\u001b[0m\u001b[1;32m      3\u001b[0m \u001b[0mprint\u001b[0m\u001b[0;34m(\u001b[0m\u001b[0mmistureba\u001b[0m\u001b[0;34m)\u001b[0m\u001b[0;34m\u001b[0m\u001b[0;34m\u001b[0m\u001b[0m\n",
      "\u001b[0;31mTypeError\u001b[0m: '<' not supported between instances of 'float' and 'str'"
     ]
    }
   ],
   "source": [
    "mistureba = [\"juremilda\", 99.9, \"godofredo\", 101, 3]\n",
    "mistureba.sort()\n",
    "print(mistureba)"
   ]
  },
  {
   "cell_type": "markdown",
   "metadata": {
    "colab_type": "text",
    "id": "rTIHFN3EQJCS"
   },
   "source": [
    "### Contar elementos com `count()`\n",
    "Este método conta a quantidade de vezes que um dado elemento aparece e a retorna."
   ]
  },
  {
   "cell_type": "code",
   "execution_count": 21,
   "metadata": {
    "colab": {
     "base_uri": "https://localhost:8080/",
     "height": 34
    },
    "colab_type": "code",
    "id": "WntidtczQSfz",
    "outputId": "0b599f51-3312-47f8-ed07-dd49d2383681"
   },
   "outputs": [
    {
     "name": "stdout",
     "output_type": "stream",
     "text": [
      "3 alunos tiram nota 10.0 na prova\n"
     ]
    }
   ],
   "source": [
    "n = notas.count(10.0)\n",
    "print(n, \"alunos tiram nota 10.0 na prova\")"
   ]
  },
  {
   "cell_type": "markdown",
   "metadata": {
    "colab_type": "text",
    "id": "a1Y5Bdjsmnuk"
   },
   "source": [
    "### Inverter com `reverse()`\n",
    "Esse método reverte todos os valores da lista, onde o elemento no índice `0` será trocado com o elemento no índice `n`, o `1` com o elemento `n-1`, e assim por diante."
   ]
  },
  {
   "cell_type": "code",
   "execution_count": 22,
   "metadata": {
    "colab": {
     "base_uri": "https://localhost:8080/",
     "height": 34
    },
    "colab_type": "code",
    "id": "xeHPEPWJm3Qd",
    "outputId": "7c57d0d5-989e-43a3-fa9c-e93fd40e15b8"
   },
   "outputs": [
    {
     "name": "stdout",
     "output_type": "stream",
     "text": [
      "['Martins', 'Gabs', 'Malu', 'Dani', 'Anna', 'Acsa']\n"
     ]
    }
   ],
   "source": [
    "alunos = [\"Acsa\", \"Anna\", \"Dani\", \"Malu\", \"Gabs\", \"Martins\"]\n",
    "alunos.reverse()\n",
    "print(alunos)"
   ]
  },
  {
   "cell_type": "markdown",
   "metadata": {
    "colab_type": "text",
    "id": "P5UCP4R6107r"
   },
   "source": [
    "### Limpar com `clear()`\n",
    "Utilizando o método `clear` limpamos determinada lista."
   ]
  },
  {
   "cell_type": "code",
   "execution_count": 23,
   "metadata": {
    "colab": {
     "base_uri": "https://localhost:8080/",
     "height": 51
    },
    "colab_type": "code",
    "id": "g8lofrEt2BSn",
    "outputId": "b1575fcb-a541-4527-d50c-e02a8abfe656"
   },
   "outputs": [
    {
     "name": "stdout",
     "output_type": "stream",
     "text": [
      "[10, 20, 30, 40]\n",
      "[]\n"
     ]
    }
   ],
   "source": [
    "numeros = [10, 20, 30, 40]\n",
    "print(numeros)\n",
    "\n",
    "numeros.clear()\n",
    "print(numeros)"
   ]
  },
  {
   "cell_type": "markdown",
   "metadata": {
    "colab_type": "text",
    "id": "IpSkutE6rdTg"
   },
   "source": [
    "### Elemento máximo com `max()`\n",
    "Este procedimento retorna o valor máximo da lista.\n",
    "\n",
    "Para o caso em que a lista é de strings, ele retorna o elemento que possui a primeira letra \"maior\" de A a Z (sendo A a menor e Z a maior). \n",
    "\n",
    "No caso em que a primeira letra é igual ele compara a segunda e assim sucessivamente.\n",
    "\n",
    "**Atenção**: esse comando não funciona quando a lista tem elementos de tipos diferentes (ex: `int` com `str`)."
   ]
  },
  {
   "cell_type": "code",
   "execution_count": 24,
   "metadata": {
    "colab": {
     "base_uri": "https://localhost:8080/",
     "height": 54
    },
    "colab_type": "code",
    "id": "npnMMpk9rvti",
    "outputId": "a244c42c-5728-417b-8b53-d27495eb78a0"
   },
   "outputs": [
    {
     "name": "stdout",
     "output_type": "stream",
     "text": [
      "valor máximo:  42\n",
      "maior nome:  Martins\n"
     ]
    }
   ],
   "source": [
    "sapatos = [36, 37, 38, 39, 40, 41, 42]\n",
    "m = max(sapatos)\n",
    "print(\"valor máximo: \", m)\n",
    "\n",
    "alunos = [\"Acsa\", \"Dani\", \"Malu\", \"Gabs\", \"Martins\"]\n",
    "m = max(alunos)\n",
    "print(\"maior nome: \", m)"
   ]
  },
  {
   "cell_type": "markdown",
   "metadata": {},
   "source": [
    "De forma mais geral, este tipo de ordem em uma lista de listas se chama **ordem lexicográfica**:"
   ]
  },
  {
   "cell_type": "code",
   "execution_count": 25,
   "metadata": {},
   "outputs": [
    {
     "name": "stdout",
     "output_type": "stream",
     "text": [
      "ponto máximo: [2, 3]\n"
     ]
    }
   ],
   "source": [
    "pontos = [[1,3], [2,3], [1,2], [2,1]]\n",
    "m = max(pontos)\n",
    "print(\"ponto máximo:\", m)"
   ]
  },
  {
   "cell_type": "markdown",
   "metadata": {
    "colab_type": "text",
    "id": "mg6FSsa_sCih"
   },
   "source": [
    "### Elemento mínimo com `min()` \n",
    "Essa função retorna o valor mínimo da lista. \n",
    "\n",
    "As observações apresentadas no item anterior tambem se aplicam a esse método."
   ]
  },
  {
   "cell_type": "code",
   "execution_count": 26,
   "metadata": {
    "colab": {
     "base_uri": "https://localhost:8080/",
     "height": 53
    },
    "colab_type": "code",
    "id": "ZIe_BA1wsl_Q",
    "outputId": "76434042-ddc6-409f-f269-0fcd1e5c2f22"
   },
   "outputs": [
    {
     "name": "stdout",
     "output_type": "stream",
     "text": [
      "valor mínimo:  36\n",
      "menor nome:  Acsa\n"
     ]
    }
   ],
   "source": [
    "sapatos = [36, 37, 38, 39, 40, 41, 42]\n",
    "m = min(sapatos)\n",
    "print (\"valor mínimo: \", m)\n",
    "\n",
    "alunos = [\"Acsa\", \"Dani\", \"Malu\", \"Gabs\", \"Martins\"]\n",
    "m = min(alunos)\n",
    "print(\"menor nome: \", m)"
   ]
  },
  {
   "cell_type": "markdown",
   "metadata": {
    "colab_type": "text",
    "id": "LzYnXSXwtppW"
   },
   "source": [
    "### Somando elementos com `sum()` \n",
    "\n",
    "Essa função retorna a soma dos valores da lista. porém temos duas formas de escreve-lo: 1° sem parametros , 2° com um valor inicial para ser somado.\n",
    "\n",
    "Esse método não funciona com elementos do tipo string."
   ]
  },
  {
   "cell_type": "code",
   "execution_count": 27,
   "metadata": {
    "colab": {
     "base_uri": "https://localhost:8080/",
     "height": 51
    },
    "colab_type": "code",
    "id": "0aLzGuBGtwUO",
    "outputId": "17f10ca1-1996-4284-deb8-d722ffece882"
   },
   "outputs": [
    {
     "name": "stdout",
     "output_type": "stream",
     "text": [
      "Soma:  15\n",
      "Soma começando com o valor 10:  25\n"
     ]
    }
   ],
   "source": [
    "lista= [1, 2, 3, 4, 5]\n",
    "m = sum(lista)\n",
    "print (\"Soma: \", m)\n",
    "\n",
    "m = sum(lista, 10)\n",
    "print (\"Soma começando com o valor 10: \", m)"
   ]
  },
  {
   "cell_type": "markdown",
   "metadata": {},
   "source": [
    "### Exercícios de fixação"
   ]
  },
  {
   "cell_type": "markdown",
   "metadata": {
    "colab_type": "text",
    "id": "RTjem6X449Wa"
   },
   "source": [
    "2 - (PUC-RIO)  Crie uma função que process uma lista de números e:\n",
    "\n",
    "*  retorne o maior elemento\n",
    "*  retorne a soma dos elementos\n",
    "*  retorne o número de ocorrências do primeiro elemento da lista\n",
    "*  retorne a média dos elementos\n",
    "*  retorne o valor mais próximo da média dos elementos\n",
    "*  retorne a soma dos elementos com valor negativo\n",
    "*  retorne a quantidade de vizinhos iguais"
   ]
  },
  {
   "cell_type": "code",
   "execution_count": 36,
   "metadata": {
    "colab": {},
    "colab_type": "code",
    "id": "TsX4Cvt-Gd7e"
   },
   "outputs": [
    {
     "name": "stdout",
     "output_type": "stream",
     "text": [
      "5\n",
      "-1\n",
      "1\n",
      "-0.16666666666666666\n",
      "-1\n",
      "-10\n",
      "1\n"
     ]
    }
   ],
   "source": [
    "lista = [5, -3, 4, -1, -1, -5]\n",
    "print(max(lista))\n",
    "print(sum(lista))\n",
    "print(lista.count(lista[0]))\n",
    "print(sum(lista)/len(lista))\n",
    "print(sum(lista)//len(lista))\n",
    "\n",
    "soma_negativos = 0\n",
    "\n",
    "for i in range(0, len(lista)):\n",
    "    if(lista[i] < 0):\n",
    "        soma_negativos += lista[i]\n",
    "\n",
    "print(soma_negativos)\n",
    "vizinhos = 0\n",
    "\n",
    "for i in range(1, len(lista)):\n",
    "    if lista[i] == lista[i-1]:\n",
    "        vizinhos += 1\n",
    "\n",
    "print(vizinhos)\n",
    "\n"
   ]
  },
  {
   "cell_type": "markdown",
   "metadata": {
    "colab_type": "text",
    "id": "0CYlCfozMoHN"
   },
   "source": [
    "## Para que servem essas listas?"
   ]
  },
  {
   "cell_type": "markdown",
   "metadata": {
    "colab_type": "text",
    "id": "EnjoEjrvHTlH"
   },
   "source": [
    "As listas foram criadas para nos ajudar quando necesitamos da disposição organizada e ordenada dos elementos, seguindo uma categoria ou lugar que lhes convém. \n",
    "\n",
    "Elas servem para quando nós precisarmos acessar um lugar específico da lista que já sabiamos o que tinha anteriormente, por meio dos índices, ou numa situação em que a sequência dos valores está atrelada a outros dados e precisamos exatamente dessa sequência, ou simplesmente para não perdemos a ordem da coleção dos objetos.\n"
   ]
  },
  {
   "cell_type": "markdown",
   "metadata": {
    "colab_type": "text",
    "id": "a1-MtnqpHxVQ"
   },
   "source": [
    "### Adicionar um valor em determinada posição\n",
    "Usamos o método `insert(índice, valor)`, o qual toma dois argumentos: \n",
    "1. o índice da lista onde será inserido o valor\n",
    "2. o valor que será adicionado \n",
    "\n",
    "Caso já exista um valor naquela posição, a função move todos os outros valores para uma posição posterior à que ele ocupava antes."
   ]
  },
  {
   "cell_type": "code",
   "execution_count": 37,
   "metadata": {
    "colab": {
     "base_uri": "https://localhost:8080/",
     "height": 34
    },
    "colab_type": "code",
    "id": "w6Hlt-Y1JpH7",
    "outputId": "14ad3b1b-5938-4a25-c82e-bdff62cd3507"
   },
   "outputs": [
    {
     "name": "stdout",
     "output_type": "stream",
     "text": [
      "lista original: [10, 20, 30, 40, 50, 60]\n"
     ]
    }
   ],
   "source": [
    "lista = [10, 20, 30, 40, 50, 60]\n",
    "print(\"lista original:\", lista)"
   ]
  },
  {
   "cell_type": "code",
   "execution_count": 38,
   "metadata": {
    "colab": {
     "base_uri": "https://localhost:8080/",
     "height": 68
    },
    "colab_type": "code",
    "id": "QYt_NbgcInQ5",
    "outputId": "c229f1ff-0022-4807-f24c-70e1423731fd"
   },
   "outputs": [
    {
     "name": "stdout",
     "output_type": "stream",
     "text": [
      "primeira lista: [0, 10, 20, 30, 40, 50, 60]\n",
      "nova lista: [-10, 0, 10, 20, 30, 40, 50, 60]\n",
      "mais uma lista: [-10, 0, 10, 20, 30, 40, 50, 60, 70]\n"
     ]
    }
   ],
   "source": [
    "lista.insert(0, 0)\n",
    "print(\"primeira lista:\", lista)\n",
    "lista.insert(0, -10)\n",
    "print(\"nova lista:\", lista)\n",
    "lista.insert(8, 70)\n",
    "print(\"mais uma lista:\", lista)"
   ]
  },
  {
   "cell_type": "markdown",
   "metadata": {
    "colab_type": "text",
    "id": "3XAazxT34Z9m"
   },
   "source": [
    "### Adicionando um ou mais valores ao final da lista\n",
    "\n",
    "Para adicionarmos um elemento ao final da lista utilizamos o método `append()`. \n",
    "\n",
    "Caso queira ser feita a adição de mais de um elemento utilizamos o método `extend()`."
   ]
  },
  {
   "cell_type": "code",
   "execution_count": 39,
   "metadata": {
    "colab": {
     "base_uri": "https://localhost:8080/",
     "height": 68
    },
    "colab_type": "code",
    "id": "njjrjNk75HgM",
    "outputId": "0f5b263c-3abe-43fd-dc5d-737cbb75cd62"
   },
   "outputs": [
    {
     "name": "stdout",
     "output_type": "stream",
     "text": [
      "[1, 2, 3]\n",
      "[1, 2, 3, 4]\n",
      "[1, 2, 3, 4, 5, 6, 7]\n"
     ]
    }
   ],
   "source": [
    "numeros = [1, 2, 3]\n",
    "print(numeros)\n",
    "\n",
    "numeros.append(4)\n",
    "print(numeros)\n",
    "\n",
    "numeros.extend([5,6,7])\n",
    "print(numeros)"
   ]
  },
  {
   "cell_type": "markdown",
   "metadata": {
    "colab_type": "text",
    "id": "er3f-4a5KnIQ"
   },
   "source": [
    "### Remover elementos da lista \n",
    "\n",
    "#### `pop()`\n",
    "Usando o método `pop(índice)`, o índice será passado como argumento e aquele elemento que lá estava localizado será removido e retornado.\n",
    "\n",
    "**Atenção:** Caso `pop()` não receba argumentos, ele removerá o último ítem da lista e o retornará."
   ]
  },
  {
   "cell_type": "code",
   "execution_count": 40,
   "metadata": {
    "colab": {
     "base_uri": "https://localhost:8080/",
     "height": 34
    },
    "colab_type": "code",
    "id": "uV9aavrmMqLo",
    "outputId": "9efae1ee-4847-4aa1-a59f-f563fdc58636"
   },
   "outputs": [
    {
     "name": "stdout",
     "output_type": "stream",
     "text": [
      "a lista agora é [-10, 0, 10, 20, 30, 40, 50, 60] e o ítem removido foi: 70\n"
     ]
    }
   ],
   "source": [
    "a = lista.pop()\n",
    "print(\"a lista agora é\", lista, \"e o ítem removido foi:\", a)"
   ]
  },
  {
   "cell_type": "code",
   "execution_count": 41,
   "metadata": {
    "colab": {
     "base_uri": "https://localhost:8080/",
     "height": 34
    },
    "colab_type": "code",
    "id": "5bgO4MXaNBLR",
    "outputId": "6fbad8a3-71fd-4eda-a67f-026964fbafed"
   },
   "outputs": [
    {
     "name": "stdout",
     "output_type": "stream",
     "text": [
      "a lista agora é [0, 10, 20, 30, 40, 50, 60] e o ítem removido foi: -10\n"
     ]
    }
   ],
   "source": [
    "b = lista.pop(0)\n",
    "print(\"a lista agora é\", lista, \"e o ítem removido foi:\", b)"
   ]
  },
  {
   "cell_type": "markdown",
   "metadata": {},
   "source": [
    "#### `remove()`\n",
    "Caso seja necessário remover um elemento de índice desconhecido, utiliza-se o método `remove(elemento)`. \n",
    "\n",
    "Se o valor removido não existir naquela lista, o programa retornará um erro."
   ]
  },
  {
   "cell_type": "code",
   "execution_count": 42,
   "metadata": {
    "colab": {
     "base_uri": "https://localhost:8080/",
     "height": 34
    },
    "colab_type": "code",
    "id": "wupRiSfzNPFV",
    "outputId": "ef8b4ec8-506e-47c9-deaa-f86cb0bdea9a"
   },
   "outputs": [
    {
     "name": "stdout",
     "output_type": "stream",
     "text": [
      "a lista agora é [0, 10, 30, 40, 50, 60]\n"
     ]
    }
   ],
   "source": [
    "lista.remove(20)\n",
    "print(\"a lista agora é\", lista)"
   ]
  },
  {
   "cell_type": "markdown",
   "metadata": {},
   "source": [
    "#### `del`\n",
    "Pode ser utilizado para deletar um elemento, uma sequencia de elementos, ou a própria lista."
   ]
  },
  {
   "cell_type": "code",
   "execution_count": 43,
   "metadata": {
    "colab": {
     "base_uri": "https://localhost:8080/",
     "height": 34
    },
    "colab_type": "code",
    "id": "j8-GGp7N6bJF",
    "outputId": "07e53c12-fbfc-4eb1-f8a9-ec534c46af80"
   },
   "outputs": [
    {
     "name": "stdout",
     "output_type": "stream",
     "text": [
      "a lista agora é [10, 30, 40, 50, 60]\n"
     ]
    }
   ],
   "source": [
    "del lista[0]  \n",
    "print(\"a lista agora é\", lista)"
   ]
  },
  {
   "cell_type": "code",
   "execution_count": 44,
   "metadata": {
    "colab": {
     "base_uri": "https://localhost:8080/",
     "height": 34
    },
    "colab_type": "code",
    "id": "71rkiya27fTU",
    "outputId": "dc3b30d4-0b8b-42f4-aee4-e7c003f59dc0"
   },
   "outputs": [
    {
     "name": "stdout",
     "output_type": "stream",
     "text": [
      "a lista agora é [10, 30, 60]\n"
     ]
    }
   ],
   "source": [
    "del lista[2:4]\n",
    "print(\"a lista agora é\", lista)"
   ]
  },
  {
   "cell_type": "code",
   "execution_count": 45,
   "metadata": {
    "colab": {
     "base_uri": "https://localhost:8080/",
     "height": 180
    },
    "colab_type": "code",
    "id": "sMDl9Z1D793D",
    "outputId": "c23245a6-4fff-4599-eef0-209f63985742"
   },
   "outputs": [
    {
     "ename": "NameError",
     "evalue": "name 'lista' is not defined",
     "output_type": "error",
     "traceback": [
      "\u001b[0;31m---------------------------------------------------------------------------\u001b[0m",
      "\u001b[0;31mNameError\u001b[0m                                 Traceback (most recent call last)",
      "\u001b[0;32m/tmp/ipykernel_139147/4219246186.py\u001b[0m in \u001b[0;36m<module>\u001b[0;34m\u001b[0m\n\u001b[1;32m      1\u001b[0m \u001b[0;32mdel\u001b[0m \u001b[0mlista\u001b[0m \u001b[0;31m#irá deletar a lista por completo\u001b[0m\u001b[0;34m\u001b[0m\u001b[0;34m\u001b[0m\u001b[0m\n\u001b[0;32m----> 2\u001b[0;31m \u001b[0mprint\u001b[0m\u001b[0;34m(\u001b[0m\u001b[0mlista\u001b[0m\u001b[0;34m)\u001b[0m \u001b[0;31m#como a lista foi deletada, ela não estará mais definida. Ocasionando o erro: 'lista' is not defined\u001b[0m\u001b[0;34m\u001b[0m\u001b[0;34m\u001b[0m\u001b[0m\n\u001b[0m",
      "\u001b[0;31mNameError\u001b[0m: name 'lista' is not defined"
     ]
    }
   ],
   "source": [
    "del lista #irá deletar a lista por completo\n",
    "print(lista) #como a lista foi deletada, ela não estará mais definida. Ocasionando o erro: 'lista' is not defined"
   ]
  },
  {
   "cell_type": "markdown",
   "metadata": {
    "colab_type": "text",
    "id": "D0yM5bbJ1BEm"
   },
   "source": [
    "### Listas como conjuntos\n",
    "\n",
    "Também é possível verificar se um elemento está presente em uma lista usando o operador `in`, assim como em conjuntos:\n",
    "\n",
    "> Poder não significa que isso é algo eficiente 😅"
   ]
  },
  {
   "cell_type": "code",
   "execution_count": 46,
   "metadata": {
    "colab": {
     "base_uri": "https://localhost:8080/",
     "height": 34
    },
    "colab_type": "code",
    "id": "PpOoybH9Zy8A",
    "outputId": "0808fd93-6b6c-47d7-86d4-4fd4d2abae2f"
   },
   "outputs": [
    {
     "data": {
      "text/plain": [
       "True"
      ]
     },
     "execution_count": 46,
     "metadata": {},
     "output_type": "execute_result"
    }
   ],
   "source": [
    "lista = [10,20,30,40]\n",
    "10 in lista"
   ]
  },
  {
   "cell_type": "markdown",
   "metadata": {},
   "source": [
    "### Exercícios de fixação"
   ]
  },
  {
   "cell_type": "markdown",
   "metadata": {
    "colab_type": "text",
    "id": "4HaUvn0uft9i"
   },
   "source": [
    "3 - Leia duas listas com 10 elementos cada. Gere uma terceira lista de 20 elementos, cujos valores deverão ser compostos pelos elementos intercalados das duas outras listas.\n",
    "\n",
    "**Exemplo**\n",
    "\n",
    "Entrada\n",
    "```python\n",
    "lista1 = [1, 3, 5, 7, 9]\n",
    "lista2 = [2, 4, 6, 8]\n",
    "```\n",
    "\n",
    "Saída\n",
    "```python\n",
    "[1, 2, 3, 4, 5, 6, 7, 8, 9]\n",
    "```"
   ]
  },
  {
   "cell_type": "code",
   "execution_count": 70,
   "metadata": {
    "colab": {},
    "colab_type": "code",
    "id": "MGO8zb0MQS6Y"
   },
   "outputs": [
    {
     "name": "stdout",
     "output_type": "stream",
     "text": [
      "[1, 2, 3, 4, 5, 6, 7, 8, 9, 10, 11, 12, 13, 14, 15, 16, 17, 18, 19, 20]\n"
     ]
    }
   ],
   "source": [
    "lista1 = []\n",
    "lista2 = []\n",
    "\n",
    "for i in range (0,10):\n",
    "    lista1.append(int(input()))\n",
    "\n",
    "for i in range (10):\n",
    "    lista2.append(int(input()))\n",
    "\n",
    "lista3 = lista1 + lista2\n",
    "\n",
    "print(lista3)"
   ]
  },
  {
   "cell_type": "markdown",
   "metadata": {
    "colab_type": "text",
    "id": "MimB-dKce0yi"
   },
   "source": [
    "4 - Leia a idade e a altura de 5 pessoas, armazenando cada informação na sua respectiva lista. Imprima a idade e a altura na ordem inversa a ordem lida.\n",
    "\n",
    "**Exemplo**\n",
    "\n",
    "Entrada\n",
    "```python\n",
    "idades = [20, 15, 53, 18, 32]\n",
    "alturas = [1.80, 1.51, 1.68, 1.65, 1.77]\n",
    "```\n",
    "\n",
    "Saída\n",
    "\n",
    "```python\n",
    "[32, 18, 53, 15, 20]\n",
    "[1.77, 1.65, 1.68, 1.51, 1.80]\n",
    "```"
   ]
  },
  {
   "cell_type": "code",
   "execution_count": 72,
   "metadata": {
    "colab": {},
    "colab_type": "code",
    "id": "IjCXrr2rgo_T"
   },
   "outputs": [
    {
     "name": "stdout",
     "output_type": "stream",
     "text": [
      "[32, 18, 53, 15, 20]\n",
      "[1.77, 1.65, 1.68, 1.51, 1.8]\n"
     ]
    }
   ],
   "source": [
    "idades = [20, 15, 53, 18, 32]\n",
    "alturas = [1.80, 1.51, 1.68, 1.65, 1.77]\n",
    "idades.reverse()\n",
    "print(idades)\n",
    "alturas.reverse()\n",
    "print(alturas)"
   ]
  },
  {
   "cell_type": "markdown",
   "metadata": {
    "colab_type": "text",
    "id": "l7FTlyfVZw00"
   },
   "source": [
    "5 - (PUC-RIO) Dada uma lista, identifique o valor mais próximo da média dos valores presentes nela.\n",
    "\n",
    "> O procedimento `mean()` é um dos procedimentos-padrão do Python 👍🏻\n",
    "\n",
    "**Exemplo**\n",
    "\n",
    "Entrada\n",
    "```python\n",
    "lista = [2.5, 7.5, 10.0, 4.0] # média = 6.0\n",
    "``` \n",
    "\n",
    "Saída\n",
    "```python\n",
    "Valor mais próximo da média = 7.5\n",
    "``` "
   ]
  },
  {
   "cell_type": "code",
   "execution_count": 82,
   "metadata": {
    "colab": {},
    "colab_type": "code",
    "id": "7qpIy346Z22e"
   },
   "outputs": [
    {
     "name": "stdout",
     "output_type": "stream",
     "text": [
      "Média =  6.0\n",
      "Valor mais próximo da média =  7.5\n"
     ]
    }
   ],
   "source": [
    "import statistics\n",
    "\n",
    "lista = [2.5, 7.5, 10.0, 4.0]\n",
    "media = statistics.mean(lista)\n",
    "print(\"Média = \", media)\n",
    "\n",
    "valores = []\n",
    "for i in lista:\n",
    "    valores.append(abs(i - media))\n",
    "\n",
    "print(\"Valor mais próximo da média = \", lista[valores.index(min(valores))])\n",
    "\n"
   ]
  },
  {
   "cell_type": "markdown",
   "metadata": {
    "colab_type": "text",
    "id": "1HXJ1tTmdTp9"
   },
   "source": [
    "6 - (PUC - editada) Receba uma lista de strings e:\n",
    "1.   retorne o elemento com mais caracteres;\n",
    "2.   retorne o elemento com menos caracteres;\n",
    "3.   retorne o número de ocorrências do primeiro elemento da lista.\n",
    "\n",
    "> Os procedimentos `min()` e `max()` podem ser adaptados para isto 👍🏻\n",
    "\n",
    "**Exemplo**\n",
    "\n",
    "Entrada\n",
    "```python\n",
    "lista = [\"arlindo\", \"jurema\", \"josefina\", \"josicleydson\", \"bob\", \"arlindo\"]\n",
    "```\n",
    "\n",
    "Saída\n",
    "```python\n",
    "Elemento com mais carateres: \"josicleydson\"\n",
    "Elemento com menos caracteres: \"bob\"\n",
    "Número de ocorrências do primeiro elemento da lista: 2\n",
    "```"
   ]
  },
  {
   "cell_type": "code",
   "execution_count": 91,
   "metadata": {
    "colab": {},
    "colab_type": "code",
    "id": "e_NSvUaad0F2"
   },
   "outputs": [
    {
     "name": "stdout",
     "output_type": "stream",
     "text": [
      "josicleydson\n",
      "bob\n",
      "2\n"
     ]
    }
   ],
   "source": [
    "lista = [\"arlindo\", \"jurema\", \"josefina\", \"josicleydson\", \"bob\", \"arlindo\"]\n",
    "\n",
    "tamanhos = []\n",
    "for i in lista:\n",
    "    tamanhos.append(len(i))\n",
    "\n",
    "print(lista[tamanhos.index(max(tamanhos))])\n",
    "print(lista[tamanhos.index(min(tamanhos))])\n",
    "\n",
    "contador = 1\n",
    "for i in range(1, len(lista)):\n",
    "    if lista[i] == lista[0]:\n",
    "        contador += 1\n",
    "\n",
    "print(contador)"
   ]
  },
  {
   "cell_type": "markdown",
   "metadata": {
    "colab_type": "text",
    "id": "gU5Y_V_1M_Lh"
   },
   "source": [
    "## Exercícios: "
   ]
  },
  {
   "cell_type": "markdown",
   "metadata": {
    "colab_type": "text",
    "id": "QtDY3SOQQtLX"
   },
   "source": [
    "7 - (PUC-RIO) Duas amigas estabeleceram o código abaixo para que suas mensagens não fossem lidas pelas\n",
    "demais pessoas:\n",
    "\n",
    "| Código | Caracter |\n",
    "| --- | --- |\n",
    "| 0 | ' ' |\n",
    "| 1 | a |\n",
    "| 2 | b |\n",
    "| 3 | c |\n",
    "| 4 | d |\n",
    "| 5 | e |\n",
    "| 6 | f |\n",
    "| 7 | g |\n",
    "| 8 | h |\n",
    "| 9 | i |\n",
    "| 10 | j |\n",
    "| 11 | k |\n",
    "| 12 | l |\n",
    "| 13 | m |\n",
    "| 14 | n |\n",
    "| 15 | o |\n",
    "| 16 | p |\n",
    "| 17 | q |\n",
    "| 18 | r |\n",
    "| 19 | s |\n",
    "| 20 | t |\n",
    "| 21 | u |\n",
    "| 22 | v |\n",
    "| 23 | w |\n",
    "| 24 | x |\n",
    "| 25 | y |\n",
    "| 26 | z |\n",
    "\n",
    "Observe que cada letra equivale a um número entre 1 e 26 e o espaço ao 0.\n",
    "\n",
    "Escreva procedimentos para cifrar e decifrar mensagens destas amigas."
   ]
  },
  {
   "cell_type": "code",
   "execution_count": 108,
   "metadata": {
    "colab": {},
    "colab_type": "code",
    "id": "F-6RZfqIQuQK"
   },
   "outputs": [
    {
     "name": "stdout",
     "output_type": "stream",
     "text": [
      "[0, 1, 2, 3, 4, 5, 6, 7, 8, 9, 10, 11, 12, 13, 14, 15, 16, 17, 18, 19, 20, 21, 22, 23, 24, 25, 26]\n",
      "['a', 'b', 'c', 'd']\n"
     ]
    }
   ],
   "source": [
    "valores = list(range(0,27))\n",
    "letras = [' ', 'a', 'b', 'c', 'd', 'e', 'f', 'g', 'h', 'i', 'j', 'k', 'l', 'm', 'n', 'o', 'p', 'q', 'r', 's', 't', 'u', 'v', 'w', 'x', 'y', 'z']\n",
    "\n",
    "codigo = int(input(\"Insira 1 para criptografar ou 2 para descriptografar: \"))\n",
    "\n",
    "resultado = []\n",
    "mensagem = []\n",
    "contador = 0\n",
    "if codigo == 1:\n",
    "    mensagem = input(\"Insira a mensagem: \")\n",
    "    for i in mensagem:\n",
    "        resultado.append(valores[letras.index(i)])\n",
    "elif codigo == 2:\n",
    "    contador = int(input(\"Insira quantos números tem a mensagem: \"))\n",
    "    for i in range (contador):\n",
    "        mensagem.append(int(input()))\n",
    "    for i in mensagem:\n",
    "        resultado.append(letras[valores.index(i)])\n",
    "\n",
    "print(resultado)\n",
    "\n",
    "    "
   ]
  },
  {
   "cell_type": "markdown",
   "metadata": {
    "colab_type": "text",
    "id": "5P_-GT5pSJGc"
   },
   "source": [
    "8 - Construa um lançador de dados em que o usuário possa escolher a quantidade de faces e a quantidade de dados lançados. Armazene todos os resultados em uma lista na qual o índice corresponde a face do dado, e mostre o resultado de cada lançameto e a soma das faces. ##(Gabi)"
   ]
  },
  {
   "cell_type": "code",
   "execution_count": 124,
   "metadata": {
    "colab": {},
    "colab_type": "code",
    "id": "VbjyAojZQTpy"
   },
   "outputs": [
    {
     "name": "stdout",
     "output_type": "stream",
     "text": [
      "O lançamento 1 foi:  1\n",
      "O lançamento 2 foi:  9\n",
      "O lançamento 3 foi:  6\n",
      "O lançamento 4 foi:  1\n",
      "O lançamento 5 foi:  5\n",
      "O lançamento 6 foi:  6\n",
      "O lançamento 7 foi:  10\n",
      "O total foi:  38\n"
     ]
    }
   ],
   "source": [
    "from random import randint\n",
    "faces = int(input())\n",
    "qtd = int(input())\n",
    "resultados = []\n",
    "for i in range (faces+1):\n",
    "    resultados.append(0)\n",
    "\n",
    "for i in range (qtd):\n",
    "    lancamento = randint(1,faces)\n",
    "    print(\"O lançamento\", i+1, \"foi: \", lancamento)\n",
    "    resultados[lancamento] += 1\n",
    "\n",
    "soma_lancamentos = 0\n",
    "for i in range (faces+1):\n",
    "    soma_lancamentos += i * resultados[i]\n",
    "\n",
    "print(\"O total foi: \", soma_lancamentos)\n"
   ]
  },
  {
   "cell_type": "markdown",
   "metadata": {
    "colab_type": "text",
    "id": "qyJl-gYu47b-"
   },
   "source": [
    "9 - Faça uma função que receba uma lista de números armazenados de forma \n",
    "crescente, e dois \n",
    "valores ( limite inferior e limite superior), e \n",
    "exiba\n",
    "a sublista cujos elementos são maiores ou iguais  ao  \n",
    "limite inferior e menores ou iguais ao limite superior\n",
    "\n",
    "Exemplo: \n",
    "\n",
    "lista inicial=[12,14,15,16,18,20,24,26,28,32,34,38] \n",
    "\n",
    "limite inferior=13\n",
    "\n",
    "limite superior = 26\n",
    "\n",
    "lista \n",
    "exibida: \n",
    "[14,15,16,18,20,24,26] ##Martins"
   ]
  },
  {
   "cell_type": "code",
   "execution_count": 166,
   "metadata": {
    "colab": {},
    "colab_type": "code",
    "id": "yRhOZC6U8qh2"
   },
   "outputs": [
    {
     "name": "stdout",
     "output_type": "stream",
     "text": [
      "[18, 20, 24, 26, 28]\n"
     ]
    }
   ],
   "source": [
    "lista =[12,14,15,16,18,20,24,26,28,32,34,38] \n",
    "\n",
    "lim_in = int(input())\n",
    "lim_sup = int(input())\n",
    "\n",
    "tam = len(lista)\n",
    "i = 0\n",
    "while i <= tam-1:\n",
    "    if lista[i] < lim_in or lista[i] > lim_sup:\n",
    "        lista.remove(lista[i])\n",
    "        tam -= 1\n",
    "    else:\n",
    "        i += 1    \n",
    "\n",
    "print(lista)"
   ]
  },
  {
   "cell_type": "markdown",
   "metadata": {
    "colab_type": "text",
    "id": "lUycSudNQLwL"
   },
   "source": [
    "11 - Uma empresa de pesquisas precisa tabular os resultados da seguinte enquete feita a um grande quantidade de organizações:\n",
    "\"Qual o melhor Sistema Operacional para uso em servidores?\"\n",
    "\n",
    "As possíveis respostas são:\n",
    "\n",
    "1. Windows Server\n",
    "2. Unix\n",
    "3. Linux\n",
    "4. Netware\n",
    "5. Mac OS\n",
    "6. Outro\n",
    "\n",
    "Você foi contratado para desenvolver um programa que leia o resultado da enquete e informe ao final o resultado da mesma. O programa deverá ler os valores até ser informado o valor 0, que encerra a entrada dos dados. Não deverão ser aceitos valores além dos válidos para o programa (0 a 6). Após os dados terem sido completamente informados, o programa deverá calcular a percentual de cada um dos concorrentes e informar o vencedor da enquete. O formato da saída foi dado pela empresa, e é o seguinte:\n",
    "\n",
    "\n",
    "Sistema Operacional /  Votos / %\n",
    "\n",
    "* Windows Server / 1500 / 17%\n",
    "* Unix / 3500 / 40%\n",
    "* Linux / 3000 / 34%\n",
    "* Netware / 500 / 5%\n",
    "* Mac OS / 150 / 2%\n",
    "* Outro / 150 / 2%\n",
    "\n",
    "Total = 8800\n",
    "\n",
    "O Sistema Operacional mais votado foi o Unix, com 3500 votos, correspondendo a 40% dos votos."
   ]
  },
  {
   "cell_type": "code",
   "execution_count": 180,
   "metadata": {
    "colab": {},
    "colab_type": "code",
    "id": "cRBgBk3oQUNW"
   },
   "outputs": [
    {
     "name": "stdout",
     "output_type": "stream",
     "text": [
      "Sistema Operacional / Votos / %\n",
      "Windows Server / 4  / 14.29 %\n",
      "Unix / 5 / 17.86 %\n",
      "Linux / 10 / 35.71 %\n",
      "Netware / 4 / 14.29 %\n",
      "Mac OS / 3 / 10.71 %\n",
      "Outro / 2 / 7.14 %\n"
     ]
    }
   ],
   "source": [
    "lista = [0, 0, 0, 0, 0, 0]\n",
    "\n",
    "voto = 1\n",
    "while voto != 0:\n",
    "    voto = int(input())\n",
    "    if (voto == 0):\n",
    "        break\n",
    "    if(voto < 0 or voto > 6):\n",
    "        print(\"Entrada Inválida!\")\n",
    "        continue\n",
    "    lista[voto-1] += 1\n",
    "\n",
    "total = sum(lista)\n",
    "\n",
    "pct = []\n",
    "for i in range (len(lista)):\n",
    "    pct.append((100 * lista[i]) / total)\n",
    "\n",
    "print(\"Sistema Operacional / Votos / %\")\n",
    "print(\"Windows Server /\", lista[0], \" /\", \"%.2f\" % pct[0], \"%\")\n",
    "print(\"Unix /\", lista[1], \"/\", \"%.2f\" % pct[1], \"%\")\n",
    "print(\"Linux /\", lista[2], \"/\", \"%.2f\" % pct[2], \"%\")\n",
    "print(\"Netware /\", lista[3], \"/\", \"%.2f\" % pct[3], \"%\")\n",
    "print(\"Mac OS /\", lista[4], \"/\", \"%.2f\" % pct[4], \"%\")\n",
    "print(\"Outro /\", lista[5], \"/\", \"%.2f\" % pct[5], \"%\")"
   ]
  }
 ],
 "metadata": {
  "colab": {
   "collapsed_sections": [],
   "name": "Listas.ipynb",
   "provenance": [],
   "toc_visible": true,
   "version": "0.3.2"
  },
  "interpreter": {
   "hash": "e7370f93d1d0cde622a1f8e1c04877d8463912d04d973331ad4851f04de6915a"
  },
  "kernelspec": {
   "display_name": "Python 3.9.7 64-bit",
   "name": "python3"
  },
  "language_info": {
   "codemirror_mode": {
    "name": "ipython",
    "version": 3
   },
   "file_extension": ".py",
   "mimetype": "text/x-python",
   "name": "python",
   "nbconvert_exporter": "python",
   "pygments_lexer": "ipython3",
   "version": "3.9.7"
  }
 },
 "nbformat": 4,
 "nbformat_minor": 1
}
