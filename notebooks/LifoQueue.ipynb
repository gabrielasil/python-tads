{
  "cells": [
    {
      "cell_type": "markdown",
      "metadata": {
        "colab_type": "text",
        "id": "view-in-github"
      },
      "source": [
        "<a href=\"https://colab.research.google.com/github/joaovdxavier/python-tads/blob/master/Pilhas_Python.ipynb\" target=\"_parent\"><img src=\"https://colab.research.google.com/assets/colab-badge.svg\" alt=\"Open In Colab\"/></a>"
      ]
    },
    {
      "cell_type": "markdown",
      "metadata": {
        "colab_type": "text",
        "id": "2WrGReSHNepQ"
      },
      "source": [
        "# Pilhas: conceitos iniciais"
      ]
    },
    {
      "cell_type": "markdown",
      "metadata": {
        "colab_type": "text",
        "id": "z2JdSK3GJY00"
      },
      "source": [
        "Uma **pilha** é um tipo de dado abstrato muito utilizado em computação. Seu nome é devido a analogia do comportamento dessa estrutura com uma pilhas de objetos no mundo real. \n",
        "\n",
        "Considere, por exemplo, uma pilha de cartas, onde uma nova carta adicionada é **sempre adicionada ao topo da pilha**, e qualquer carta que venha a ser retirada é **sempre retirada do topo da pilha**.\n",
        "\n",
        "Dessa forma, podemos pensar em uma pilha como uma lista dinâmica em que as** operações são realizadas sempre no topo** (na mesma extremidade).\n",
        "\n",
        "Portanto, em uma estrutura do tipo pilha, o **último elemento inserido é o primeiro a ser removido** ou consultado. Essa estrutura também é conhecida como** LIFO**, do inglês last-in first-out.\n"
      ]
    },
    {
      "cell_type": "markdown",
      "metadata": {
        "colab_type": "text",
        "id": "iF3ODX8eFEDt"
      },
      "source": [
        "# Pilhas em Python\n"
      ]
    },
    {
      "cell_type": "markdown",
      "metadata": {
        "colab_type": "text",
        "id": "S954EGRXGIbW"
      },
      "source": [
        "##Pilhas Usando listas"
      ]
    },
    {
      "cell_type": "markdown",
      "metadata": {
        "colab_type": "text",
        "id": "iGD5XQYLl_zA"
      },
      "source": [
        "\n",
        "No Python podemos implementar uma pilha de forma rudimentar usando uma lista, pois essa estrutura de dados nos oferece métodos para que possamos realizar as operações necessárias na nossa pilha.\n",
        "\n",
        "Os seguintes métodos serão uteis na implementação de pilhas em Python:\n",
        "\n",
        "\n",
        "* list.**append(x)** : adicina um item no final da lista, onde x = item a ser adicionado.\n",
        "* list.**pop()**: remove um item do final da lista.\n",
        "* list**[-1]**: acessa o item que esta no final da lista(topo da pilha).\n",
        "* **len(lista)**: retorna o tamanho atual da lista. "
      ]
    },
    {
      "cell_type": "markdown",
      "metadata": {
        "colab_type": "text",
        "id": "jtAHjoXyJeIq"
      },
      "source": [
        "Criando e adicionando itens a pilha."
      ]
    },
    {
      "cell_type": "code",
      "execution_count": 1,
      "metadata": {
        "colab": {
          "base_uri": "https://localhost:8080/",
          "height": 34
        },
        "colab_type": "code",
        "id": "vRZHq3GTGmPh",
        "outputId": "4c10e549-4e51-46f6-9905-5fb0ed177ee7"
      },
      "outputs": [
        {
          "name": "stdout",
          "output_type": "stream",
          "text": [
            "[1, 2]\n"
          ]
        }
      ],
      "source": [
        "pilha = [] #criando uma lista/pilha vazia.\n",
        "pilha.append(1) #adiciona um item no final da lista/topo da pilha\n",
        "pilha.append(2) #adiciona um item no final da lista/topo da pilha\n",
        "print(pilha)"
      ]
    },
    {
      "cell_type": "markdown",
      "metadata": {
        "colab_type": "text",
        "id": "qsAYb1rpJlA1"
      },
      "source": [
        "Removendo itens do topo da pilha."
      ]
    },
    {
      "cell_type": "code",
      "execution_count": 2,
      "metadata": {
        "colab": {
          "base_uri": "https://localhost:8080/",
          "height": 51
        },
        "colab_type": "code",
        "id": "vTi4vXoZJr9L",
        "outputId": "bdc37390-8714-4b3a-c584-e61e6a318842"
      },
      "outputs": [
        {
          "name": "stdout",
          "output_type": "stream",
          "text": [
            "Pilha antes da remoção:  [1, 2]\n",
            "Pilha depois da remoção:  [1]\n"
          ]
        }
      ],
      "source": [
        "print(\"Pilha antes da remoção: \", pilha)\n",
        "pilha.pop() #removendo item do topo da pilha\n",
        "print(\"Pilha depois da remoção: \", pilha)"
      ]
    },
    {
      "cell_type": "markdown",
      "metadata": {
        "colab_type": "text",
        "id": "1Kuxen25KfF7"
      },
      "source": [
        "Acessando o item que esta no topo da pilha."
      ]
    },
    {
      "cell_type": "code",
      "execution_count": 3,
      "metadata": {
        "colab": {
          "base_uri": "https://localhost:8080/",
          "height": 34
        },
        "colab_type": "code",
        "id": "Phfee2J7KmH6",
        "outputId": "5f5bf730-8920-441b-9591-e8b0740c283d"
      },
      "outputs": [
        {
          "name": "stdout",
          "output_type": "stream",
          "text": [
            "3\n"
          ]
        }
      ],
      "source": [
        "pilha.append(3)\n",
        "print(pilha[-1])#Acessando o item do topo da pilha"
      ]
    },
    {
      "cell_type": "markdown",
      "metadata": {
        "colab_type": "text",
        "id": "5LbB9fazKwg9"
      },
      "source": [
        "Verificando o tamanho da pilha. "
      ]
    },
    {
      "cell_type": "code",
      "execution_count": 4,
      "metadata": {
        "colab": {
          "base_uri": "https://localhost:8080/",
          "height": 34
        },
        "colab_type": "code",
        "id": "5-rUaLCiK3Pk",
        "outputId": "6b2b32f7-039b-4645-a37b-078d0bd16bd6"
      },
      "outputs": [
        {
          "name": "stdout",
          "output_type": "stream",
          "text": [
            "2\n"
          ]
        }
      ],
      "source": [
        "print(len(pilha))"
      ]
    },
    {
      "cell_type": "markdown",
      "metadata": {
        "colab_type": "text",
        "id": "QLGwGbgwK-eq"
      },
      "source": [
        "**Dica**: Sempre é bom verificar o tamanho da pilha antes de remover um item dela."
      ]
    },
    {
      "cell_type": "markdown",
      "metadata": {
        "colab_type": "text",
        "id": "pOknPfvEZfpo"
      },
      "source": [
        "###Exercicios de Fixação"
      ]
    },
    {
      "cell_type": "markdown",
      "metadata": {
        "colab_type": "text",
        "id": "yOT_8YXuPQtC"
      },
      "source": [
        "1 - Elabore um programa e as TADs necessárias, sem usar pilha, que simule uma\n",
        "sequência de operações Empilha (push) e Desempilha (pop), e determine se está\n",
        "ocorrendo um underflow (tentativa de Desempilhar em uma pilha vazia) ou não em\n",
        "alguma operação Desempilha. "
      ]
    },
    {
      "cell_type": "code",
      "execution_count": 14,
      "metadata": {
        "colab": {},
        "colab_type": "code",
        "id": "J4BPWz_4ZqMd"
      },
      "outputs": [
        {
          "name": "stdout",
          "output_type": "stream",
          "text": [
            "Após adicionar: [1]\n",
            "Após retirar: []\n",
            "Pilha vazia!\n",
            "Após adicionar: [1]\n",
            "Após retirar: []\n"
          ]
        }
      ],
      "source": [
        "from random import randint\n",
        "\n",
        "lista = []\n",
        "\n",
        "for i in range (5):\n",
        "    op = randint(1,2)\n",
        "    if op == 1:\n",
        "        lista.append(1)\n",
        "        print(\"Após adicionar:\", lista)\n",
        "    else:\n",
        "        if(len(lista)> 0):\n",
        "            lista.pop()\n",
        "            print(\"Após retirar:\", lista)\n",
        "        else:\n",
        "            print(\"Pilha vazia!\")\n",
        "\n"
      ]
    },
    {
      "cell_type": "markdown",
      "metadata": {
        "colab_type": "text",
        "id": "EdT02YrLmw57"
      },
      "source": [
        "2 - Utilizando os métodos append() e pop() de listas, escreva uma função bem_formada() que recebe um string s contendo apenas os caracteres **(,**  **)**, **[**,  **]**,  devolve True caso a expressão estiver bem formada e False caso contrário."
      ]
    },
    {
      "cell_type": "code",
      "execution_count": 185,
      "metadata": {
        "colab": {},
        "colab_type": "code",
        "id": "GZAOHDcLZq09"
      },
      "outputs": [
        {
          "name": "stdout",
          "output_type": "stream",
          "text": [
            "Pilha final =  ['(', ')', '(', ')']\n",
            "A pilha final é bem formada.\n"
          ]
        }
      ],
      "source": [
        "from random import randint\n",
        "\n",
        "verify1 = 0\n",
        "verify2 = 0\n",
        "\n",
        "def bem_formada(s):\n",
        "    global verify1\n",
        "    global verify2\n",
        "    if s[-1] == '(' and verify1 <= 0:\n",
        "        verify1 -= 1\n",
        "    if s[-1] == ')':\n",
        "        verify1 += 1\n",
        "    if s[-1] == '[' and verify2 <= 0:\n",
        "        verify2 -= 1\n",
        "    if s[-1] == ']':\n",
        "        verify2 += 1\n",
        "\n",
        "    if verify1 == 0 and verify2 == 0:\n",
        "        return True\n",
        "    else:\n",
        "        return False\n",
        "\n",
        "\n",
        "s = []\n",
        "flag = None\n",
        "for i in range (4):\n",
        "    valor = randint(1,4)\n",
        "    if(valor == 1):\n",
        "        s.append('(')\n",
        "        flag = bem_formada(s)\n",
        "    if(valor == 2):\n",
        "        s.append(')')\n",
        "        flag = bem_formada(s)\n",
        "    if(valor == 3):\n",
        "        s.append('[')\n",
        "        flag = bem_formada(s)\n",
        "    if(valor == 4):\n",
        "        s.append(']')\n",
        "        flag = bem_formada(s)\n",
        "\n",
        "print(\"Pilha final = \", s)\n",
        "if(flag):\n",
        "    print(\"A pilha final é bem formada.\")\n",
        "else:\n",
        "    print(\"A pilha final não é bem formada.\")"
      ]
    },
    {
      "cell_type": "markdown",
      "metadata": {
        "colab_type": "text",
        "id": "sE9BVulIGa5p"
      },
      "source": [
        "##Usando Queue.py"
      ]
    },
    {
      "cell_type": "markdown",
      "metadata": {
        "colab_type": "text",
        "id": "85A7w1isnrHc"
      },
      "source": [
        "Uma maneira mais segura de implementar uma pilha é usando a classe  queue.LifoQueue da library queue.py. Os metodos a abaixo serão utilizados na manipilação e verificação da pilha.\n",
        "\n",
        "* **Queue.qsize()**: retorna o tamanho da pilha.\n",
        "* **Queue.empty()**: retorna True(verdadeiro) se a pilha estiver vazia, False(falso) caso contrario.\n",
        "* **Queue.full()**: returna True(verdadeiro) se a pilha estiver cheia, False(falso) caso contrario.\n",
        "* **Queue.put(item)**: coloca um item na pilha(topo).\n",
        "* **Queue.get()**: remove e retorna o item que esta no topo da pilha.\n",
        "\n",
        "Onde, Queue = nome da pilha."
      ]
    },
    {
      "cell_type": "markdown",
      "metadata": {
        "colab_type": "text",
        "id": "mNpFsAhgquTZ"
      },
      "source": [
        "No código abaixo criamos uma variavel do tipo queue.LifoQueue."
      ]
    },
    {
      "cell_type": "code",
      "execution_count": 179,
      "metadata": {
        "colab": {},
        "colab_type": "code",
        "id": "0F6D0TFGq-ij"
      },
      "outputs": [],
      "source": [
        "from queue import LifoQueue\n",
        "pilha = LifoQueue()"
      ]
    },
    {
      "cell_type": "markdown",
      "metadata": {
        "colab_type": "text",
        "id": "SlpVetlsroGP"
      },
      "source": [
        "Verificando se a pilha esta vazia."
      ]
    },
    {
      "cell_type": "code",
      "execution_count": 186,
      "metadata": {
        "colab": {
          "base_uri": "https://localhost:8080/",
          "height": 34
        },
        "colab_type": "code",
        "id": "DKeyjoyMr0K0",
        "outputId": "fd403779-1142-464c-8da9-c9dd817e737f"
      },
      "outputs": [
        {
          "name": "stdout",
          "output_type": "stream",
          "text": [
            "True\n"
          ]
        }
      ],
      "source": [
        "print(pilha.empty())"
      ]
    },
    {
      "cell_type": "markdown",
      "metadata": {
        "colab_type": "text",
        "id": "WmLlS_-RsAA0"
      },
      "source": [
        "Adicionado um item ao topo da pilha."
      ]
    },
    {
      "cell_type": "code",
      "execution_count": 187,
      "metadata": {
        "colab": {},
        "colab_type": "code",
        "id": "iJRCftG_sEgH"
      },
      "outputs": [],
      "source": [
        "pilha.put(\"teste\")"
      ]
    },
    {
      "cell_type": "markdown",
      "metadata": {
        "colab_type": "text",
        "id": "MEOr9rH8spgY"
      },
      "source": [
        "Agora vamos verificar se a pilha esta vazia, depois o usar o metodo get para remover e retornar o item que esta no topo da pilha e verificar se ela esta vazia novamente."
      ]
    },
    {
      "cell_type": "code",
      "execution_count": 188,
      "metadata": {
        "colab": {
          "base_uri": "https://localhost:8080/",
          "height": 68
        },
        "colab_type": "code",
        "id": "XNq-29ICs6QQ",
        "outputId": "9938be82-2d30-4f03-deeb-531509e69488"
      },
      "outputs": [
        {
          "name": "stdout",
          "output_type": "stream",
          "text": [
            "False\n",
            "teste\n",
            "True\n"
          ]
        }
      ],
      "source": [
        "print(pilha.empty())\n",
        "print(pilha.get())\n",
        "print(pilha.empty())"
      ]
    },
    {
      "cell_type": "markdown",
      "metadata": {
        "colab_type": "text",
        "id": "9p9I8NtPudLy"
      },
      "source": [
        "**OBS**: não utilize o metodo **get** em uma pilha vazia."
      ]
    },
    {
      "cell_type": "markdown",
      "metadata": {
        "colab_type": "text",
        "id": "WLFrNphluwqq"
      },
      "source": [
        "Por fim, adicionamos itens a pilha e verificamos o seu tamanho a cada adição."
      ]
    },
    {
      "cell_type": "code",
      "execution_count": 189,
      "metadata": {
        "colab": {
          "base_uri": "https://localhost:8080/",
          "height": 68
        },
        "colab_type": "code",
        "id": "IDVKpFAvu8De",
        "outputId": "cad30672-df52-44ca-f18d-ce9d2ffc324f"
      },
      "outputs": [
        {
          "name": "stdout",
          "output_type": "stream",
          "text": [
            "1\n",
            "2\n",
            "3\n"
          ]
        }
      ],
      "source": [
        "pilha.put(\"teste1\")\n",
        "print(pilha.qsize())\n",
        "pilha.put(\"teste2\")\n",
        "print(pilha.qsize())\n",
        "pilha.put(\"teste3\")\n",
        "print(pilha.qsize())"
      ]
    },
    {
      "cell_type": "markdown",
      "metadata": {
        "colab_type": "text",
        "id": "QG_Asqm4Iojs"
      },
      "source": [
        "###Exercicios de Fixação"
      ]
    },
    {
      "cell_type": "markdown",
      "metadata": {
        "colab_type": "text",
        "id": "d9uh5po7KWS7"
      },
      "source": [
        "1 - Crie uma função que receba um número n e armazene todos os resultados da operação fatoria de 1 até n em um pilha usando a classe queue.LifoQueue.\n",
        "\n",
        "Exemplo:\n",
        "* Valor de n: 4\n",
        "* Valores armazendos: 1! , 2! , 3! , 4!\n",
        "\n",
        "**Sugestão:** Usar o Queue.get() e imprimir os valores "
      ]
    },
    {
      "cell_type": "code",
      "execution_count": 201,
      "metadata": {
        "colab": {},
        "colab_type": "code",
        "id": "RMa7MTrNJQGn"
      },
      "outputs": [
        {
          "name": "stdout",
          "output_type": "stream",
          "text": [
            "120\n",
            "24\n",
            "6\n",
            "2\n",
            "1\n"
          ]
        }
      ],
      "source": [
        "from queue import LifoQueue\n",
        "pilha = LifoQueue()\n",
        "\n",
        "n = int(input())\n",
        "topo = 1\n",
        "for i in range (1, n+1):\n",
        "    if pilha.qsize() >= 1:\n",
        "        topo = topo * i\n",
        "        pilha.put(topo)\n",
        "    else:\n",
        "        pilha.put(1)\n",
        "\n",
        "for i in range (0, pilha.qsize()):\n",
        "    print(pilha.get())"
      ]
    },
    {
      "cell_type": "markdown",
      "metadata": {
        "colab_type": "text",
        "id": "jakEF9ztMl3Z"
      },
      "source": [
        "2 - Use as operações/funções Empilha (push), Desempilha (pop) e Vazia (Empty) para construir operações que façam o seguinte:\n",
        "\n",
        "* Dado um inteiro n, definir o item i como o n-ésimo elemento a partir do topo da pilha, deixando a pilha sem seus n elementos superiores (obs: no final, o item i será o topo da pilha).\n",
        "* Dado um inteiro n, definir o item i como o n-ésimo elemento a partir do topo da pilha, deixando a pilha inalterada.\n",
        "* Dado um item i, deixar a pilha somente com o item i."
      ]
    },
    {
      "cell_type": "code",
      "execution_count": null,
      "metadata": {
        "colab": {},
        "colab_type": "code",
        "id": "0HqfZcuWPRfT"
      },
      "outputs": [],
      "source": [
        "n = int(input())\n",
        "\n",
        "# não entendi a questão"
      ]
    },
    {
      "cell_type": "markdown",
      "metadata": {
        "colab_type": "text",
        "id": "Atdthd1tjZ1b"
      },
      "source": [
        "# Importância e usos gerais\n",
        "\n",
        "Como as pilhas utilizam bibliotecas de outros tipos de dados abstratos, como as **listas**  e também sua própria biblioteca **lifoQueue()**, podemos dizer que elas (as pilhas), servem para abstrair certos tipos de problemas da realidade. "
      ]
    },
    {
      "cell_type": "markdown",
      "metadata": {
        "colab_type": "text",
        "id": "EyCho6tzjZmr"
      },
      "source": [
        "## Chamadas de função\n",
        "Talvez a mais famosa utilização de pilhas em computação esteja no gerenciamento de chamadas de função de um programa. Uma pilha pode ser usada para manter informações sobre as funções de um programa que estejam ativas, aguardando por serem terminadas. Considere o seguinte exemplo:"
      ]
    },
    {
      "cell_type": "code",
      "execution_count": 202,
      "metadata": {
        "colab": {},
        "colab_type": "code",
        "id": "h20mAuaEklND"
      },
      "outputs": [
        {
          "name": "stdout",
          "output_type": "stream",
          "text": [
            "olá, \n",
            "mundo!\n"
          ]
        }
      ],
      "source": [
        "def ola():\n",
        "    print(\"olá, \")\n",
        "    mundo()\n",
        " \n",
        "def mundo():\n",
        "    print(\"mundo!\")\n",
        " \n",
        "def olamundo():\n",
        "    ola()\n",
        " \n",
        "olamundo()"
      ]
    },
    {
      "cell_type": "markdown",
      "metadata": {
        "colab_type": "text",
        "id": "0WlZ-DrNk4Vz"
      },
      "source": [
        "A primeira função a ser chamada é a olamundo(), que por sua vez chama a função ola(), então a função olamundo() é empilhada, pois seu término depende do término da função ola(). \n",
        "\n",
        "Essa, por sua vez, chama a função mundo() e é empilhada. Ao terminar a execução da função mundo(), a função ola() é desempilhada e sua execução termina de onde havia parado (chamada à função mundo()). \n",
        "\n",
        "Como não há mais nada a ser executado nessa função, sua execução termina, e a função olamundo()é desempilhada e sua execução continua, encerrando assim o programa."
      ]
    },
    {
      "cell_type": "markdown",
      "metadata": {
        "colab_type": "text",
        "id": "lySiRm1bl6xb"
      },
      "source": [
        "## Checagem de parênteses \n",
        "Outra utilização de pilhas é a verificação do balanceamento de parênteses. Como saber se os seguintes parênteses estão balanceados, isto é, se para cada abre-parênteses, existe um fecha-parênteses correspondente?\n",
        "\n",
        "(((((((((((((((((()()()()))))))())))()))()))()))((()))))\n",
        "\n",
        "Uma forma bem simples de resolver esse problema é ler a sequência de parênteses, um por um e, a cada abre-parênteses que encontrarmos, vamos empilhá-lo. \n",
        "\n",
        "Quando encontrarmos um fecha-parênteses, devemos desempilhar um abre-parênteses, pois encontramos um fecha-parênteses correspondente a ele. \n",
        "\n",
        "Assim, ao final da avaliação da sequência acima, se ela estiver balanceada corretamente, não restarão elementos na pilha."
      ]
    },
    {
      "cell_type": "markdown",
      "metadata": {
        "colab_type": "text",
        "id": "PS2DgbYZ_r4R"
      },
      "source": [
        "# Exercicios"
      ]
    },
    {
      "cell_type": "markdown",
      "metadata": {
        "colab_type": "text",
        "id": "2Z49BLX9AGn-"
      },
      "source": [
        "1 - Utilizando uma pilha, escreva uma progama que recebe um número interio positivo e converte para binário puro.\n",
        "\n",
        "Exemplos:\n",
        "\n",
        "5 → 101\n",
        "\n",
        "13 → 1101\n",
        "\n",
        "1 → 1"
      ]
    },
    {
      "cell_type": "markdown",
      "metadata": {
        "colab_type": "text",
        "id": "EXEeuc0sxgKr"
      },
      "source": [
        "Resolução:"
      ]
    },
    {
      "cell_type": "code",
      "execution_count": 203,
      "metadata": {
        "colab": {
          "base_uri": "https://localhost:8080/",
          "height": 51
        },
        "colab_type": "code",
        "id": "Ui0VbK3BuTMY",
        "outputId": "4ce3a316-67fe-4c0f-807a-94ac51be1924"
      },
      "outputs": [
        {
          "name": "stdout",
          "output_type": "stream",
          "text": [
            "O número 10 em binario: 1010"
          ]
        }
      ],
      "source": [
        "import queue\n",
        "\n",
        "binario = queue.LifoQueue()\n",
        "n = int(input(\"Digite um número inteiro: \"))\n",
        "print(\"O número {} em binario:\".format(n), end=\" \")\n",
        "\n",
        "while n >= 2:\n",
        "  binario.put(n % 2)\n",
        "  n = n // 2\n",
        "binario.put(1)\n",
        "\n",
        "while not binario.empty():\n",
        "  print(binario.get(), end=\"\")"
      ]
    },
    {
      "cell_type": "markdown",
      "metadata": {
        "colab_type": "text",
        "id": "bsER7jm7zLdc"
      },
      "source": [
        "2 - Utilizando as operações de manipulação de pilhas vistas em sala, uma pilha auxiliar e\n",
        "uma variável do tipo TipoItem, escreva um procedimento que remove um item com\n",
        "chave c de uma posição qualquer de uma pilha. \n",
        "\n",
        "Note que você não tem acesso à\n",
        "estrutura interna da pilha (topo, item, etc), apenas às operações de manipulação."
      ]
    },
    {
      "cell_type": "code",
      "execution_count": 230,
      "metadata": {
        "colab": {},
        "colab_type": "code",
        "id": "CTAYFr7xzLAR"
      },
      "outputs": [
        {
          "name": "stdout",
          "output_type": "stream",
          "text": [
            "10\n",
            "9\n",
            "8\n",
            "6\n",
            "5\n",
            "4\n",
            "3\n",
            "2\n",
            "1\n"
          ]
        }
      ],
      "source": [
        "import queue\n",
        "\n",
        "pilha = queue.LifoQueue()\n",
        "pilha_aux = queue.LifoQueue()\n",
        "\n",
        "for i in range (10):\n",
        "    pilha.put(i + 1)\n",
        "\n",
        "n = int(input(\"Insira o numero de 1 a 10 a ser removido da pilha\"))\n",
        "\n",
        "for i in range (10 - n):\n",
        "    pilha_aux.put(pilha.get())\n",
        "\n",
        "pilha.get()\n",
        "\n",
        "for i in range (pilha_aux.qsize()):\n",
        "    pilha.put(pilha_aux.get())\n",
        "\n",
        "for i in range (pilha.qsize()):\n",
        "    print(pilha.get())"
      ]
    },
    {
      "cell_type": "markdown",
      "metadata": {
        "colab_type": "text",
        "id": "zK7wL76rDBiZ"
      },
      "source": [
        "3 - Considere que um editor de texto representa os caracteres digitados como uma\n",
        "pilha, sendo que o último caracter lido fica no topo\n",
        "\n",
        "* Alguns comandos apagam caracteres. Por exemplo, o backspace apaga o último caractere\n",
        "lido\n",
        "\n",
        "* Alguns comandos apagam tudo o que já foi lido anteriormente\n",
        "\n",
        "* Considere que, no seu editor, # representa backspacee @ indica “apagar tudo”\n",
        "\n",
        "* Faça um programa que execute essas ações usando o TAD pilha"
      ]
    },
    {
      "cell_type": "code",
      "execution_count": 259,
      "metadata": {
        "colab": {},
        "colab_type": "code",
        "id": "ZU2TqJq0DOrN"
      },
      "outputs": [
        {
          "name": "stdout",
          "output_type": "stream",
          "text": [
            "7\n",
            "6\n",
            "5\n",
            "4\n",
            "3\n",
            "2\n",
            "1\n"
          ]
        }
      ],
      "source": [
        "import queue\n",
        "\n",
        "pilha = queue.LifoQueue()\n",
        "\n",
        "for i in range (10):\n",
        "    pilha.put(i + 1)\n",
        "\n",
        "tam = pilha.qsize()\n",
        "\n",
        "comando = 3\n",
        "while comando == 3 or comando == 2:\n",
        "    comando = int(input())\n",
        "    if comando == 3:\n",
        "        pilha.get()\n",
        "        tam -= 1\n",
        "    if comando == 2:\n",
        "        for i in range (pilha.qsize()):\n",
        "            pilha.get()\n",
        "        tam = 0\n",
        "\n",
        "for i in range (pilha.qsize()):\n",
        "    print(pilha.get())"
      ]
    },
    {
      "cell_type": "markdown",
      "metadata": {
        "colab_type": "text",
        "id": "5yKsy4b7DQtI"
      },
      "source": [
        "4 - Às vezes, na aritmética tradicional, faz-se necessário usar parênteses para dar o significado\n",
        "correto à expressão. Por exemplo\n",
        "\n",
        "* A*B-C/D equivale a: (A*B)-(C/D)\n",
        "\n",
        "\n",
        "Na notação polonesa reversa (posfixa), os operadores aparecem depois dos operandos e dispensa parênteses\n",
        " \n",
        " * Exemplo: AB*CD/-\n",
        "\n",
        "Interpretação da notação posfixa usando pilha:\n",
        "\n",
        "* Empilha operandos até encontrar um operador;\n",
        "* Retira os operandos, calcula e empilha o resultado;\n",
        "* Até que se chegue ao final da expressão.\n",
        "\n",
        "Implemente uma função que calcule o valor de uma expressão posfixa passada\n",
        "por parâmetro utilizando uma pilha"
      ]
    },
    {
      "cell_type": "code",
      "execution_count": null,
      "metadata": {
        "colab": {},
        "colab_type": "code",
        "id": "v6WJUB2rE7SN"
      },
      "outputs": [],
      "source": []
    }
  ],
  "metadata": {
    "colab": {
      "collapsed_sections": [],
      "include_colab_link": true,
      "name": "Pilhas-Python.ipynb",
      "provenance": [],
      "toc_visible": true,
      "version": "0.3.2"
    },
    "interpreter": {
      "hash": "e7370f93d1d0cde622a1f8e1c04877d8463912d04d973331ad4851f04de6915a"
    },
    "kernelspec": {
      "display_name": "Python 3.9.7 64-bit",
      "name": "python3"
    },
    "language_info": {
      "codemirror_mode": {
        "name": "ipython",
        "version": 3
      },
      "file_extension": ".py",
      "mimetype": "text/x-python",
      "name": "python",
      "nbconvert_exporter": "python",
      "pygments_lexer": "ipython3",
      "version": "3.9.7"
    }
  },
  "nbformat": 4,
  "nbformat_minor": 0
}
